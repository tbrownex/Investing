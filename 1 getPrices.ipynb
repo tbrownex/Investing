{
 "cells": [
  {
   "cell_type": "code",
   "execution_count": 1,
   "id": "5b96d0e3",
   "metadata": {},
   "outputs": [
    {
     "ename": "ModuleNotFoundError",
     "evalue": "No module named 'pandas'",
     "output_type": "error",
     "traceback": [
      "\u001b[0;31m---------------------------------------------------------------------------\u001b[0m",
      "\u001b[0;31mModuleNotFoundError\u001b[0m                       Traceback (most recent call last)",
      "Cell \u001b[0;32mIn[1], line 3\u001b[0m\n\u001b[1;32m      1\u001b[0m \u001b[38;5;28;01mimport\u001b[39;00m \u001b[38;5;21;01mrequests\u001b[39;00m\n\u001b[1;32m      2\u001b[0m \u001b[38;5;28;01mimport\u001b[39;00m \u001b[38;5;21;01mjson\u001b[39;00m\n\u001b[0;32m----> 3\u001b[0m \u001b[38;5;28;01mimport\u001b[39;00m \u001b[38;5;21;01mpandas\u001b[39;00m \u001b[38;5;28;01mas\u001b[39;00m \u001b[38;5;21;01mpd\u001b[39;00m\n\u001b[1;32m      4\u001b[0m \u001b[38;5;28;01mimport\u001b[39;00m \u001b[38;5;21;01mdatetime\u001b[39;00m\n\u001b[1;32m      6\u001b[0m \u001b[38;5;28;01mfrom\u001b[39;00m \u001b[38;5;21;01mutils\u001b[39;00m \u001b[38;5;28;01mimport\u001b[39;00m formatURL\n",
      "\u001b[0;31mModuleNotFoundError\u001b[0m: No module named 'pandas'"
     ]
    }
   ],
   "source": [
    "import requests\n",
    "import json\n",
    "import pandas as pd\n",
    "import datetime\n",
    "\n",
    "from utils import formatURL\n",
    "from config import getConfig"
   ]
  },
  {
   "cell_type": "code",
   "execution_count": 2,
   "id": "d50efba5",
   "metadata": {},
   "outputs": [],
   "source": [
    "# TODO\n",
    "# Where is the data for DIISX?"
   ]
  },
  {
   "cell_type": "code",
   "execution_count": 16,
   "id": "f577d17c",
   "metadata": {},
   "outputs": [],
   "source": [
    "def getData(symbol, fromDt, toDt):\n",
    "    url = baseURL + '&symbols=' + symbol + '&date_from='+ fromDt + '&date_to='+ toDt\n",
    "    return requests.get(url).json()"
   ]
  },
  {
   "cell_type": "code",
   "execution_count": 4,
   "id": "9f83356d",
   "metadata": {},
   "outputs": [],
   "source": [
    "def createDF(resp):\n",
    "    # Input is the \"get\" response for a Symbol\n",
    "    # Return a formatted df with the dates and prices\n",
    "    dtList = []\n",
    "    valList = []\n",
    "    divList = []\n",
    "    for row in resp['data']:\n",
    "        dtList.append(row['date'][:10])\n",
    "        valList.append(row['close'])\n",
    "        divList.append(row['dividend'])\n",
    "    d = {}\n",
    "    d['date'] = dtList\n",
    "    d['price'] = valList\n",
    "    d['dividend'] = divList\n",
    "    return pd.DataFrame(d).sort_values('date')"
   ]
  },
  {
   "cell_type": "code",
   "execution_count": 5,
   "id": "71742c49",
   "metadata": {},
   "outputs": [
    {
     "data": {
      "text/plain": [
       "\"def getStartDt(maxDates, symbol):\\n    startDt = maxDates.get(symbol, None)\\n    if startDt:\\n        startDt =  startDt + datetime.timedelta(days=1)\\n    else:\\n        startDt = pd.to_datetime('2012-01-01').date()\\n    endDt = startDt + datetime.timedelta(days=365)\\n    return startDt, endDt\""
      ]
     },
     "execution_count": 5,
     "metadata": {},
     "output_type": "execute_result"
    }
   ],
   "source": [
    "'''def getStartDt(maxDates, symbol):\n",
    "    startDt = maxDates.get(symbol, None)\n",
    "    if startDt:\n",
    "        startDt =  startDt + datetime.timedelta(days=1)\n",
    "    else:\n",
    "        startDt = pd.to_datetime('2012-01-01').date()\n",
    "    endDt = startDt + datetime.timedelta(days=365)\n",
    "    return startDt, endDt'''"
   ]
  },
  {
   "cell_type": "code",
   "execution_count": 17,
   "id": "0f97c6f5",
   "metadata": {},
   "outputs": [],
   "source": [
    "cfg = getConfig()\n",
    "baseURL = formatURL('eod')"
   ]
  },
  {
   "cell_type": "code",
   "execution_count": 18,
   "id": "cd4315ff",
   "metadata": {},
   "outputs": [
    {
     "data": {
      "text/plain": [
       "\"df = pd.read_csv(cfg['dataLoc']+'fundData.csv')\\n\\ndf['date'] = df['date'].apply(lambda x: pd.to_datetime(x).date())\""
      ]
     },
     "execution_count": 18,
     "metadata": {},
     "output_type": "execute_result"
    }
   ],
   "source": [
    "'''df = pd.read_csv(cfg['dataLoc']+'fundData.csv')\n",
    "\n",
    "df['date'] = df['date'].apply(lambda x: pd.to_datetime(x).date())'''"
   ]
  },
  {
   "cell_type": "code",
   "execution_count": 19,
   "id": "fdf46f31",
   "metadata": {},
   "outputs": [
    {
     "data": {
      "text/plain": [
       "\"currentSymbols = set(df.fund)\\nmaxDates = {}\\nfor s in currentSymbols:\\n    maxDates[s] = df[df['fund']==s]['date'].max()\""
      ]
     },
     "execution_count": 19,
     "metadata": {},
     "output_type": "execute_result"
    }
   ],
   "source": [
    "# The dictionary will hold the most recent date where we have data for each fund\n",
    "'''currentSymbols = set(df.fund)\n",
    "maxDates = {}\n",
    "for s in currentSymbols:\n",
    "    maxDates[s] = df[df['fund']==s]['date'].max()'''"
   ]
  },
  {
   "cell_type": "code",
   "execution_count": 27,
   "id": "9e90f6df",
   "metadata": {},
   "outputs": [],
   "source": [
    "symbol = 'GSPC.INDX'    # S&P 500\n",
    "#symbol = 'URTH'         # MSCI World\n",
    "symbol = 'F'"
   ]
  },
  {
   "cell_type": "code",
   "execution_count": 28,
   "id": "b9ad3869",
   "metadata": {},
   "outputs": [
    {
     "data": {
      "text/html": [
       "<div>\n",
       "<style scoped>\n",
       "    .dataframe tbody tr th:only-of-type {\n",
       "        vertical-align: middle;\n",
       "    }\n",
       "\n",
       "    .dataframe tbody tr th {\n",
       "        vertical-align: top;\n",
       "    }\n",
       "\n",
       "    .dataframe thead th {\n",
       "        text-align: right;\n",
       "    }\n",
       "</style>\n",
       "<table border=\"1\" class=\"dataframe\">\n",
       "  <thead>\n",
       "    <tr style=\"text-align: right;\">\n",
       "      <th></th>\n",
       "      <th>date</th>\n",
       "      <th>price</th>\n",
       "      <th>dividend</th>\n",
       "    </tr>\n",
       "  </thead>\n",
       "  <tbody>\n",
       "    <tr>\n",
       "      <th>999</th>\n",
       "      <td>2020-02-03</td>\n",
       "      <td>8.98</td>\n",
       "      <td>0.0</td>\n",
       "    </tr>\n",
       "    <tr>\n",
       "      <th>998</th>\n",
       "      <td>2020-02-04</td>\n",
       "      <td>9.18</td>\n",
       "      <td>0.0</td>\n",
       "    </tr>\n",
       "    <tr>\n",
       "      <th>997</th>\n",
       "      <td>2020-02-05</td>\n",
       "      <td>8.31</td>\n",
       "      <td>0.0</td>\n",
       "    </tr>\n",
       "    <tr>\n",
       "      <th>996</th>\n",
       "      <td>2020-02-06</td>\n",
       "      <td>8.25</td>\n",
       "      <td>0.0</td>\n",
       "    </tr>\n",
       "    <tr>\n",
       "      <th>995</th>\n",
       "      <td>2020-02-07</td>\n",
       "      <td>8.11</td>\n",
       "      <td>0.0</td>\n",
       "    </tr>\n",
       "    <tr>\n",
       "      <th>...</th>\n",
       "      <td>...</td>\n",
       "      <td>...</td>\n",
       "      <td>...</td>\n",
       "    </tr>\n",
       "    <tr>\n",
       "      <th>4</th>\n",
       "      <td>2024-01-17</td>\n",
       "      <td>11.27</td>\n",
       "      <td>0.0</td>\n",
       "    </tr>\n",
       "    <tr>\n",
       "      <th>3</th>\n",
       "      <td>2024-01-18</td>\n",
       "      <td>10.99</td>\n",
       "      <td>0.0</td>\n",
       "    </tr>\n",
       "    <tr>\n",
       "      <th>2</th>\n",
       "      <td>2024-01-19</td>\n",
       "      <td>11.20</td>\n",
       "      <td>0.0</td>\n",
       "    </tr>\n",
       "    <tr>\n",
       "      <th>1</th>\n",
       "      <td>2024-01-22</td>\n",
       "      <td>11.20</td>\n",
       "      <td>0.0</td>\n",
       "    </tr>\n",
       "    <tr>\n",
       "      <th>0</th>\n",
       "      <td>2024-01-23</td>\n",
       "      <td>11.37</td>\n",
       "      <td>0.0</td>\n",
       "    </tr>\n",
       "  </tbody>\n",
       "</table>\n",
       "<p>1000 rows × 3 columns</p>\n",
       "</div>"
      ],
      "text/plain": [
       "           date  price  dividend\n",
       "999  2020-02-03   8.98       0.0\n",
       "998  2020-02-04   9.18       0.0\n",
       "997  2020-02-05   8.31       0.0\n",
       "996  2020-02-06   8.25       0.0\n",
       "995  2020-02-07   8.11       0.0\n",
       "..          ...    ...       ...\n",
       "4    2024-01-17  11.27       0.0\n",
       "3    2024-01-18  10.99       0.0\n",
       "2    2024-01-19  11.20       0.0\n",
       "1    2024-01-22  11.20       0.0\n",
       "0    2024-01-23  11.37       0.0\n",
       "\n",
       "[1000 rows x 3 columns]"
      ]
     },
     "execution_count": 28,
     "metadata": {},
     "output_type": "execute_result"
    }
   ],
   "source": [
    "today = str(datetime.datetime.today().date())\n",
    "apiResp = getData(symbol, '2020-01-01', today)\n",
    "tmp = createDF(apiResp)\n",
    "tmp"
   ]
  },
  {
   "cell_type": "code",
   "execution_count": 29,
   "id": "126bff51",
   "metadata": {},
   "outputs": [
    {
     "data": {
      "text/plain": [
       "1.8212"
      ]
     },
     "execution_count": 29,
     "metadata": {},
     "output_type": "execute_result"
    }
   ],
   "source": [
    "tmp['dividend'].sum()"
   ]
  },
  {
   "cell_type": "code",
   "execution_count": 70,
   "id": "ffe9fec8",
   "metadata": {},
   "outputs": [],
   "source": [
    "fromDt, toDt = getStartDt(maxDates, symbol)\n",
    "apiResp = getData(symbol, fromDt, toDt)\n",
    "\n",
    "tmp = createDF(apiResp)\n",
    "tmp['fund'] = symbol\n",
    "\n",
    "dfList = []\n",
    "dfList.append(tmp)\n",
    "while toDt < datetime.date.today():\n",
    "    fromDt = toDt + datetime.timedelta(days=1)\n",
    "    toDt = toDt + datetime.timedelta(days=365)\n",
    "    apiResp = getData(symbol, fromDt, toDt)\n",
    "    tmp = createDF(apiResp)\n",
    "    tmp['fund'] = symbol\n",
    "    dfList.append(tmp)\n",
    "\n",
    "upd = pd.concat(dfList).drop_duplicates().dropna()\n",
    "upd = upd.sort_values(['fund', 'date']).reset_index(drop=True)\n",
    "upd['date'] = upd['date'].apply(lambda x: pd.to_datetime(x).date())\n",
    "\n",
    "df = pd.concat([df, upd])"
   ]
  },
  {
   "cell_type": "code",
   "execution_count": 71,
   "id": "6ea50038",
   "metadata": {},
   "outputs": [
    {
     "data": {
      "text/plain": [
       "fund\n",
       "990100.INDX       2022-07-15\n",
       "ARKK              2022-08-11\n",
       "CCJ               2022-08-11\n",
       "COMB              2022-08-11\n",
       "MSCIALL.INDX      2022-07-15\n",
       "MSCIEAFE.INDX     2022-07-15\n",
       "MSCIWORLD.INDX    2022-07-15\n",
       "QYLD              2022-08-11\n",
       "RYLD              2022-08-11\n",
       "SP500TR.INDX      2022-08-12\n",
       "Name: date, dtype: object"
      ]
     },
     "execution_count": 71,
     "metadata": {},
     "output_type": "execute_result"
    }
   ],
   "source": [
    "# Check that all funds were updated\n",
    "df.groupby('fund')['date'].max()"
   ]
  },
  {
   "cell_type": "code",
   "execution_count": 58,
   "id": "0e299d2c",
   "metadata": {},
   "outputs": [],
   "source": [
    "# Just in case I ran the same symbol twice\n",
    "df = df.drop_duplicates()\n",
    "# Fill NaN dividend with 0\n",
    "df.fillna(0, inplace=True)"
   ]
  },
  {
   "cell_type": "code",
   "execution_count": 59,
   "id": "1e0bcb2f",
   "metadata": {},
   "outputs": [],
   "source": [
    "df.to_csv(cfg['dataLoc']+'fundData.csv', index=False)"
   ]
  },
  {
   "cell_type": "code",
   "execution_count": null,
   "id": "a70a89ba",
   "metadata": {},
   "outputs": [],
   "source": []
  }
 ],
 "metadata": {
  "kernelspec": {
   "display_name": "Python 3 (ipykernel)",
   "language": "python",
   "name": "python3"
  },
  "language_info": {
   "codemirror_mode": {
    "name": "ipython",
    "version": 3
   },
   "file_extension": ".py",
   "mimetype": "text/x-python",
   "name": "python",
   "nbconvert_exporter": "python",
   "pygments_lexer": "ipython3",
   "version": "3.12.2"
  }
 },
 "nbformat": 4,
 "nbformat_minor": 5
}
