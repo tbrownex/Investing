{
 "cells": [
  {
   "cell_type": "code",
   "execution_count": 1,
   "id": "ae49cd07",
   "metadata": {},
   "outputs": [],
   "source": [
    "import os\n",
    "import pandas as pd"
   ]
  },
  {
   "cell_type": "code",
   "execution_count": 5,
   "id": "a86ace47",
   "metadata": {},
   "outputs": [],
   "source": [
    "dataLoc = '/home/tbrownex/data/retirement/'"
   ]
  },
  {
   "cell_type": "code",
   "execution_count": 7,
   "id": "878a287e",
   "metadata": {},
   "outputs": [
    {
     "name": "stdout",
     "output_type": "stream",
     "text": [
      "Shortest series: COVRX.csv   length: 103\n",
      "Longest series: TRBCX.csv   length: 336\n"
     ]
    }
   ],
   "source": [
    "# check range of lengths\n",
    "min = 1e5\n",
    "max = 0\n",
    "for a, b, f in os.walk(dataLoc):\n",
    "    for csv in f:\n",
    "        df = pd.read_csv(dataLoc+csv)\n",
    "        if len(df) < min:\n",
    "            min = len(df)\n",
    "            minFund = csv\n",
    "        elif len(df) > max:\n",
    "            max = len(df)\n",
    "            maxFund = csv\n",
    "\n",
    "print(\"Shortest series: \" + minFund + '   length: ' + str(min))\n",
    "print(\"Longest series: \" + maxFund + '   length: ' + str(max))"
   ]
  }
 ],
 "metadata": {
  "kernelspec": {
   "display_name": "tensorflow",
   "language": "python",
   "name": "tensorflow"
  },
  "language_info": {
   "codemirror_mode": {
    "name": "ipython",
    "version": 3
   },
   "file_extension": ".py",
   "mimetype": "text/x-python",
   "name": "python",
   "nbconvert_exporter": "python",
   "pygments_lexer": "ipython3",
   "version": "3.8.5"
  }
 },
 "nbformat": 4,
 "nbformat_minor": 5
}
