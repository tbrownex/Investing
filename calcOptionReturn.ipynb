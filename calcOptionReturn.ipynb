{
 "cells": [
  {
   "cell_type": "code",
   "execution_count": 7,
   "id": "19880fb3",
   "metadata": {},
   "outputs": [],
   "source": [
    "currentPrice = 429.8\n",
    "strikePrice = 430\n",
    "daysToGo = 141\n",
    "bid = 23.12"
   ]
  },
  {
   "cell_type": "code",
   "execution_count": null,
   "id": "bd0fca5f",
   "metadata": {},
   "outputs": [],
   "source": [
    "ret = strikePrice - cur"
   ]
  }
 ],
 "metadata": {
  "kernelspec": {
   "display_name": "Python 3 (ipykernel)",
   "language": "python",
   "name": "python3"
  },
  "language_info": {
   "codemirror_mode": {
    "name": "ipython",
    "version": 3
   },
   "file_extension": ".py",
   "mimetype": "text/x-python",
   "name": "python",
   "nbconvert_exporter": "python",
   "pygments_lexer": "ipython3",
   "version": "3.9.15"
  }
 },
 "nbformat": 4,
 "nbformat_minor": 5
}
