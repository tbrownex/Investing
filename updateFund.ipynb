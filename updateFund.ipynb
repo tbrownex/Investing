{
 "cells": [
  {
   "cell_type": "code",
   "execution_count": 41,
   "id": "c09cd279",
   "metadata": {},
   "outputs": [],
   "source": [
    "import pandas as pd"
   ]
  },
  {
   "cell_type": "code",
   "execution_count": 152,
   "id": "71f1321a",
   "metadata": {},
   "outputs": [],
   "source": [
    "fundName = 'SPX'\n",
    "loc = '/home/tbrownex/data/retirement/benchmark/'\n",
    "df = pd.read_csv(loc+fundName+'.csv')"
   ]
  },
  {
   "cell_type": "code",
   "execution_count": 140,
   "id": "2645bb3b",
   "metadata": {},
   "outputs": [],
   "source": [
    "latest = pd.DataFrame(data=[\n",
    "    ('2021-07-01', 4395),\n",
    "    ('2021-08-01', 4522),\n",
    "    ('2021-09-01', 4307),\n",
    "    ('2021-10-01', 4391)],\n",
    "                      columns=['date', 'SPX'])\n",
    "latest['date'] = latest['date'].apply(lambda x: pd.to_datetime(x).date())"
   ]
  },
  {
   "cell_type": "code",
   "execution_count": 141,
   "id": "ee50cbca",
   "metadata": {},
   "outputs": [],
   "source": [
    "df = pd.concat([df, latest])\n",
    "df.sort_values('date', inplace=True)"
   ]
  },
  {
   "cell_type": "code",
   "execution_count": 151,
   "id": "16dc7c27",
   "metadata": {},
   "outputs": [],
   "source": [
    "df.to_csv(loc+fundName+'.csv', index=False)"
   ]
  }
 ],
 "metadata": {
  "kernelspec": {
   "display_name": "tensorflow",
   "language": "python",
   "name": "tensorflow"
  },
  "language_info": {
   "codemirror_mode": {
    "name": "ipython",
    "version": 3
   },
   "file_extension": ".py",
   "mimetype": "text/x-python",
   "name": "python",
   "nbconvert_exporter": "python",
   "pygments_lexer": "ipython3",
   "version": "3.8.10"
  }
 },
 "nbformat": 4,
 "nbformat_minor": 5
}
