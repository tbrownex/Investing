{
 "cells": [
  {
   "cell_type": "code",
   "execution_count": 1,
   "id": "e44558d5",
   "metadata": {},
   "outputs": [],
   "source": [
    "import pandas as pd\n",
    "import random"
   ]
  },
  {
   "cell_type": "markdown",
   "id": "3d604f83",
   "metadata": {},
   "source": [
    "##### Make sure the merged values match the raw data"
   ]
  },
  {
   "cell_type": "code",
   "execution_count": 2,
   "id": "0d7911e1",
   "metadata": {},
   "outputs": [],
   "source": [
    "dataLoc = '/home/tbrownex/data/retirement/funds/'\n",
    "#account = 'AdvisoryBrokerage'\n",
    "account = 'IRA'\n",
    "df = pd.read_csv(dataLoc+'merged_'+account+'.csv')\n",
    "df.set_index('date', inplace=True)"
   ]
  },
  {
   "cell_type": "code",
   "execution_count": 3,
   "id": "04faa5d9",
   "metadata": {},
   "outputs": [],
   "source": [
    "def getRawFundData(fund):\n",
    "    raw = pd.read_csv(dataLoc+'raw/'+fund+'.csv')\n",
    "    raw.rename(columns={'Date': 'date'}, inplace=True)\n",
    "    raw = raw[['date', 'Close']]\n",
    "    raw = raw.set_index('date')\n",
    "    return raw"
   ]
  },
  {
   "cell_type": "code",
   "execution_count": 9,
   "id": "cbebc07a",
   "metadata": {},
   "outputs": [
    {
     "name": "stdout",
     "output_type": "stream",
     "text": [
      "error in fund:  PCLPX\n",
      "0.35700000000000004\n",
      "0.3565737051792829\n",
      "error in fund:  SKIRX\n",
      "0.21600000000000003\n",
      "0.21577464788732395\n"
     ]
    }
   ],
   "source": [
    "funds = df.columns.tolist()\n",
    "\n",
    "for fund in funds:\n",
    "    raw = getRawFundData(fund)\n",
    "    tmp = df[[fund]]\n",
    "    tmp.columns=['mergedVal']\n",
    "    tmp = tmp.join(raw)\n",
    "    tmp = tmp.dropna()\n",
    "    first = tmp.iloc[0]\n",
    "    last = tmp.iloc[-1]\n",
    "    mergedGrowth = last['mergedVal']/first['mergedVal']\n",
    "    rawGrowth = last['Close']/first['Close']\n",
    "    if abs(mergedGrowth/rawGrowth-1) > 0.001:\n",
    "        print('error in fund: ', fund)\n",
    "        print(mergedGrowth)\n",
    "        print(rawGrowth)"
   ]
  }
 ],
 "metadata": {
  "kernelspec": {
   "display_name": "tensorflow",
   "language": "python",
   "name": "tensorflow"
  },
  "language_info": {
   "codemirror_mode": {
    "name": "ipython",
    "version": 3
   },
   "file_extension": ".py",
   "mimetype": "text/x-python",
   "name": "python",
   "nbconvert_exporter": "python",
   "pygments_lexer": "ipython3",
   "version": "3.8.10"
  }
 },
 "nbformat": 4,
 "nbformat_minor": 5
}
