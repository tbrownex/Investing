{
 "cells": [
  {
   "cell_type": "code",
   "execution_count": 1,
   "id": "e44558d5",
   "metadata": {},
   "outputs": [],
   "source": [
    "import glob\n",
    "import pandas as pd\n",
    "import numpy as np"
   ]
  },
  {
   "cell_type": "code",
   "execution_count": 2,
   "id": "737bbac3",
   "metadata": {},
   "outputs": [],
   "source": [
    "def getFV(raw, calculated_growth):\n",
    "    start = raw.iloc[0]['Close']\n",
    "    numMonths = len(raw)\n",
    "    return start*np.power(calculated_growth, numMonths)"
   ]
  },
  {
   "cell_type": "code",
   "execution_count": 3,
   "id": "f6b12d1a",
   "metadata": {},
   "outputs": [],
   "source": [
    "def formatAcct(acct):\n",
    "    acctName = acct.split(\"/raw/\")[1]\n",
    "    return acctName.split(\".csv\")[0]"
   ]
  },
  {
   "cell_type": "markdown",
   "id": "3d604f83",
   "metadata": {},
   "source": [
    "##### Make sure the summary \"monthly growth\" is right by comparing start/end raw Closing price"
   ]
  },
  {
   "cell_type": "code",
   "execution_count": 4,
   "id": "92a05f90",
   "metadata": {},
   "outputs": [],
   "source": [
    "rawLoc = '/home/tbrownex/data/retirement/funds/raw/*'\n",
    "summaryFile = '/home/tbrownex/data/retirement/funds/fundSummary.csv'"
   ]
  },
  {
   "cell_type": "code",
   "execution_count": 5,
   "id": "ce7a838e",
   "metadata": {},
   "outputs": [],
   "source": [
    "summary = pd.read_csv(summaryFile)\n",
    "summary.set_index('fund', inplace=True)"
   ]
  },
  {
   "cell_type": "code",
   "execution_count": 8,
   "id": "0d7911e1",
   "metadata": {},
   "outputs": [],
   "source": [
    "for fund in glob.glob(rawLoc):\n",
    "    fundName = formatAcct(fund)\n",
    "    raw = pd.read_csv(fund)\n",
    "    calculated_growth = summary.loc[fundName]['monthlyReturn']\n",
    "    fv = getFV(raw, calculated_growth)\n",
    "    actualValue = raw.iloc[-1]['Close']\n",
    "    if abs(fv/actualValue - 1) > 0.002:\n",
    "        print(fundName, fv, actualValue)"
   ]
  }
 ],
 "metadata": {
  "kernelspec": {
   "display_name": "tensorflow",
   "language": "python",
   "name": "tensorflow"
  },
  "language_info": {
   "codemirror_mode": {
    "name": "ipython",
    "version": 3
   },
   "file_extension": ".py",
   "mimetype": "text/x-python",
   "name": "python",
   "nbconvert_exporter": "python",
   "pygments_lexer": "ipython3",
   "version": "3.8.10"
  }
 },
 "nbformat": 4,
 "nbformat_minor": 5
}
