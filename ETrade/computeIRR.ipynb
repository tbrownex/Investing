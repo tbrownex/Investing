{
 "cells": [
  {
   "cell_type": "code",
   "execution_count": 1,
   "id": "e3290cf9",
   "metadata": {},
   "outputs": [],
   "source": [
    "import pandas as pd\n",
    "import numpy_financial as npf\n",
    "import numpy as np\n",
    "import datetime\n",
    "from re import sub\n",
    "from decimal import Decimal\n",
    "\n",
    "from config import getConfig\n",
    "from calcIRR import calcIRR"
   ]
  },
  {
   "cell_type": "code",
   "execution_count": 2,
   "id": "8f261026",
   "metadata": {},
   "outputs": [],
   "source": [
    "def formatValue(x):\n",
    "    return Decimal(sub(r'[^\\d.]', '', x))"
   ]
  },
  {
   "cell_type": "code",
   "execution_count": 3,
   "id": "3da66fe5",
   "metadata": {},
   "outputs": [],
   "source": [
    "def getDays(df):\n",
    "    startDate = acctValues.iloc[-1]['date']\n",
    "    startDate = pd.to_datetime(startDate).date()\n",
    "    endDate = acctValues.iloc[0]['date']\n",
    "    endDate = pd.to_datetime(endDate).date()\n",
    "\n",
    "    diff = datetime.date.today()-startDate\n",
    "    print(\"{:,} days between {} and {}\".format(diff.days, startDate, endDate))\n",
    "    return diff.days"
   ]
  },
  {
   "cell_type": "code",
   "execution_count": 4,
   "id": "58a304a1",
   "metadata": {},
   "outputs": [],
   "source": [
    "cfg = getConfig()\n",
    "loc = cfg['ETrade']['dataLoc']"
   ]
  },
  {
   "cell_type": "code",
   "execution_count": 5,
   "id": "6356c24f",
   "metadata": {},
   "outputs": [
    {
     "data": {
      "text/plain": [
       "{'ETrade': {'dataLoc': '~/data/investing/ETrade/',\n",
       "  'fileName': 'accountValues.csv'},\n",
       " 'Fisher': {'dataLoc': '~/data/investing/Fisher/'},\n",
       " 'SPX': {'dataLoc': '~/data/investing/benchmark/', 'fileName': 'spx.csv'},\n",
       " 'MSCI': {'dataLoc': '~/data/investing/benchmark/', 'fileName': 'msci.csv'},\n",
       " 'marketAPI': {'URL': 'http://api.marketstack.com/v1/',\n",
       "  'APIKey': '?access_key=ffa68edbfb08de7589a43751795e0e07'}}"
      ]
     },
     "execution_count": 5,
     "metadata": {},
     "output_type": "execute_result"
    }
   ],
   "source": [
    "cfg"
   ]
  },
  {
   "cell_type": "code",
   "execution_count": 5,
   "id": "2f843fdf",
   "metadata": {},
   "outputs": [],
   "source": [
    "deposits = pd.read_csv(loc+'deposits.csv')\n",
    "acctValues = pd.read_csv(loc+'accountValues.csv',\n",
    "                         usecols=['date', 'value'])"
   ]
  },
  {
   "cell_type": "code",
   "execution_count": 8,
   "id": "dc336841",
   "metadata": {},
   "outputs": [],
   "source": [
    "# Remove $ sign from account values\n",
    "acctValues['value'] = acctValues['value'].apply(lambda x: formatValue(x))"
   ]
  },
  {
   "cell_type": "code",
   "execution_count": 10,
   "id": "775f1941",
   "metadata": {},
   "outputs": [],
   "source": [
    "# Make sure the starting dates are matched between account values and deposits\n",
    "depStartDt = deposits['date'].min()\n",
    "acctStartDt = acctValues['date'].min()\n",
    "\n",
    "startDt = depStartDt if depStartDt > acctStartDt else acctStartDt\n",
    "\n",
    "deposits = deposits[deposits['date'] >= startDt]\n",
    "acctValues = acctValues[acctValues['date'] >= startDt]\n",
    "\n",
    "#deposits['date'].min(), acctValues['date'].min()"
   ]
  },
  {
   "cell_type": "code",
   "execution_count": 14,
   "id": "f07034e2",
   "metadata": {},
   "outputs": [
    {
     "data": {
      "text/plain": [
       "50000"
      ]
     },
     "execution_count": 14,
     "metadata": {},
     "output_type": "execute_result"
    }
   ],
   "source": [
    "deposits['amount'].sum()"
   ]
  },
  {
   "cell_type": "code",
   "execution_count": 13,
   "id": "867fe816",
   "metadata": {},
   "outputs": [],
   "source": [
    "# There's 1 deposit more recent than last account value so remove it\n",
    "deposits = deposits[1:]"
   ]
  },
  {
   "cell_type": "code",
   "execution_count": 13,
   "id": "371b9bcb",
   "metadata": {},
   "outputs": [],
   "source": [
    "# The 'initial account value' is basically the first deposit so add a row for it\n",
    "d = {}\n",
    "acctValues.sort_values('date', ignore_index=True, inplace=True)\n",
    "d['amount'] = acctValues.iloc[0]['value']\n",
    "d['date'] = acctValues.iloc[0]['date']\n",
    "\n",
    "deposits.loc[len(deposits)] = d\n",
    "deposits.sort_values('date', ignore_index=True, inplace=True)"
   ]
  },
  {
   "cell_type": "code",
   "execution_count": 14,
   "id": "ff4410b7",
   "metadata": {},
   "outputs": [],
   "source": [
    "# Ending value and date\n",
    "endValue = acctValues.iloc[-1]['value']\n",
    "endDate = acctValues.iloc[-1]['date']\n",
    "\n",
    "endDate = pd.to_datetime(endDate).date()"
   ]
  },
  {
   "cell_type": "code",
   "execution_count": 15,
   "id": "70c1dc82",
   "metadata": {},
   "outputs": [
    {
     "name": "stdout",
     "output_type": "stream",
     "text": [
      "Total: 242,821\n",
      "\n"
     ]
    }
   ],
   "source": [
    "irr = calcIRR(deposits, endDate, endValue, 100)"
   ]
  },
  {
   "cell_type": "code",
   "execution_count": 16,
   "id": "22c23169",
   "metadata": {},
   "outputs": [
    {
     "name": "stdout",
     "output_type": "stream",
     "text": [
      "Annualized rate: 9.76%\n"
     ]
    }
   ],
   "source": [
    "# Growth of 10k over a year at the computed rate\n",
    "final = npf.fv(irr, nper=365, pmt=0, pv=-1e4)\n",
    "print(\"Annualized rate: {:.2%}\".format(final/1e4 -1))"
   ]
  },
  {
   "cell_type": "code",
   "execution_count": null,
   "id": "2e767339",
   "metadata": {},
   "outputs": [],
   "source": []
  }
 ],
 "metadata": {
  "kernelspec": {
   "display_name": "Python 3 (ipykernel)",
   "language": "python",
   "name": "python3"
  },
  "language_info": {
   "codemirror_mode": {
    "name": "ipython",
    "version": 3
   },
   "file_extension": ".py",
   "mimetype": "text/x-python",
   "name": "python",
   "nbconvert_exporter": "python",
   "pygments_lexer": "ipython3",
   "version": "3.9.15"
  }
 },
 "nbformat": 4,
 "nbformat_minor": 5
}
