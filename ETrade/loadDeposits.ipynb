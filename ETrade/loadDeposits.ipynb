{
 "cells": [
  {
   "cell_type": "code",
   "execution_count": 2,
   "id": "98cb4046",
   "metadata": {},
   "outputs": [],
   "source": [
    "import pandas as pd\n",
    "\n",
    "from config import getConfig"
   ]
  },
  {
   "cell_type": "code",
   "execution_count": 4,
   "id": "fa7f7d31",
   "metadata": {},
   "outputs": [],
   "source": [
    "cfg = getConfig()"
   ]
  },
  {
   "cell_type": "code",
   "execution_count": 18,
   "id": "774fe16e",
   "metadata": {},
   "outputs": [],
   "source": [
    "df = pd.read_excel(cfg['ETrade']['dataLoc']+'non_qual.xlsx',\n",
    "                   usecols=['TransactionDate','TransactionType', 'Amount'])"
   ]
  },
  {
   "cell_type": "code",
   "execution_count": 20,
   "id": "e9c61db6",
   "metadata": {},
   "outputs": [],
   "source": [
    "df.columns = ['date', 'transType', 'amount']"
   ]
  },
  {
   "cell_type": "code",
   "execution_count": 21,
   "id": "a689340a",
   "metadata": {},
   "outputs": [],
   "source": [
    "df = df[df['transType']=='Transfer']"
   ]
  },
  {
   "cell_type": "code",
   "execution_count": 23,
   "id": "334c0d30",
   "metadata": {},
   "outputs": [
    {
     "name": "stderr",
     "output_type": "stream",
     "text": [
      "/tmp/ipykernel_2776/2724072168.py:1: SettingWithCopyWarning: \n",
      "A value is trying to be set on a copy of a slice from a DataFrame.\n",
      "Try using .loc[row_indexer,col_indexer] = value instead\n",
      "\n",
      "See the caveats in the documentation: https://pandas.pydata.org/pandas-docs/stable/user_guide/indexing.html#returning-a-view-versus-a-copy\n",
      "  df['amount'] = df['amount'].apply(lambda x: int(x))\n"
     ]
    }
   ],
   "source": [
    "df['amount'] = df['amount'].apply(lambda x: int(x))"
   ]
  },
  {
   "cell_type": "code",
   "execution_count": 25,
   "id": "09beaa3a",
   "metadata": {},
   "outputs": [
    {
     "name": "stderr",
     "output_type": "stream",
     "text": [
      "/tmp/ipykernel_2776/2904393249.py:1: SettingWithCopyWarning: \n",
      "A value is trying to be set on a copy of a slice from a DataFrame.\n",
      "Try using .loc[row_indexer,col_indexer] = value instead\n",
      "\n",
      "See the caveats in the documentation: https://pandas.pydata.org/pandas-docs/stable/user_guide/indexing.html#returning-a-view-versus-a-copy\n",
      "  df['date'] = df['date'].apply(lambda x: pd.to_datetime(x))\n"
     ]
    }
   ],
   "source": [
    "df['date'] = df['date'].apply(lambda x: pd.to_datetime(x))"
   ]
  },
  {
   "cell_type": "code",
   "execution_count": 26,
   "id": "079a23e9",
   "metadata": {},
   "outputs": [
    {
     "data": {
      "text/html": [
       "<div>\n",
       "<style scoped>\n",
       "    .dataframe tbody tr th:only-of-type {\n",
       "        vertical-align: middle;\n",
       "    }\n",
       "\n",
       "    .dataframe tbody tr th {\n",
       "        vertical-align: top;\n",
       "    }\n",
       "\n",
       "    .dataframe thead th {\n",
       "        text-align: right;\n",
       "    }\n",
       "</style>\n",
       "<table border=\"1\" class=\"dataframe\">\n",
       "  <thead>\n",
       "    <tr style=\"text-align: right;\">\n",
       "      <th></th>\n",
       "      <th>date</th>\n",
       "      <th>transType</th>\n",
       "      <th>amount</th>\n",
       "    </tr>\n",
       "  </thead>\n",
       "  <tbody>\n",
       "    <tr>\n",
       "      <th>21</th>\n",
       "      <td>2023-02-07</td>\n",
       "      <td>Transfer</td>\n",
       "      <td>5000</td>\n",
       "    </tr>\n",
       "    <tr>\n",
       "      <th>55</th>\n",
       "      <td>2022-11-02</td>\n",
       "      <td>Transfer</td>\n",
       "      <td>5000</td>\n",
       "    </tr>\n",
       "    <tr>\n",
       "      <th>87</th>\n",
       "      <td>2022-08-08</td>\n",
       "      <td>Transfer</td>\n",
       "      <td>5000</td>\n",
       "    </tr>\n",
       "    <tr>\n",
       "      <th>112</th>\n",
       "      <td>2022-06-14</td>\n",
       "      <td>Transfer</td>\n",
       "      <td>5000</td>\n",
       "    </tr>\n",
       "    <tr>\n",
       "      <th>125</th>\n",
       "      <td>2022-05-06</td>\n",
       "      <td>Transfer</td>\n",
       "      <td>5000</td>\n",
       "    </tr>\n",
       "    <tr>\n",
       "      <th>140</th>\n",
       "      <td>2022-04-06</td>\n",
       "      <td>Transfer</td>\n",
       "      <td>5000</td>\n",
       "    </tr>\n",
       "  </tbody>\n",
       "</table>\n",
       "</div>"
      ],
      "text/plain": [
       "          date transType  amount\n",
       "21  2023-02-07  Transfer    5000\n",
       "55  2022-11-02  Transfer    5000\n",
       "87  2022-08-08  Transfer    5000\n",
       "112 2022-06-14  Transfer    5000\n",
       "125 2022-05-06  Transfer    5000\n",
       "140 2022-04-06  Transfer    5000"
      ]
     },
     "execution_count": 26,
     "metadata": {},
     "output_type": "execute_result"
    }
   ],
   "source": [
    "df"
   ]
  },
  {
   "cell_type": "code",
   "execution_count": 13,
   "id": "8be63c13",
   "metadata": {},
   "outputs": [
    {
     "data": {
      "text/plain": [
       "{'Adjustment', 'Bought', 'Dividend', 'Interest', 'Transfer'}"
      ]
     },
     "execution_count": 13,
     "metadata": {},
     "output_type": "execute_result"
    }
   ],
   "source": [
    "set(df.TransactionType)"
   ]
  },
  {
   "cell_type": "code",
   "execution_count": 8,
   "id": "ea089191",
   "metadata": {},
   "outputs": [],
   "source": [
    "deposits ={}\n",
    "deposits['nonQual'] = {\n",
    "    '2022-11-01': 5000,\n",
    "    '2022-08-08': 5000,\n",
    "    '2022-06-14': 5000,\n",
    "    '2022-05-06': 5000,\n",
    "    '2022-04-06': 5000,\n",
    "    '2021-10-18': 5000,\n",
    "    '2021-03-15': 10000\n",
    "}\n",
    "deposits['SEP'] = {\n",
    "    '2020-03-01': 98481}\n",
    "deposits['traditionalIRA'] = {\n",
    "    '2020-03-01': 11999}\n",
    "deposits['Roth'] = {\n",
    "    '2020-02-01': 3490}\n",
    "deposits['account'] = {\n",
    "    ''\n",
    "}"
   ]
  },
  {
   "cell_type": "code",
   "execution_count": 9,
   "id": "f6dbad6c",
   "metadata": {},
   "outputs": [],
   "source": [
    "def createDF(account):\n",
    "    df = pd.DataFrame(deposits[account].items(), columns=['date', 'amount'])\n",
    "    df['account'] = account\n",
    "    return df[['account', 'date', 'amount']]"
   ]
  },
  {
   "cell_type": "code",
   "execution_count": 10,
   "id": "328029fa",
   "metadata": {},
   "outputs": [],
   "source": [
    "# Get the account names\n",
    "accounts = deposits.keys()"
   ]
  },
  {
   "cell_type": "code",
   "execution_count": 11,
   "id": "cddf2958",
   "metadata": {},
   "outputs": [],
   "source": [
    "dfList = []\n",
    "for acct in accounts:\n",
    "    depDF = createDF(acct)\n",
    "    dfList.append(depDF)\n",
    "\n",
    "df = pd.concat(dfList)"
   ]
  },
  {
   "cell_type": "code",
   "execution_count": 12,
   "id": "4ccb7b09",
   "metadata": {},
   "outputs": [],
   "source": [
    "cfg = getConfig()\n",
    "loc = cfg['ETrade']['dataLoc']"
   ]
  },
  {
   "cell_type": "code",
   "execution_count": 13,
   "id": "b50d9820",
   "metadata": {},
   "outputs": [],
   "source": [
    "df.to_csv(loc+'deposits.csv', index=False)"
   ]
  }
 ],
 "metadata": {
  "kernelspec": {
   "display_name": "Python 3 (ipykernel)",
   "language": "python",
   "name": "python3"
  },
  "language_info": {
   "codemirror_mode": {
    "name": "ipython",
    "version": 3
   },
   "file_extension": ".py",
   "mimetype": "text/x-python",
   "name": "python",
   "nbconvert_exporter": "python",
   "pygments_lexer": "ipython3",
   "version": "3.9.15"
  }
 },
 "nbformat": 4,
 "nbformat_minor": 5
}
