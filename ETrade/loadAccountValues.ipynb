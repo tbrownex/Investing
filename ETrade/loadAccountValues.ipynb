{
 "cells": [
  {
   "cell_type": "code",
   "execution_count": 2,
   "id": "705dde8a",
   "metadata": {},
   "outputs": [],
   "source": [
    "import pandas as pd"
   ]
  },
  {
   "cell_type": "code",
   "execution_count": 5,
   "id": "c7fb43a5",
   "metadata": {},
   "outputs": [],
   "source": [
    "def prep(df):\n",
    "    df['date'] = df['date'].apply(lambda x: pd.to_datetime(x))\n",
    "    df['tmp'] = df['value'].replace('[\\$,]', '', regex=True).astype(float)\n",
    "    df['value'] = df['tmp'].astype(int)\n",
    "    return df[['date', 'value']]"
   ]
  },
  {
   "cell_type": "code",
   "execution_count": 6,
   "id": "da846082",
   "metadata": {},
   "outputs": [],
   "source": [
    "df = pd.read_csv('/home/tbrownex/data/investing/ETrade/accountValues.csv')"
   ]
  },
  {
   "cell_type": "code",
   "execution_count": 7,
   "id": "0299c4bf",
   "metadata": {},
   "outputs": [],
   "source": [
    "df = prep(df)"
   ]
  },
  {
   "cell_type": "code",
   "execution_count": null,
   "id": "8bef97f7",
   "metadata": {},
   "outputs": [],
   "source": []
  }
 ],
 "metadata": {
  "kernelspec": {
   "display_name": "Python 3 (ipykernel)",
   "language": "python",
   "name": "python3"
  },
  "language_info": {
   "codemirror_mode": {
    "name": "ipython",
    "version": 3
   },
   "file_extension": ".py",
   "mimetype": "text/x-python",
   "name": "python",
   "nbconvert_exporter": "python",
   "pygments_lexer": "ipython3",
   "version": "3.11.5"
  }
 },
 "nbformat": 4,
 "nbformat_minor": 5
}
