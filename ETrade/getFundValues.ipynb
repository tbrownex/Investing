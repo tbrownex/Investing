{
 "cells": [
  {
   "cell_type": "code",
   "execution_count": 1,
   "id": "ce30487d",
   "metadata": {},
   "outputs": [],
   "source": [
    "import pandas as pd\n",
    "\n",
    "from config import getConfig"
   ]
  },
  {
   "cell_type": "code",
   "execution_count": 2,
   "id": "b132ebeb",
   "metadata": {},
   "outputs": [],
   "source": [
    "def getCurrentValues():\n",
    "    return pd.read_excel(cfg['ETrade']['dataLoc']+'monthly.xlsx',\n",
    "                         dtype={'Value $': int})"
   ]
  },
  {
   "cell_type": "code",
   "execution_count": 3,
   "id": "80cb9d4d",
   "metadata": {},
   "outputs": [],
   "source": [
    "def getPreviousValues():\n",
    "    return pd.read_csv(cfg['ETrade']['dataLoc']+'fundData.csv')"
   ]
  },
  {
   "cell_type": "code",
   "execution_count": 4,
   "id": "ee00bb8a",
   "metadata": {},
   "outputs": [],
   "source": [
    "def prep(df):\n",
    "    df = df[['Symbol', 'Value $']]\n",
    "    df.columns = ['fund', 'value']\n",
    "    df.assign(pct = round(df['value']/df['value'].sum(),2))\n",
    "    return df"
   ]
  },
  {
   "cell_type": "code",
   "execution_count": 5,
   "id": "3e4384d2",
   "metadata": {},
   "outputs": [],
   "source": [
    "def getDate():\n",
    "    dt = input(\"Enter month, e.g. 2023-01-31\")\n",
    "    yr, mm, dd = dt.split('-')\n",
    "    if is_valid_date(yr, mm, dd):\n",
    "        return dt\n",
    "    else:\n",
    "        print('invalid date')\n",
    "        return False"
   ]
  },
  {
   "cell_type": "code",
   "execution_count": 6,
   "id": "b7886cd7",
   "metadata": {},
   "outputs": [],
   "source": [
    "def is_valid_date(year, month, day):\n",
    "    years = ['2023']\n",
    "    months = [str(x).zfill(2) for x in range(1,13)]\n",
    "    days = ['01', '28', '30', '31']\n",
    "    rules = [year in years,\n",
    "             month in months,\n",
    "             day in days]\n",
    "    if all(rules):\n",
    "        return True\n",
    "    else:\n",
    "        return False"
   ]
  },
  {
   "cell_type": "code",
   "execution_count": 7,
   "id": "78b7a76c",
   "metadata": {},
   "outputs": [],
   "source": [
    "cfg = getConfig()"
   ]
  },
  {
   "cell_type": "code",
   "execution_count": 8,
   "id": "45d7f809",
   "metadata": {},
   "outputs": [
    {
     "name": "stderr",
     "output_type": "stream",
     "text": [
      "/home/tbrownex/miniconda3/envs/tf/lib/python3.9/site-packages/openpyxl/styles/stylesheet.py:226: UserWarning: Workbook contains no default style, apply openpyxl's default\n",
      "  warn(\"Workbook contains no default style, apply openpyxl's default\")\n"
     ]
    }
   ],
   "source": [
    "curr = getCurrentValues()\n",
    "curr = prep(curr)"
   ]
  },
  {
   "cell_type": "code",
   "execution_count": 9,
   "id": "af8b1c33",
   "metadata": {},
   "outputs": [],
   "source": [
    "#curr.sort_values('value', ascending=False)"
   ]
  },
  {
   "cell_type": "code",
   "execution_count": 10,
   "id": "2f41ab33",
   "metadata": {},
   "outputs": [
    {
     "name": "stdout",
     "output_type": "stream",
     "text": [
      "Enter month, e.g. 2023-01-312023-01-31\n"
     ]
    }
   ],
   "source": [
    "curr['date'] = getDate()"
   ]
  },
  {
   "cell_type": "code",
   "execution_count": 11,
   "id": "590f6fa1",
   "metadata": {},
   "outputs": [
    {
     "name": "stdout",
     "output_type": "stream",
     "text": [
      "Date entered: 2023-01-31\n"
     ]
    }
   ],
   "source": [
    "print(\"Date entered: {}\".format(curr.iloc[0].date))"
   ]
  },
  {
   "cell_type": "code",
   "execution_count": 37,
   "id": "f7b40d5f",
   "metadata": {},
   "outputs": [],
   "source": [
    "df = getPreviousValues()"
   ]
  },
  {
   "cell_type": "code",
   "execution_count": 43,
   "id": "5039957c",
   "metadata": {},
   "outputs": [
    {
     "data": {
      "text/plain": [
       "date\n",
       "2023-01-31    10\n",
       "2023-02-28    10\n",
       "dtype: int64"
      ]
     },
     "execution_count": 43,
     "metadata": {},
     "output_type": "execute_result"
    }
   ],
   "source": [
    "final = pd.concat([df, curr]).reset_index(drop=True)\n",
    "# Check that the dates and counts look right\n",
    "final.value_counts('date')"
   ]
  },
  {
   "cell_type": "code",
   "execution_count": 12,
   "id": "1b27eb18",
   "metadata": {},
   "outputs": [],
   "source": [
    "final.to_csv(cfg['ETrade']['dataLoc']+'fundData.csv', index=False)"
   ]
  }
 ],
 "metadata": {
  "kernelspec": {
   "display_name": "Python 3 (ipykernel)",
   "language": "python",
   "name": "python3"
  },
  "language_info": {
   "codemirror_mode": {
    "name": "ipython",
    "version": 3
   },
   "file_extension": ".py",
   "mimetype": "text/x-python",
   "name": "python",
   "nbconvert_exporter": "python",
   "pygments_lexer": "ipython3",
   "version": "3.9.15"
  }
 },
 "nbformat": 4,
 "nbformat_minor": 5
}
