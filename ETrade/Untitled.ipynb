{
 "cells": [
  {
   "cell_type": "code",
   "execution_count": 1,
   "id": "71fba4dc",
   "metadata": {},
   "outputs": [],
   "source": [
    "import pandas as pd"
   ]
  },
  {
   "cell_type": "code",
   "execution_count": 91,
   "id": "94a1bf60",
   "metadata": {},
   "outputs": [],
   "source": [
    "df = pd.read_csv('/home/tbrownex/data/investing/ETrade/transfers.csv')"
   ]
  },
  {
   "cell_type": "code",
   "execution_count": 83,
   "id": "2619cf09",
   "metadata": {},
   "outputs": [],
   "source": [
    "dates = ['2024-07-03', '2023-09-18', '2023-10-24', '2024-02-01','2024-03-01','2024-05-01','2024-06-01']"
   ]
  },
  {
   "cell_type": "code",
   "execution_count": 84,
   "id": "50c8304b",
   "metadata": {},
   "outputs": [],
   "source": [
    "def loadDF(vals, fundName):\n",
    "    d = {'amount': vals}\n",
    "    a = pd.DataFrame(d)\n",
    "    a['account'] = fundName\n",
    "    a['date'] = dates\n",
    "    return a[['account', 'date', 'amount']]"
   ]
  },
  {
   "cell_type": "code",
   "execution_count": 85,
   "id": "aa5aee7b",
   "metadata": {},
   "outputs": [],
   "source": [
    "#a = loadDF([14895, 15674, 15710, 14902, 14960, 15202, 15411], 'Traditional IRA')\n",
    "b = loadDF([-6500, 2000, 4000, 1000,1000,1000,1000], 'nonQual')\n",
    "#c = loadDF([4147, 4231, 4378, 4269, 4298, 4236, 4270], 'Roth')\n",
    "#d = loadDF([167477, 169123, 174389, 170851, 181665, 182746, 183350], 'SEP')"
   ]
  },
  {
   "cell_type": "code",
   "execution_count": 87,
   "id": "496abe40",
   "metadata": {},
   "outputs": [],
   "source": [
    "df = pd.concat([df,b])"
   ]
  },
  {
   "cell_type": "code",
   "execution_count": 88,
   "id": "0e07075e",
   "metadata": {},
   "outputs": [],
   "source": [
    "df = df.sort_values('date')"
   ]
  },
  {
   "cell_type": "code",
   "execution_count": 89,
   "id": "4f6ab89e",
   "metadata": {},
   "outputs": [],
   "source": [
    "df.to_csv('/home/tbrownex/data/investing/ETrade/transfers.csv', index=False)"
   ]
  },
  {
   "cell_type": "code",
   "execution_count": 41,
   "id": "0e32bd95",
   "metadata": {},
   "outputs": [],
   "source": [
    "import numpy_financial as npf"
   ]
  },
  {
   "cell_type": "code",
   "execution_count": 80,
   "id": "b5c8be4c",
   "metadata": {},
   "outputs": [],
   "source": [
    "val = -1000\n",
    "dailyRate = .00002728"
   ]
  },
  {
   "cell_type": "code",
   "execution_count": 81,
   "id": "410c5cf8",
   "metadata": {},
   "outputs": [
    {
     "data": {
      "text/plain": [
       "-1010.0068006893476"
      ]
     },
     "execution_count": 81,
     "metadata": {},
     "output_type": "execute_result"
    }
   ],
   "source": [
    "npf.fv(dailyRate, nper=365, pmt=0, pv=-val)"
   ]
  }
 ],
 "metadata": {
  "kernelspec": {
   "display_name": "Python 3 (ipykernel)",
   "language": "python",
   "name": "python3"
  },
  "language_info": {
   "codemirror_mode": {
    "name": "ipython",
    "version": 3
   },
   "file_extension": ".py",
   "mimetype": "text/x-python",
   "name": "python",
   "nbconvert_exporter": "python",
   "pygments_lexer": "ipython3",
   "version": "3.11.5"
  }
 },
 "nbformat": 4,
 "nbformat_minor": 5
}
