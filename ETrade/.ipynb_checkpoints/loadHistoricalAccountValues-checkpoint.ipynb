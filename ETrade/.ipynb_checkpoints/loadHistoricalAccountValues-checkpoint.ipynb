{
 "cells": [
  {
   "cell_type": "code",
   "execution_count": 2,
   "id": "705dde8a",
   "metadata": {},
   "outputs": [],
   "source": [
    "import pandas as pd\n",
    "\n",
    "from config import getConfig"
   ]
  },
  {
   "cell_type": "code",
   "execution_count": 3,
   "id": "83a400ea",
   "metadata": {},
   "outputs": [],
   "source": [
    "cfg = getConfig()"
   ]
  },
  {
   "cell_type": "code",
   "execution_count": 4,
   "id": "0f358de7",
   "metadata": {},
   "outputs": [
    {
     "data": {
      "text/plain": [
       "{'ETrade': {'dataLoc': '~/data/investing/etrade/'},\n",
       " 'TDA': {'dataLoc': '~/data/investing/tda/'},\n",
       " 'marketAPI': {'URL': 'http://api.marketstack.com/v1/',\n",
       "  'APIKey': '?access_key=ffa68edbfb08de7589a43751795e0e07',\n",
       "  'dataLoc': '/home/tbrownex/data/retirement/funds/'}}"
      ]
     },
     "execution_count": 4,
     "metadata": {},
     "output_type": "execute_result"
    }
   ],
   "source": [
    "cfg"
   ]
  },
  {
   "cell_type": "code",
   "execution_count": 8,
   "id": "bbca5e0a",
   "metadata": {},
   "outputs": [],
   "source": [
    "months = pd.date_range('2020-02-01', freq='M', periods=36).tolist()\n",
    "months = [x.date() for x in months]"
   ]
  },
  {
   "cell_type": "code",
   "execution_count": 9,
   "id": "ae9001f3",
   "metadata": {},
   "outputs": [],
   "source": [
    "# These are the accounts to process\n",
    "# Roth\n",
    "# Sep\n",
    "# Traditional\n",
    "# Non-qualified"
   ]
  },
  {
   "cell_type": "code",
   "execution_count": 10,
   "id": "43564974",
   "metadata": {},
   "outputs": [],
   "source": [
    "def createDF(acct, resp):\n",
    "    d={}\n",
    "    d['account'] = acct\n",
    "    vals=[]\n",
    "    months = []\n",
    "    for mm in resp:\n",
    "        vals.append(mm['y'])\n",
    "        months.append(mm['data']['dateAsString'])\n",
    "    months = [x[:4]+'-'+x[-2:]+'-01' for x in months]\n",
    "\n",
    "    d['date'] = months\n",
    "    d['value'] = vals\n",
    "\n",
    "    return pd.DataFrame(d)"
   ]
  },
  {
   "cell_type": "code",
   "execution_count": 11,
   "id": "5eff1bdf",
   "metadata": {},
   "outputs": [],
   "source": [
    "resp = {\"data\":{\"response\":{\"accts\":[{\"acctNo\":\"65796136\",\"asOfToday\":0,\"acctPerformanceStatusStr\":None,\"acctPerformance\":None,\"acctPerformanceStatus\":0,\"indexPerformance\":None,\"indexPerformanceStatus\":0,\"acctValueStatusStr\":None,\"performance\":None,\"beginningBal\":3769,\"endingBal\":4288.0,\"acctConversionDate\":0,\"earned\":519.0,\"invested\":None,\"acctCreationDate\":0,\"investmentData\":None,\"earningsData\":[{\"x\":1580533200000,\"y\":3490.0,\"status\":0,\"data\":{\"missingDate\":\"false\",\"dateAsString\":\"202002\"}},{\"x\":1583038800000,\"y\":2883.0,\"status\":0,\"data\":{\"missingDate\":\"false\",\"dateAsString\":\"202003\"}},{\"x\":1585713600000,\"y\":3093.0,\"status\":0,\"data\":{\"missingDate\":\"false\",\"dateAsString\":\"202004\"}},{\"x\":1588305600000,\"y\":3218.0,\"status\":0,\"data\":{\"missingDate\":\"false\",\"dateAsString\":\"202005\"}},{\"x\":1590984000000,\"y\":3316.0,\"status\":0,\"data\":{\"missingDate\":\"false\",\"dateAsString\":\"202006\"}},{\"x\":1593576000000,\"y\":3408.0,\"status\":0,\"data\":{\"missingDate\":\"false\",\"dateAsString\":\"202007\"}},{\"x\":1596254400000,\"y\":3549.0,\"status\":0,\"data\":{\"missingDate\":\"false\",\"dateAsString\":\"202008\"}},{\"x\":1598932800000,\"y\":3447.0,\"status\":0,\"data\":{\"missingDate\":\"false\",\"dateAsString\":\"202009\"}},{\"x\":1601524800000,\"y\":3384.0,\"status\":0,\"data\":{\"missingDate\":\"false\",\"dateAsString\":\"202010\"}},{\"x\":1604203200000,\"y\":3969.0,\"status\":0,\"data\":{\"missingDate\":\"false\",\"dateAsString\":\"202011\"}},{\"x\":1606798800000,\"y\":4261.0,\"status\":0,\"data\":{\"missingDate\":\"false\",\"dateAsString\":\"202012\"}},{\"x\":1609477200000,\"y\":4178.0,\"status\":0,\"data\":{\"missingDate\":\"false\",\"dateAsString\":\"202101\"}},{\"x\":1612155600000,\"y\":4385.0,\"status\":0,\"data\":{\"missingDate\":\"false\",\"dateAsString\":\"202102\"}},{\"x\":1614574800000,\"y\":4506.0,\"status\":0,\"data\":{\"missingDate\":\"false\",\"dateAsString\":\"202103\"}},{\"x\":1617249600000,\"y\":4613.0,\"status\":0,\"data\":{\"missingDate\":\"false\",\"dateAsString\":\"202104\"}},{\"x\":1619841600000,\"y\":4800.0,\"status\":0,\"data\":{\"missingDate\":\"false\",\"dateAsString\":\"202105\"}},{\"x\":1622520000000,\"y\":4723.0,\"status\":0,\"data\":{\"missingDate\":\"false\",\"dateAsString\":\"202106\"}},{\"x\":1625112000000,\"y\":4723.0,\"status\":0,\"data\":{\"missingDate\":\"false\",\"dateAsString\":\"202107\"}},{\"x\":1627790400000,\"y\":4723.0,\"status\":0,\"data\":{\"missingDate\":\"false\",\"dateAsString\":\"202108\"}},{\"x\":1630468800000,\"y\":4750.0,\"status\":0,\"data\":{\"missingDate\":\"false\",\"dateAsString\":\"202109\"}},{\"x\":1633060800000,\"y\":4854.0,\"status\":0,\"data\":{\"missingDate\":\"false\",\"dateAsString\":\"202110\"}},{\"x\":1635739200000,\"y\":4679.0,\"status\":0,\"data\":{\"missingDate\":\"false\",\"dateAsString\":\"202111\"}},{\"x\":1638334800000,\"y\":4754.0,\"status\":0,\"data\":{\"missingDate\":\"false\",\"dateAsString\":\"202112\"}},{\"x\":1641013200000,\"y\":4519.0,\"status\":0,\"data\":{\"missingDate\":\"false\",\"dateAsString\":\"202201\"}},{\"x\":1643691600000,\"y\":4631.0,\"status\":0,\"data\":{\"missingDate\":\"false\",\"dateAsString\":\"202202\"}},{\"x\":1646110800000,\"y\":4826.0,\"status\":0,\"data\":{\"missingDate\":\"false\",\"dateAsString\":\"202203\"}},{\"x\":1648785600000,\"y\":4554.0,\"status\":0,\"data\":{\"missingDate\":\"false\",\"dateAsString\":\"202204\"}},{\"x\":1651377600000,\"y\":4392.0,\"status\":0,\"data\":{\"missingDate\":\"false\",\"dateAsString\":\"202205\"}},{\"x\":1654056000000,\"y\":4315.0,\"status\":0,\"data\":{\"missingDate\":\"false\",\"dateAsString\":\"202206\"}},{\"x\":1656648000000,\"y\":4494.0,\"status\":0,\"data\":{\"missingDate\":\"false\",\"dateAsString\":\"202207\"}},{\"x\":1659326400000,\"y\":4275.0,\"status\":0,\"data\":{\"missingDate\":\"false\",\"dateAsString\":\"202208\"}},{\"x\":1662004800000,\"y\":4001.0,\"status\":0,\"data\":{\"missingDate\":\"false\",\"dateAsString\":\"202209\"}},{\"x\":1664596800000,\"y\":4242.0,\"status\":0,\"data\":{\"missingDate\":\"false\",\"dateAsString\":\"202210\"}},{\"x\":1667275200000,\"y\":4322.0,\"status\":0,\"data\":{\"missingDate\":\"false\",\"dateAsString\":\"202211\"}},{\"x\":1669870800000,\"y\":4159.0,\"status\":0,\"data\":{\"missingDate\":\"false\",\"dateAsString\":\"202212\"}},{\"x\":1672549200000,\"y\":4288.0,\"status\":0,\"data\":{\"missingDate\":\"false\",\"dateAsString\":\"202301\"}}],\"earnedStatus\":1,\"acctvalue\":519.0,\"acctValueStatus\":1,\"instNo\":None}],\"indexes\":None,\"acctErrCode\":0,\"sinceDate\":1580533200000,\"todate\":1675118536619,\"sinceDatestr\":\"02/01/2020\",\"todatestr\":\"01/30/2023\",\"asOf\":\"01/30/2023\",\"returns\":[{\"acctId\":\"65796136\",\"idxId\":None,\"ytd\":None,\"monthly\":None,\"quarterly\":None,\"periods\":{\"202002\":\"3490.0\",\"202003\":\"2883.0\",\"202004\":\"3093.0\",\"202005\":\"3218.0\",\"202006\":\"3316.0\",\"202007\":\"3408.0\",\"202008\":\"3549.0\",\"202009\":\"3447.0\",\"202010\":\"3384.0\",\"202011\":\"3969.0\",\"202012\":\"4261.0\",\"202101\":\"4178.0\",\"202102\":\"4385.0\",\"202103\":\"4506.0\",\"202104\":\"4613.0\",\"202105\":\"4800.0\",\"202106\":\"4723.0\",\"202107\":\"4723.0\",\"202108\":\"4723.0\",\"202109\":\"4750.0\",\"202110\":\"4854.0\",\"202111\":\"4679.0\",\"202112\":\"4754.0\",\"202201\":\"4519.0\",\"202202\":\"4631.0\",\"202203\":\"4826.0\",\"202204\":\"4554.0\",\"202205\":\"4392.0\",\"202206\":\"4315.0\",\"202207\":\"4494.0\",\"202208\":\"4275.0\",\"202209\":\"4001.0\",\"202210\":\"4242.0\",\"202211\":\"4322.0\",\"202212\":\"4159.0\",\"202301\":\"4288.0\"}}]}}}\n",
    "resp = resp['data']['response']['accts'][0]['earningsData']\n",
    "\n",
    "roth = createDF('Roth', resp)"
   ]
  },
  {
   "cell_type": "code",
   "execution_count": 12,
   "id": "d653a08f",
   "metadata": {},
   "outputs": [],
   "source": [
    "resp = {\"data\":{\"response\":{\"accts\":[{\"acctNo\":\"37595699\",\"indexId\":None,\"indexKey\":None,\"pointData\":None,\"acctType\":None,\"asOfToday\":0,\"acctPerformanceStatusStr\":None,\"acctPerformance\":None,\"acctPerformanceStatus\":0,\"indexPerformance\":None,\"indexPerformanceStatus\":0,\"acctValueStatusStr\":None,\"performance\":None,\"beginningBal\":13187,\"endingBal\":12922.0,\"acctConversionDate\":0,\"earned\":-265.0,\"invested\":None,\"acctCreationDate\":0,\"investmentData\":None,\"earningsData\":[{\"x\":1583038800000,\"y\":11999.0,\"status\":0,\"data\":{\"missingDate\":\"false\",\"dateAsString\":\"202003\"}},{\"x\":1585713600000,\"y\":12155.0,\"status\":0,\"data\":{\"missingDate\":\"false\",\"dateAsString\":\"202004\"}},{\"x\":1588305600000,\"y\":12527.0,\"status\":0,\"data\":{\"missingDate\":\"false\",\"dateAsString\":\"202005\"}},{\"x\":1590984000000,\"y\":12749.0,\"status\":0,\"data\":{\"missingDate\":\"false\",\"dateAsString\":\"202006\"}},{\"x\":1593576000000,\"y\":13067.0,\"status\":0,\"data\":{\"missingDate\":\"false\",\"dateAsString\":\"202007\"}},{\"x\":1596254400000,\"y\":13193.0,\"status\":0,\"data\":{\"missingDate\":\"false\",\"dateAsString\":\"202008\"}},{\"x\":1598932800000,\"y\":13097.0,\"status\":0,\"data\":{\"missingDate\":\"false\",\"dateAsString\":\"202009\"}},{\"x\":1601524800000,\"y\":13739.0,\"status\":0,\"data\":{\"missingDate\":\"false\",\"dateAsString\":\"202010\"}},{\"x\":1604203200000,\"y\":14549.0,\"status\":0,\"data\":{\"missingDate\":\"false\",\"dateAsString\":\"202011\"}},{\"x\":1606798800000,\"y\":14375.0,\"status\":0,\"data\":{\"missingDate\":\"false\",\"dateAsString\":\"202012\"}},{\"x\":1609477200000,\"y\":15419.0,\"status\":0,\"data\":{\"missingDate\":\"false\",\"dateAsString\":\"202101\"}},{\"x\":1612155600000,\"y\":16122.0,\"status\":0,\"data\":{\"missingDate\":\"false\",\"dateAsString\":\"202102\"}},{\"x\":1614574800000,\"y\":16452.0,\"status\":0,\"data\":{\"missingDate\":\"false\",\"dateAsString\":\"202103\"}},{\"x\":1617249600000,\"y\":16026.0,\"status\":0,\"data\":{\"missingDate\":\"false\",\"dateAsString\":\"202104\"}},{\"x\":1619841600000,\"y\":17820.0,\"status\":0,\"data\":{\"missingDate\":\"false\",\"dateAsString\":\"202105\"}},{\"x\":1622520000000,\"y\":18162.0,\"status\":0,\"data\":{\"missingDate\":\"false\",\"dateAsString\":\"202106\"}},{\"x\":1625112000000,\"y\":17764.0,\"status\":0,\"data\":{\"missingDate\":\"false\",\"dateAsString\":\"202107\"}},{\"x\":1627790400000,\"y\":18225.0,\"status\":0,\"data\":{\"missingDate\":\"false\",\"dateAsString\":\"202108\"}},{\"x\":1630468800000,\"y\":17265.0,\"status\":0,\"data\":{\"missingDate\":\"false\",\"dateAsString\":\"202109\"}},{\"x\":1633060800000,\"y\":18281.0,\"status\":0,\"data\":{\"missingDate\":\"false\",\"dateAsString\":\"202110\"}},{\"x\":1635739200000,\"y\":17346.0,\"status\":0,\"data\":{\"missingDate\":\"false\",\"dateAsString\":\"202111\"}},{\"x\":1638334800000,\"y\":16783.0,\"status\":0,\"data\":{\"missingDate\":\"false\",\"dateAsString\":\"202112\"}},{\"x\":1641013200000,\"y\":15395.0,\"status\":0,\"data\":{\"missingDate\":\"false\",\"dateAsString\":\"202201\"}},{\"x\":1643691600000,\"y\":14891.0,\"status\":0,\"data\":{\"missingDate\":\"false\",\"dateAsString\":\"202202\"}},{\"x\":1646110800000,\"y\":15375.0,\"status\":0,\"data\":{\"missingDate\":\"false\",\"dateAsString\":\"202203\"}},{\"x\":1648785600000,\"y\":13625.0,\"status\":0,\"data\":{\"missingDate\":\"false\",\"dateAsString\":\"202204\"}},{\"x\":1651377600000,\"y\":12714.0,\"status\":0,\"data\":{\"missingDate\":\"false\",\"dateAsString\":\"202205\"}},{\"x\":1654056000000,\"y\":12368.0,\"status\":0,\"data\":{\"missingDate\":\"false\",\"dateAsString\":\"202206\"}},{\"x\":1656648000000,\"y\":13307.0,\"status\":0,\"data\":{\"missingDate\":\"false\",\"dateAsString\":\"202207\"}},{\"x\":1659326400000,\"y\":12450.0,\"status\":0,\"data\":{\"missingDate\":\"false\",\"dateAsString\":\"202208\"}},{\"x\":1662004800000,\"y\":11512.0,\"status\":0,\"data\":{\"missingDate\":\"false\",\"dateAsString\":\"202209\"}},{\"x\":1664596800000,\"y\":11818.0,\"status\":0,\"data\":{\"missingDate\":\"false\",\"dateAsString\":\"202210\"}},{\"x\":1667275200000,\"y\":12212.0,\"status\":0,\"data\":{\"missingDate\":\"false\",\"dateAsString\":\"202211\"}},{\"x\":1669870800000,\"y\":11402.0,\"status\":0,\"data\":{\"missingDate\":\"false\",\"dateAsString\":\"202212\"}},{\"x\":1672549200000,\"y\":12778.0,\"status\":0,\"data\":{\"missingDate\":\"false\",\"dateAsString\":\"202301\"}},{\"x\":1675227600000,\"y\":12922.0,\"status\":0,\"data\":{\"missingDate\":\"false\",\"dateAsString\":\"202302\"}}],\"earnedStatus\":-1,\"acctvalue\":-265.0,\"acctValueStatus\":-1,\"instNo\":None}],\"indexes\":None,\"acctErrCode\":0,\"sinceDate\":1583038800000,\"todate\":1675290044020,\"sinceDatestr\":\"03/01/2020\",\"todatestr\":\"02/01/2023\",\"asOf\":\"02/01/2023\",\"returns\":[{\"acctId\":\"37595699\",\"idxId\":None,\"ytd\":None,\"monthly\":None,\"quarterly\":None,\"periods\":{\"202003\":\"11999.0\",\"202004\":\"12155.0\",\"202005\":\"12527.0\",\"202006\":\"12749.0\",\"202007\":\"13067.0\",\"202008\":\"13193.0\",\"202009\":\"13097.0\",\"202010\":\"13739.0\",\"202011\":\"14549.0\",\"202012\":\"14375.0\",\"202101\":\"15419.0\",\"202102\":\"16122.0\",\"202103\":\"16452.0\",\"202104\":\"16026.0\",\"202105\":\"17820.0\",\"202106\":\"18162.0\",\"202107\":\"17764.0\",\"202108\":\"18225.0\",\"202109\":\"17265.0\",\"202110\":\"18281.0\",\"202111\":\"17346.0\",\"202112\":\"16783.0\",\"202201\":\"15395.0\",\"202202\":\"14891.0\",\"202203\":\"15375.0\",\"202204\":\"13625.0\",\"202205\":\"12714.0\",\"202206\":\"12368.0\",\"202207\":\"13307.0\",\"202208\":\"12450.0\",\"202209\":\"11512.0\",\"202210\":\"11818.0\",\"202211\":\"12212.0\",\"202212\":\"11402.0\",\"202301\":\"12778.0\",\"202302\":\"12922.0\"}}]}}}\n",
    "resp = resp['data']['response']['accts'][0]['earningsData']\n",
    "\n",
    "traditionalIRA = createDF('traditionalIRA', resp)"
   ]
  },
  {
   "cell_type": "code",
   "execution_count": 13,
   "id": "543842d6",
   "metadata": {},
   "outputs": [],
   "source": [
    "resp = {\"data\":{\"response\":{\"accts\":[{\"acctNo\":\"65005264\",\"indexId\":None,\"indexKey\":None,\"pointData\":None,\"acctType\":None,\"asOfToday\":0,\"acctPerformanceStatusStr\":None,\"acctPerformance\":None,\"acctPerformanceStatus\":0,\"indexPerformance\":None,\"indexPerformanceStatus\":0,\"acctValueStatusStr\":None,\"performance\":None,\"beginningBal\":0,\"endingBal\":38395.0,\"acctConversionDate\":0,\"earned\":38395.0,\"invested\":None,\"acctCreationDate\":0,\"investmentData\":None,\"earningsData\":[{\"x\":1614574800000,\"y\":10000.0,\"status\":0,\"data\":{\"missingDate\":\"false\",\"dateAsString\":\"202103\"}},{\"x\":1617249600000,\"y\":10000.0,\"status\":0,\"data\":{\"missingDate\":\"false\",\"dateAsString\":\"202104\"}},{\"x\":1619841600000,\"y\":10000.0,\"status\":0,\"data\":{\"missingDate\":\"false\",\"dateAsString\":\"202105\"}},{\"x\":1622520000000,\"y\":10014.0,\"status\":0,\"data\":{\"missingDate\":\"false\",\"dateAsString\":\"202106\"}},{\"x\":1625112000000,\"y\":10127.0,\"status\":0,\"data\":{\"missingDate\":\"false\",\"dateAsString\":\"202107\"}},{\"x\":1627790400000,\"y\":10415.0,\"status\":0,\"data\":{\"missingDate\":\"false\",\"dateAsString\":\"202108\"}},{\"x\":1630468800000,\"y\":10107.0,\"status\":0,\"data\":{\"missingDate\":\"false\",\"dateAsString\":\"202109\"}},{\"x\":1633060800000,\"y\":15520.0,\"status\":0,\"data\":{\"missingDate\":\"false\",\"dateAsString\":\"202110\"}},{\"x\":1635739200000,\"y\":15497.0,\"status\":0,\"data\":{\"missingDate\":\"false\",\"dateAsString\":\"202111\"}},{\"x\":1638334800000,\"y\":15401.0,\"status\":0,\"data\":{\"missingDate\":\"false\",\"dateAsString\":\"202112\"}},{\"x\":1641013200000,\"y\":14635.0,\"status\":0,\"data\":{\"missingDate\":\"false\",\"dateAsString\":\"202201\"}},{\"x\":1643691600000,\"y\":14216.0,\"status\":0,\"data\":{\"missingDate\":\"false\",\"dateAsString\":\"202202\"}},{\"x\":1646110800000,\"y\":14767.0,\"status\":0,\"data\":{\"missingDate\":\"false\",\"dateAsString\":\"202203\"}},{\"x\":1648785600000,\"y\":18511.0,\"status\":0,\"data\":{\"missingDate\":\"false\",\"dateAsString\":\"202204\"}},{\"x\":1651377600000,\"y\":22777.0,\"status\":0,\"data\":{\"missingDate\":\"false\",\"dateAsString\":\"202205\"}},{\"x\":1654056000000,\"y\":26475.0,\"status\":0,\"data\":{\"missingDate\":\"false\",\"dateAsString\":\"202206\"}},{\"x\":1656648000000,\"y\":28330.0,\"status\":0,\"data\":{\"missingDate\":\"false\",\"dateAsString\":\"202207\"}},{\"x\":1659326400000,\"y\":32061.0,\"status\":0,\"data\":{\"missingDate\":\"false\",\"dateAsString\":\"202208\"}},{\"x\":1662004800000,\"y\":29798.0,\"status\":0,\"data\":{\"missingDate\":\"false\",\"dateAsString\":\"202209\"}},{\"x\":1664596800000,\"y\":31188.0,\"status\":0,\"data\":{\"missingDate\":\"false\",\"dateAsString\":\"202210\"}},{\"x\":1667275200000,\"y\":37755.0,\"status\":0,\"data\":{\"missingDate\":\"false\",\"dateAsString\":\"202211\"}},{\"x\":1669870800000,\"y\":35921.0,\"status\":0,\"data\":{\"missingDate\":\"false\",\"dateAsString\":\"202212\"}},{\"x\":1672549200000,\"y\":38052.0,\"status\":0,\"data\":{\"missingDate\":\"false\",\"dateAsString\":\"202301\"}},{\"x\":1675227600000,\"y\":38395.0,\"status\":0,\"data\":{\"missingDate\":\"false\",\"dateAsString\":\"202302\"}}],\"earnedStatus\":1,\"acctvalue\":38395.0,\"acctValueStatus\":1,\"instNo\":None}],\"indexes\":None,\"acctErrCode\":0,\"sinceDate\":1614574800000,\"todate\":1675289788682,\"sinceDatestr\":\"03/01/2021\",\"todatestr\":\"02/01/2023\",\"asOf\":\"02/01/2023\",\"returns\":[{\"acctId\":\"65005264\",\"idxId\":None,\"ytd\":None,\"monthly\":None,\"quarterly\":None,\"periods\":{\"202103\":\"10000.0\",\"202104\":\"10000.0\",\"202105\":\"10000.0\",\"202106\":\"10014.0\",\"202107\":\"10127.0\",\"202108\":\"10415.0\",\"202109\":\"10107.0\",\"202110\":\"15520.0\",\"202111\":\"15497.0\",\"202112\":\"15401.0\",\"202201\":\"14635.0\",\"202202\":\"14216.0\",\"202203\":\"14767.0\",\"202204\":\"18511.0\",\"202205\":\"22777.0\",\"202206\":\"26475.0\",\"202207\":\"28330.0\",\"202208\":\"32061.0\",\"202209\":\"29798.0\",\"202210\":\"31188.0\",\"202211\":\"37755.0\",\"202212\":\"35921.0\",\"202301\":\"38052.0\",\"202302\":\"38395.0\"}}]}}}\n",
    "resp = resp['data']['response']['accts'][0]['earningsData']\n",
    "\n",
    "nonQual = createDF('nonQual', resp)"
   ]
  },
  {
   "cell_type": "code",
   "execution_count": 14,
   "id": "e72bcdc3",
   "metadata": {},
   "outputs": [],
   "source": [
    "resp = {\"data\":{\"response\":{\"accts\":[{\"acctNo\":\"65093717\",\"indexId\":None,\"indexKey\":None,\"pointData\":None,\"acctType\":None,\"asOfToday\":0,\"acctPerformanceStatusStr\":None,\"acctPerformance\":None,\"acctPerformanceStatus\":0,\"indexPerformance\":None,\"indexPerformanceStatus\":0,\"acctValueStatusStr\":None,\"performance\":None,\"beginningBal\":112913,\"endingBal\":139302.0,\"acctConversionDate\":0,\"earned\":26389.0,\"invested\":None,\"acctCreationDate\":0,\"investmentData\":None,\"earningsData\":[{\"x\":1583038800000,\"y\":98481.0,\"status\":0,\"data\":{\"missingDate\":\"false\",\"dateAsString\":\"202003\"}},{\"x\":1585713600000,\"y\":106164.0,\"status\":0,\"data\":{\"missingDate\":\"false\",\"dateAsString\":\"202004\"}},{\"x\":1588305600000,\"y\":106740.0,\"status\":0,\"data\":{\"missingDate\":\"false\",\"dateAsString\":\"202005\"}},{\"x\":1590984000000,\"y\":106970.0,\"status\":0,\"data\":{\"missingDate\":\"false\",\"dateAsString\":\"202006\"}},{\"x\":1593576000000,\"y\":110221.0,\"status\":0,\"data\":{\"missingDate\":\"false\",\"dateAsString\":\"202007\"}},{\"x\":1596254400000,\"y\":113868.0,\"status\":0,\"data\":{\"missingDate\":\"false\",\"dateAsString\":\"202008\"}},{\"x\":1598932800000,\"y\":114232.0,\"status\":0,\"data\":{\"missingDate\":\"false\",\"dateAsString\":\"202009\"}},{\"x\":1601524800000,\"y\":113723.0,\"status\":0,\"data\":{\"missingDate\":\"false\",\"dateAsString\":\"202010\"}},{\"x\":1604203200000,\"y\":122622.0,\"status\":0,\"data\":{\"missingDate\":\"false\",\"dateAsString\":\"202011\"}},{\"x\":1606798800000,\"y\":130538.0,\"status\":0,\"data\":{\"missingDate\":\"false\",\"dateAsString\":\"202012\"}},{\"x\":1609477200000,\"y\":126173.0,\"status\":0,\"data\":{\"missingDate\":\"false\",\"dateAsString\":\"202101\"}},{\"x\":1612155600000,\"y\":130710.0,\"status\":0,\"data\":{\"missingDate\":\"false\",\"dateAsString\":\"202102\"}},{\"x\":1614574800000,\"y\":133470.0,\"status\":0,\"data\":{\"missingDate\":\"false\",\"dateAsString\":\"202103\"}},{\"x\":1617249600000,\"y\":137756.0,\"status\":0,\"data\":{\"missingDate\":\"false\",\"dateAsString\":\"202104\"}},{\"x\":1619841600000,\"y\":142431.0,\"status\":0,\"data\":{\"missingDate\":\"false\",\"dateAsString\":\"202105\"}},{\"x\":1622520000000,\"y\":141476.0,\"status\":0,\"data\":{\"missingDate\":\"false\",\"dateAsString\":\"202106\"}},{\"x\":1625112000000,\"y\":141671.0,\"status\":0,\"data\":{\"missingDate\":\"false\",\"dateAsString\":\"202107\"}},{\"x\":1627790400000,\"y\":143938.0,\"status\":0,\"data\":{\"missingDate\":\"false\",\"dateAsString\":\"202108\"}},{\"x\":1630468800000,\"y\":141409.0,\"status\":0,\"data\":{\"missingDate\":\"false\",\"dateAsString\":\"202109\"}},{\"x\":1633060800000,\"y\":147814.0,\"status\":0,\"data\":{\"missingDate\":\"false\",\"dateAsString\":\"202110\"}},{\"x\":1635739200000,\"y\":144900.0,\"status\":0,\"data\":{\"missingDate\":\"false\",\"dateAsString\":\"202111\"}},{\"x\":1638334800000,\"y\":146754.0,\"status\":0,\"data\":{\"missingDate\":\"false\",\"dateAsString\":\"202112\"}},{\"x\":1641013200000,\"y\":142501.0,\"status\":0,\"data\":{\"missingDate\":\"false\",\"dateAsString\":\"202201\"}},{\"x\":1643691600000,\"y\":141219.0,\"status\":0,\"data\":{\"missingDate\":\"false\",\"dateAsString\":\"202202\"}},{\"x\":1646110800000,\"y\":145478.0,\"status\":0,\"data\":{\"missingDate\":\"false\",\"dateAsString\":\"202203\"}},{\"x\":1648785600000,\"y\":138558.0,\"status\":0,\"data\":{\"missingDate\":\"false\",\"dateAsString\":\"202204\"}},{\"x\":1651377600000,\"y\":138351.0,\"status\":0,\"data\":{\"missingDate\":\"false\",\"dateAsString\":\"202205\"}},{\"x\":1654056000000,\"y\":126402.0,\"status\":0,\"data\":{\"missingDate\":\"false\",\"dateAsString\":\"202206\"}},{\"x\":1656648000000,\"y\":135969.0,\"status\":0,\"data\":{\"missingDate\":\"false\",\"dateAsString\":\"202207\"}},{\"x\":1659326400000,\"y\":134927.0,\"status\":0,\"data\":{\"missingDate\":\"false\",\"dateAsString\":\"202208\"}},{\"x\":1662004800000,\"y\":127716.0,\"status\":0,\"data\":{\"missingDate\":\"false\",\"dateAsString\":\"202209\"}},{\"x\":1664596800000,\"y\":130939.0,\"status\":0,\"data\":{\"missingDate\":\"false\",\"dateAsString\":\"202210\"}},{\"x\":1667275200000,\"y\":136478.0,\"status\":0,\"data\":{\"missingDate\":\"false\",\"dateAsString\":\"202211\"}},{\"x\":1669870800000,\"y\":130632.0,\"status\":0,\"data\":{\"missingDate\":\"false\",\"dateAsString\":\"202212\"}},{\"x\":1672549200000,\"y\":138098.0,\"status\":0,\"data\":{\"missingDate\":\"false\",\"dateAsString\":\"202301\"}},{\"x\":1675227600000,\"y\":139302.0,\"status\":0,\"data\":{\"missingDate\":\"false\",\"dateAsString\":\"202302\"}}],\"earnedStatus\":1,\"acctvalue\":26389.0,\"acctValueStatus\":1,\"instNo\":None}],\"indexes\":None,\"acctErrCode\":0,\"sinceDate\":1583038800000,\"todate\":1675289895811,\"sinceDatestr\":\"03/01/2020\",\"todatestr\":\"02/01/2023\",\"asOf\":\"02/01/2023\",\"returns\":[{\"acctId\":\"65093717\",\"idxId\":None,\"ytd\":None,\"monthly\":None,\"quarterly\":None,\"periods\":{\"202003\":\"98481.0\",\"202004\":\"106164.0\",\"202005\":\"106740.0\",\"202006\":\"106970.0\",\"202007\":\"110221.0\",\"202008\":\"113868.0\",\"202009\":\"114232.0\",\"202010\":\"113723.0\",\"202011\":\"122622.0\",\"202012\":\"130538.0\",\"202101\":\"126173.0\",\"202102\":\"130710.0\",\"202103\":\"133470.0\",\"202104\":\"137756.0\",\"202105\":\"142431.0\",\"202106\":\"141476.0\",\"202107\":\"141671.0\",\"202108\":\"143938.0\",\"202109\":\"141409.0\",\"202110\":\"147814.0\",\"202111\":\"144900.0\",\"202112\":\"146754.0\",\"202201\":\"142501.0\",\"202202\":\"141219.0\",\"202203\":\"145478.0\",\"202204\":\"138558.0\",\"202205\":\"138351.0\",\"202206\":\"126402.0\",\"202207\":\"135969.0\",\"202208\":\"134927.0\",\"202209\":\"127716.0\",\"202210\":\"130939.0\",\"202211\":\"136478.0\",\"202212\":\"130632.0\",\"202301\":\"138098.0\",\"202302\":\"139302.0\"}}]}}}\n",
    "resp = resp['data']['response']['accts'][0]['earningsData']\n",
    "\n",
    "sep = createDF('SEP', resp)"
   ]
  },
  {
   "cell_type": "code",
   "execution_count": 15,
   "id": "8ebb9a04",
   "metadata": {},
   "outputs": [],
   "source": [
    "df = pd.concat([sep, nonQual, traditionalIRA, roth])\n",
    "\n",
    "df['value'] = df['value'].astype(int)"
   ]
  },
  {
   "cell_type": "code",
   "execution_count": 21,
   "id": "72aa2faa",
   "metadata": {},
   "outputs": [],
   "source": [
    "loc = cfg['ETrade']['dataLoc']\n",
    "df.to_csv(loc+'accountValues.csv', index=False)"
   ]
  },
  {
   "cell_type": "code",
   "execution_count": 25,
   "id": "3df09d2e",
   "metadata": {},
   "outputs": [],
   "source": [
    "#df = pd.read_csv(loc+'allAccounts.csv')\n",
    "\n",
    "#df[df['account']=='SEP']['value'].plot()"
   ]
  }
 ],
 "metadata": {
  "kernelspec": {
   "display_name": "Python 3 (ipykernel)",
   "language": "python",
   "name": "python3"
  },
  "language_info": {
   "codemirror_mode": {
    "name": "ipython",
    "version": 3
   },
   "file_extension": ".py",
   "mimetype": "text/x-python",
   "name": "python",
   "nbconvert_exporter": "python",
   "pygments_lexer": "ipython3",
   "version": "3.9.15"
  }
 },
 "nbformat": 4,
 "nbformat_minor": 5
}
