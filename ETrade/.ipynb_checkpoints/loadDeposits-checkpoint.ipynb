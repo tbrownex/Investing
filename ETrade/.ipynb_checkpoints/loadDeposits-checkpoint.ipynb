{
 "cells": [
  {
   "cell_type": "code",
   "execution_count": 1,
   "id": "98cb4046",
   "metadata": {},
   "outputs": [],
   "source": [
    "import pandas as pd\n",
    "\n",
    "from config import getConfig"
   ]
  },
  {
   "cell_type": "code",
   "execution_count": 8,
   "id": "ea089191",
   "metadata": {},
   "outputs": [],
   "source": [
    "deposits ={}\n",
    "deposits['nonQual'] = {\n",
    "    '2022-11-01': 5000,\n",
    "    '2022-08-08': 5000,\n",
    "    '2022-06-14': 5000,\n",
    "    '2022-05-06': 5000,\n",
    "    '2022-04-06': 5000,\n",
    "    '2021-10-18': 5000,\n",
    "    '2021-03-15': 10000\n",
    "}\n",
    "deposits['SEP'] = {\n",
    "    '2020-03-01': 98481}\n",
    "deposits['traditionalIRA'] = {\n",
    "    '2020-03-01': 11999}\n",
    "deposits['Roth'] = {\n",
    "    '2020-02-01': 3490}"
   ]
  },
  {
   "cell_type": "code",
   "execution_count": 9,
   "id": "f6dbad6c",
   "metadata": {},
   "outputs": [],
   "source": [
    "def createDF(account):\n",
    "    df = pd.DataFrame(deposits[account].items(), columns=['date', 'amount'])\n",
    "    df['account'] = account\n",
    "    return df[['account', 'date', 'amount']]"
   ]
  },
  {
   "cell_type": "code",
   "execution_count": 10,
   "id": "328029fa",
   "metadata": {},
   "outputs": [],
   "source": [
    "# Get the account names\n",
    "accounts = deposits.keys()"
   ]
  },
  {
   "cell_type": "code",
   "execution_count": 11,
   "id": "cddf2958",
   "metadata": {},
   "outputs": [],
   "source": [
    "dfList = []\n",
    "for acct in accounts:\n",
    "    depDF = createDF(acct)\n",
    "    dfList.append(depDF)\n",
    "\n",
    "df = pd.concat(dfList)"
   ]
  },
  {
   "cell_type": "code",
   "execution_count": 12,
   "id": "4ccb7b09",
   "metadata": {},
   "outputs": [],
   "source": [
    "cfg = getConfig()\n",
    "loc = cfg['ETrade']['dataLoc']"
   ]
  },
  {
   "cell_type": "code",
   "execution_count": 13,
   "id": "b50d9820",
   "metadata": {},
   "outputs": [],
   "source": [
    "df.to_csv(loc+'deposits.csv', index=False)"
   ]
  }
 ],
 "metadata": {
  "kernelspec": {
   "display_name": "Python 3 (ipykernel)",
   "language": "python",
   "name": "python3"
  },
  "language_info": {
   "codemirror_mode": {
    "name": "ipython",
    "version": 3
   },
   "file_extension": ".py",
   "mimetype": "text/x-python",
   "name": "python",
   "nbconvert_exporter": "python",
   "pygments_lexer": "ipython3",
   "version": "3.9.15"
  }
 },
 "nbformat": 4,
 "nbformat_minor": 5
}
