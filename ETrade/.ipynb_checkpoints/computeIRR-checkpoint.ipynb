{
 "cells": [
  {
   "cell_type": "code",
   "execution_count": 1,
   "id": "e3290cf9",
   "metadata": {},
   "outputs": [],
   "source": [
    "import pandas as pd\n",
    "import numpy_financial as npf\n",
    "import numpy as np\n",
    "import datetime\n",
    "\n",
    "from config import getConfig"
   ]
  },
  {
   "cell_type": "code",
   "execution_count": 2,
   "id": "58a304a1",
   "metadata": {},
   "outputs": [],
   "source": [
    "cfg = getConfig()\n",
    "loc = cfg['ETrade']['dataLoc']"
   ]
  },
  {
   "cell_type": "code",
   "execution_count": 3,
   "id": "2f843fdf",
   "metadata": {},
   "outputs": [],
   "source": [
    "df = pd.read_csv(loc+'deposits.csv')"
   ]
  },
  {
   "cell_type": "code",
   "execution_count": 4,
   "id": "c88691a7",
   "metadata": {},
   "outputs": [
    {
     "data": {
      "text/html": [
       "<div>\n",
       "<style scoped>\n",
       "    .dataframe tbody tr th:only-of-type {\n",
       "        vertical-align: middle;\n",
       "    }\n",
       "\n",
       "    .dataframe tbody tr th {\n",
       "        vertical-align: top;\n",
       "    }\n",
       "\n",
       "    .dataframe thead th {\n",
       "        text-align: right;\n",
       "    }\n",
       "</style>\n",
       "<table border=\"1\" class=\"dataframe\">\n",
       "  <thead>\n",
       "    <tr style=\"text-align: right;\">\n",
       "      <th></th>\n",
       "      <th>account</th>\n",
       "      <th>date</th>\n",
       "      <th>amount</th>\n",
       "    </tr>\n",
       "  </thead>\n",
       "  <tbody>\n",
       "    <tr>\n",
       "      <th>0</th>\n",
       "      <td>nonQual</td>\n",
       "      <td>2022-03-18</td>\n",
       "      <td>10000</td>\n",
       "    </tr>\n",
       "    <tr>\n",
       "      <th>1</th>\n",
       "      <td>nonQual</td>\n",
       "      <td>2022-04-06</td>\n",
       "      <td>5000</td>\n",
       "    </tr>\n",
       "    <tr>\n",
       "      <th>2</th>\n",
       "      <td>nonQual</td>\n",
       "      <td>2022-05-06</td>\n",
       "      <td>5000</td>\n",
       "    </tr>\n",
       "    <tr>\n",
       "      <th>3</th>\n",
       "      <td>nonQual</td>\n",
       "      <td>2022-06-14</td>\n",
       "      <td>5000</td>\n",
       "    </tr>\n",
       "    <tr>\n",
       "      <th>4</th>\n",
       "      <td>nonQual</td>\n",
       "      <td>2022-08-08</td>\n",
       "      <td>5000</td>\n",
       "    </tr>\n",
       "    <tr>\n",
       "      <th>5</th>\n",
       "      <td>nonQual</td>\n",
       "      <td>2022-10-18</td>\n",
       "      <td>5000</td>\n",
       "    </tr>\n",
       "    <tr>\n",
       "      <th>6</th>\n",
       "      <td>nonQual</td>\n",
       "      <td>2022-11-01</td>\n",
       "      <td>5000</td>\n",
       "    </tr>\n",
       "  </tbody>\n",
       "</table>\n",
       "</div>"
      ],
      "text/plain": [
       "   account        date  amount\n",
       "0  nonQual  2022-03-18   10000\n",
       "1  nonQual  2022-04-06    5000\n",
       "2  nonQual  2022-05-06    5000\n",
       "3  nonQual  2022-06-14    5000\n",
       "4  nonQual  2022-08-08    5000\n",
       "5  nonQual  2022-10-18    5000\n",
       "6  nonQual  2022-11-01    5000"
      ]
     },
     "execution_count": 4,
     "metadata": {},
     "output_type": "execute_result"
    }
   ],
   "source": [
    "df.sort_values('date', ignore_index=True, inplace=True)\n",
    "df"
   ]
  },
  {
   "cell_type": "code",
   "execution_count": 40,
   "id": "b9193bc0",
   "metadata": {},
   "outputs": [
    {
     "name": "stdout",
     "output_type": "stream",
     "text": [
      "Enter current account value:50000\n"
     ]
    }
   ],
   "source": [
    "currValue = int(input('Enter current account value:'))"
   ]
  },
  {
   "cell_type": "code",
   "execution_count": 41,
   "id": "561e9333",
   "metadata": {},
   "outputs": [],
   "source": [
    "startDate = df.iloc[0]['date']\n",
    "startDate = pd.to_datetime(startDate).date()\n",
    "\n",
    "diff = datetime.date.today()-startDate\n",
    "numPeriods = diff.days"
   ]
  },
  {
   "cell_type": "code",
   "execution_count": 42,
   "id": "d084dacf",
   "metadata": {},
   "outputs": [],
   "source": [
    "depList = np.zeros(shape=[numPeriods])\n",
    "for row in df.iterrows():\n",
    "    depositDate = pd.to_datetime(row[1]['date']).date()\n",
    "    diff = datetime.date.today()-depositDate\n",
    "    numPeriods = diff.days\n",
    "    depList[numPeriods-1] = -row[1]['amount']\n",
    "depList[0] = currValue\n",
    "# right now the array has recent values at the end; reverse that\n",
    "depList = depList[::-1]"
   ]
  },
  {
   "cell_type": "code",
   "execution_count": 57,
   "id": "5a15129b",
   "metadata": {},
   "outputs": [
    {
     "data": {
      "text/plain": [
       "0.00094"
      ]
     },
     "execution_count": 57,
     "metadata": {},
     "output_type": "execute_result"
    }
   ],
   "source": [
    "# Compute the daily rate of return\n",
    "# Using daily because the deposits could occur at any time during the month so\n",
    "# monthly is not granular enough\n",
    "r = round(npf.irr(depList),5)\n",
    "r"
   ]
  },
  {
   "cell_type": "code",
   "execution_count": 65,
   "id": "22c23169",
   "metadata": {},
   "outputs": [
    {
     "data": {
      "text/plain": [
       "14090.825854130706"
      ]
     },
     "execution_count": 65,
     "metadata": {},
     "output_type": "execute_result"
    }
   ],
   "source": [
    "npf.fv(r, nper=365, pmt=0, pv=-10000)"
   ]
  },
  {
   "cell_type": "code",
   "execution_count": null,
   "id": "2e655a14",
   "metadata": {},
   "outputs": [],
   "source": []
  }
 ],
 "metadata": {
  "kernelspec": {
   "display_name": "Python 3 (ipykernel)",
   "language": "python",
   "name": "python3"
  },
  "language_info": {
   "codemirror_mode": {
    "name": "ipython",
    "version": 3
   },
   "file_extension": ".py",
   "mimetype": "text/x-python",
   "name": "python",
   "nbconvert_exporter": "python",
   "pygments_lexer": "ipython3",
   "version": "3.9.15"
  }
 },
 "nbformat": 4,
 "nbformat_minor": 5
}
