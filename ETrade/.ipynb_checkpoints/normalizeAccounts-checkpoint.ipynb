{
 "cells": [
  {
   "cell_type": "code",
   "execution_count": 1,
   "id": "c1489599",
   "metadata": {},
   "outputs": [],
   "source": [
    "import pandas as pd\n",
    "\n",
    "from config import getConfig"
   ]
  },
  {
   "cell_type": "markdown",
   "id": "60ca9f74",
   "metadata": {},
   "source": [
    "#### Normalize all the accounts to a starting value of $10,000"
   ]
  },
  {
   "cell_type": "code",
   "execution_count": 2,
   "id": "0f190bbb",
   "metadata": {},
   "outputs": [],
   "source": [
    "cfg = getConfig()\n",
    "loc = cfg['ETrade']['dataLoc']"
   ]
  },
  {
   "cell_type": "code",
   "execution_count": 5,
   "id": "fb942889",
   "metadata": {},
   "outputs": [],
   "source": [
    "df = pd.read_csv(loc+'accountValues.csv')"
   ]
  },
  {
   "cell_type": "code",
   "execution_count": 37,
   "id": "98221561",
   "metadata": {},
   "outputs": [],
   "source": [
    "initVals = df.groupby('account')['value'].first()\n",
    "initVals.name = 'initVal'"
   ]
  },
  {
   "cell_type": "code",
   "execution_count": 14,
   "id": "a674593a",
   "metadata": {},
   "outputs": [],
   "source": [
    "df.set_index('account', inplace=True)\n",
    "df = df.join(initVals).reset_index()\n",
    "df['normalizedVal'] = df['value']/df['initVal']*1e4\n",
    "df['value'] = df['normalizedVal'].astype(int)\n",
    "df = df[['account', 'date', 'value']]"
   ]
  },
  {
   "cell_type": "code",
   "execution_count": null,
   "id": "444ac67c",
   "metadata": {},
   "outputs": [],
   "source": []
  }
 ],
 "metadata": {
  "kernelspec": {
   "display_name": "Python 3 (ipykernel)",
   "language": "python",
   "name": "python3"
  },
  "language_info": {
   "codemirror_mode": {
    "name": "ipython",
    "version": 3
   },
   "file_extension": ".py",
   "mimetype": "text/x-python",
   "name": "python",
   "nbconvert_exporter": "python",
   "pygments_lexer": "ipython3",
   "version": "3.9.15"
  }
 },
 "nbformat": 4,
 "nbformat_minor": 5
}
