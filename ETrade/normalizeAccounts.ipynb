{
 "cells": [
  {
   "cell_type": "code",
   "execution_count": 1,
   "id": "c552ebc8",
   "metadata": {},
   "outputs": [],
   "source": [
    "import pandas as pd\n",
    "\n",
    "from config import getConfig"
   ]
  },
  {
   "cell_type": "markdown",
   "id": "92bed5b9",
   "metadata": {},
   "source": [
    "#### Normalize all the accounts to a starting value of $10,000"
   ]
  },
  {
   "cell_type": "code",
   "execution_count": 2,
   "id": "c35cbe25",
   "metadata": {},
   "outputs": [],
   "source": [
    "cfg = getConfig()\n",
    "loc = cfg['ETrade']['dataLoc']"
   ]
  },
  {
   "cell_type": "code",
   "execution_count": 3,
   "id": "949c891a",
   "metadata": {},
   "outputs": [],
   "source": [
    "df = pd.read_csv(loc+'accountValues.csv')"
   ]
  },
  {
   "cell_type": "code",
   "execution_count": 4,
   "id": "50ee7a03",
   "metadata": {},
   "outputs": [],
   "source": [
    "initVals = df.groupby('account')['value'].first()\n",
    "initVals.name = 'initVal'"
   ]
  },
  {
   "cell_type": "code",
   "execution_count": 5,
   "id": "a9067a3a",
   "metadata": {},
   "outputs": [],
   "source": [
    "df.set_index('account', inplace=True)\n",
    "df = df.join(initVals).reset_index()\n",
    "df['normalizedVal'] = df['value']/df['initVal']*1e4\n",
    "df['value'] = df['normalizedVal'].astype(int)\n",
    "df = df[['account', 'date', 'value']]"
   ]
  },
  {
   "cell_type": "code",
   "execution_count": 6,
   "id": "66d9799d",
   "metadata": {},
   "outputs": [],
   "source": [
    "df.to_csv(loc+'normalized.csv', index=False)"
   ]
  }
 ],
 "metadata": {
  "kernelspec": {
   "display_name": "Python 3 (ipykernel)",
   "language": "python",
   "name": "python3"
  },
  "language_info": {
   "codemirror_mode": {
    "name": "ipython",
    "version": 3
   },
   "file_extension": ".py",
   "mimetype": "text/x-python",
   "name": "python",
   "nbconvert_exporter": "python",
   "pygments_lexer": "ipython3",
   "version": "3.9.15"
  }
 },
 "nbformat": 4,
 "nbformat_minor": 5
}
