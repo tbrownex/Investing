{
 "cells": [
  {
   "cell_type": "code",
   "execution_count": 1,
   "id": "705dde8a",
   "metadata": {},
   "outputs": [],
   "source": [
    "import pandas as pd\n",
    "\n",
    "from config import getConfig"
   ]
  },
  {
   "cell_type": "code",
   "execution_count": 2,
   "id": "c7fb43a5",
   "metadata": {},
   "outputs": [],
   "source": [
    "def prep(df):\n",
    "    df['date'] = df['date'].apply(lambda x: pd.to_datetime(x))\n",
    "    df['tmp'] = df['value'].replace('[\\$,]', '', regex=True).astype(float)\n",
    "    df['value'] = df['tmp'].astype(int)\n",
    "    return df[['date', 'value']]"
   ]
  },
  {
   "cell_type": "code",
   "execution_count": 3,
   "id": "83a400ea",
   "metadata": {},
   "outputs": [],
   "source": [
    "cfg = getConfig()"
   ]
  },
  {
   "cell_type": "code",
   "execution_count": 4,
   "id": "baca4ad8",
   "metadata": {},
   "outputs": [
    {
     "data": {
      "text/plain": [
       "{'ETrade': {'dataLoc': '~/data/investing/ETrade/',\n",
       "  'fileName': 'accountValues.csv'},\n",
       " 'Fisher': {'dataLoc': '~/data/investing/Fisher/'},\n",
       " 'SPX': {'dataLoc': '~/data/investing/benchmark/', 'fileName': 'spx.csv'},\n",
       " 'MSCI': {'dataLoc': '~/data/investing/benchmark/', 'fileName': 'msci.csv'},\n",
       " 'marketAPI': {'URL': 'http://api.marketstack.com/v1/',\n",
       "  'APIKey': '?access_key=ffa68edbfb08de7589a43751795e0e07'}}"
      ]
     },
     "execution_count": 4,
     "metadata": {},
     "output_type": "execute_result"
    }
   ],
   "source": [
    "cfg"
   ]
  },
  {
   "cell_type": "code",
   "execution_count": 4,
   "id": "da846082",
   "metadata": {},
   "outputs": [],
   "source": [
    "df = pd.read_csv(cfg['dataLoc']+'accountValueHistory.csv')"
   ]
  },
  {
   "cell_type": "code",
   "execution_count": 5,
   "id": "445a584e",
   "metadata": {},
   "outputs": [],
   "source": [
    "df = prep(df)"
   ]
  }
 ],
 "metadata": {
  "kernelspec": {
   "display_name": "Python 3 (ipykernel)",
   "language": "python",
   "name": "python3"
  },
  "language_info": {
   "codemirror_mode": {
    "name": "ipython",
    "version": 3
   },
   "file_extension": ".py",
   "mimetype": "text/x-python",
   "name": "python",
   "nbconvert_exporter": "python",
   "pygments_lexer": "ipython3",
   "version": "3.9.15"
  }
 },
 "nbformat": 4,
 "nbformat_minor": 5
}
