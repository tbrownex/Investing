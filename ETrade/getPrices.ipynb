{
 "cells": [
  {
   "cell_type": "code",
   "execution_count": 1,
   "id": "5b96d0e3",
   "metadata": {},
   "outputs": [],
   "source": [
    "import requests\n",
    "import json\n",
    "import pandas as pd\n",
    "import datetime\n",
    "\n",
    "from utils import formatURL\n",
    "from config import getConfig"
   ]
  },
  {
   "cell_type": "code",
   "execution_count": 2,
   "id": "d50efba5",
   "metadata": {},
   "outputs": [],
   "source": [
    "# TODO\n",
    "# Where is the data for DIISX?\n",
    "# Why so little data for MSCI and SPX?"
   ]
  },
  {
   "cell_type": "code",
   "execution_count": 3,
   "id": "71742c49",
   "metadata": {},
   "outputs": [],
   "source": [
    "def getStartDt(maxDates, symbol):\n",
    "    startDt = maxDates.get(symbol, None)\n",
    "    if startDt:\n",
    "        startDt =  startDt + datetime.timedelta(days=1)\n",
    "    else:\n",
    "        startDt = pd.to_datetime('2012-01-01').date()\n",
    "    endDt = startDt + datetime.timedelta(days=365)\n",
    "    return startDt, endDt"
   ]
  },
  {
   "cell_type": "code",
   "execution_count": 4,
   "id": "9f83356d",
   "metadata": {},
   "outputs": [],
   "source": [
    "def createDF(resp):\n",
    "    # Input is the \"get\" response for a Fund; return a formatted df with the dates and prices\n",
    "    dtList = []\n",
    "    valList = []\n",
    "    divList = []\n",
    "    for row in resp['data']:\n",
    "        dtList.append(row['date'][:10])\n",
    "        valList.append(row['close'])\n",
    "        divList.append(row['dividend'])\n",
    "    d = {}\n",
    "    d['date'] = dtList\n",
    "    d['price'] = valList\n",
    "    d['dividend'] = divList\n",
    "    return pd.DataFrame(d).sort_values('date')"
   ]
  },
  {
   "cell_type": "code",
   "execution_count": 5,
   "id": "f577d17c",
   "metadata": {},
   "outputs": [],
   "source": [
    "def getData(symbol, fromDt, toDt):\n",
    "    url = baseURL + '&symbols=' + symbol + '&date_from='+ str(fromDt) + '&date_to='+str(toDt)\n",
    "    return requests.get(url).json()"
   ]
  },
  {
   "cell_type": "code",
   "execution_count": 2,
   "id": "0f97c6f5",
   "metadata": {},
   "outputs": [],
   "source": [
    "cfg = getConfig()\n",
    "baseURL = formatURL('eod')"
   ]
  },
  {
   "cell_type": "code",
   "execution_count": 13,
   "id": "cd4315ff",
   "metadata": {},
   "outputs": [],
   "source": [
    "df = pd.read_csv(cfg['ETrade']['dataLoc']+'fundData.csv')\n",
    "\n",
    "df['date'] = df['date'].apply(lambda x: pd.to_datetime(x).date())"
   ]
  },
  {
   "cell_type": "code",
   "execution_count": 14,
   "id": "fdf46f31",
   "metadata": {},
   "outputs": [],
   "source": [
    "# The dictionary will hold the most recent date where we have data for each fund\n",
    "currentSymbols = set(df.fund)\n",
    "maxDates = {}\n",
    "for s in currentSymbols:\n",
    "    maxDates[s] = df[df['fund']==s]['date'].max()"
   ]
  },
  {
   "cell_type": "code",
   "execution_count": 16,
   "id": "55da61f7",
   "metadata": {},
   "outputs": [],
   "source": [
    "#maxDates"
   ]
  },
  {
   "cell_type": "code",
   "execution_count": 17,
   "id": "4908d6ca",
   "metadata": {},
   "outputs": [
    {
     "data": {
      "text/plain": [
       "{'ARKK', 'CASH', 'CCJ', 'COMB', 'DIISX', 'JEPI', 'NUSI', 'QYLD', 'RYLD', 'SPY'}"
      ]
     },
     "execution_count": 17,
     "metadata": {},
     "output_type": "execute_result"
    }
   ],
   "source": [
    "set(df.fund)"
   ]
  },
  {
   "cell_type": "code",
   "execution_count": 8,
   "id": "9e90f6df",
   "metadata": {},
   "outputs": [],
   "source": [
    "# Enter the symbol for which you want the historical prices\n",
    "# Symbol may or may not be in the fundData file already\n",
    "#symbol = 'MSCIWORLD.INDX'\n",
    "symbol = 'ARKK'\n",
    "symbol = 'SP500.INDX'"
   ]
  },
  {
   "cell_type": "code",
   "execution_count": 9,
   "id": "d8f926a5",
   "metadata": {},
   "outputs": [],
   "source": [
    "apiResp = getData(symbol, '2023-01-01', '2023-02-05')"
   ]
  },
  {
   "cell_type": "code",
   "execution_count": 10,
   "id": "911f90bb",
   "metadata": {},
   "outputs": [
    {
     "data": {
      "text/plain": [
       "{'error': {'code': 'no_valid_symbols_provided',\n",
       "  'message': 'At least one valid symbol must be provided'}}"
      ]
     },
     "execution_count": 10,
     "metadata": {},
     "output_type": "execute_result"
    }
   ],
   "source": [
    "apiResp"
   ]
  },
  {
   "cell_type": "code",
   "execution_count": 19,
   "id": "ffe9fec8",
   "metadata": {},
   "outputs": [],
   "source": [
    "fromDt, toDt = getStartDt(maxDates, symbol)\n",
    "apiResp = getData(symbol, fromDt, toDt)\n",
    "\n",
    "tmp = createDF(apiResp)\n",
    "tmp['fund'] = symbol\n",
    "\n",
    "dfList = []\n",
    "dfList.append(tmp)\n",
    "while toDt < datetime.date.today():\n",
    "    fromDt = toDt + datetime.timedelta(days=1)\n",
    "    toDt = toDt + datetime.timedelta(days=365)\n",
    "    apiResp = getData(symbol, fromDt, toDt)\n",
    "    tmp = createDF(apiResp)\n",
    "    tmp['fund'] = symbol\n",
    "    dfList.append(tmp)\n",
    "\n",
    "upd = pd.concat(dfList).drop_duplicates().dropna()\n",
    "upd = upd.sort_values(['fund', 'date']).reset_index(drop=True)\n",
    "upd['date'] = upd['date'].apply(lambda x: pd.to_datetime(x).date())\n",
    "\n",
    "df = pd.concat([df, upd])"
   ]
  },
  {
   "cell_type": "code",
   "execution_count": 21,
   "id": "080383f2",
   "metadata": {},
   "outputs": [
    {
     "data": {
      "text/plain": [
       "{'pagination': {'limit': 1000, 'offset': 0, 'count': 0, 'total': 0},\n",
       " 'data': []}"
      ]
     },
     "execution_count": 21,
     "metadata": {},
     "output_type": "execute_result"
    }
   ],
   "source": [
    "apiResp"
   ]
  },
  {
   "cell_type": "code",
   "execution_count": 23,
   "id": "63a845c8",
   "metadata": {},
   "outputs": [
    {
     "data": {
      "text/plain": [
       "datetime.date(2024, 2, 1)"
      ]
     },
     "execution_count": 23,
     "metadata": {},
     "output_type": "execute_result"
    }
   ],
   "source": [
    "toDt"
   ]
  },
  {
   "cell_type": "code",
   "execution_count": 71,
   "id": "6ea50038",
   "metadata": {},
   "outputs": [
    {
     "data": {
      "text/plain": [
       "fund\n",
       "990100.INDX       2022-07-15\n",
       "ARKK              2022-08-11\n",
       "CCJ               2022-08-11\n",
       "COMB              2022-08-11\n",
       "MSCIALL.INDX      2022-07-15\n",
       "MSCIEAFE.INDX     2022-07-15\n",
       "MSCIWORLD.INDX    2022-07-15\n",
       "QYLD              2022-08-11\n",
       "RYLD              2022-08-11\n",
       "SP500TR.INDX      2022-08-12\n",
       "Name: date, dtype: object"
      ]
     },
     "execution_count": 71,
     "metadata": {},
     "output_type": "execute_result"
    }
   ],
   "source": [
    "# Check that all funds were updated\n",
    "df.groupby('fund')['date'].max()"
   ]
  },
  {
   "cell_type": "code",
   "execution_count": 58,
   "id": "0e299d2c",
   "metadata": {},
   "outputs": [],
   "source": [
    "# Just in case I ran the same symbol twice\n",
    "df = df.drop_duplicates()\n",
    "# Fill NaN dividend with 0\n",
    "df.fillna(0, inplace=True)"
   ]
  },
  {
   "cell_type": "code",
   "execution_count": 59,
   "id": "1e0bcb2f",
   "metadata": {},
   "outputs": [],
   "source": [
    "df.to_csv(cfg['dataLoc']+'fundData.csv', index=False)"
   ]
  },
  {
   "cell_type": "code",
   "execution_count": null,
   "id": "a70a89ba",
   "metadata": {},
   "outputs": [],
   "source": []
  }
 ],
 "metadata": {
  "kernelspec": {
   "display_name": "Python 3 (ipykernel)",
   "language": "python",
   "name": "python3"
  },
  "language_info": {
   "codemirror_mode": {
    "name": "ipython",
    "version": 3
   },
   "file_extension": ".py",
   "mimetype": "text/x-python",
   "name": "python",
   "nbconvert_exporter": "python",
   "pygments_lexer": "ipython3",
   "version": "3.9.15"
  }
 },
 "nbformat": 4,
 "nbformat_minor": 5
}
