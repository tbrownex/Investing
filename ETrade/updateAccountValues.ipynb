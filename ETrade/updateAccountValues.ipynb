{
 "cells": [
  {
   "cell_type": "code",
   "execution_count": 1,
   "id": "ce30487d",
   "metadata": {},
   "outputs": [],
   "source": [
    "import pandas as pd\n",
    "\n",
    "from config import getConfig"
   ]
  },
  {
   "cell_type": "code",
   "execution_count": 2,
   "id": "b132ebeb",
   "metadata": {},
   "outputs": [],
   "source": [
    "def getNew():\n",
    "    df = pd.read_excel(cfg['ETrade']['dataLoc']+'current.xlsx',\n",
    "                       header=0,\n",
    "                       names=['date', 'value'])\n",
    "    df['value'] = df['value'].replace('[\\$,]', '', regex=True).astype(float)\n",
    "    df['value'] = df['value'].apply(lambda x: int(x))\n",
    "    df['date'] = df['date'].apply(lambda x: pd.to_datetime(x))\n",
    "    return df"
   ]
  },
  {
   "cell_type": "code",
   "execution_count": 3,
   "id": "80cb9d4d",
   "metadata": {},
   "outputs": [],
   "source": [
    "def getExisting():\n",
    "    df = pd.read_csv(cfg['ETrade']['dataLoc']+'accountValues.csv')\n",
    "    df['date'] = df['date'].apply(lambda x: pd.to_datetime(x))\n",
    "    return df"
   ]
  },
  {
   "cell_type": "code",
   "execution_count": 4,
   "id": "78b7a76c",
   "metadata": {},
   "outputs": [],
   "source": [
    "cfg = getConfig()"
   ]
  },
  {
   "cell_type": "code",
   "execution_count": 5,
   "id": "058ab7f2",
   "metadata": {},
   "outputs": [
    {
     "name": "stderr",
     "output_type": "stream",
     "text": [
      "/home/tbrownex/miniconda3/envs/tf/lib/python3.9/site-packages/openpyxl/styles/stylesheet.py:226: UserWarning: Workbook contains no default style, apply openpyxl's default\n",
      "  warn(\"Workbook contains no default style, apply openpyxl's default\")\n"
     ]
    }
   ],
   "source": [
    "new = getNew()"
   ]
  },
  {
   "cell_type": "code",
   "execution_count": 6,
   "id": "f7b40d5f",
   "metadata": {},
   "outputs": [],
   "source": [
    "existing = getExisting()"
   ]
  },
  {
   "cell_type": "code",
   "execution_count": 7,
   "id": "f8adc238",
   "metadata": {},
   "outputs": [],
   "source": [
    "df = pd.concat([new, existing])\n",
    "df = df.drop_duplicates()\n",
    "df"
   ]
  },
  {
   "cell_type": "code",
   "execution_count": 15,
   "id": "27e592eb",
   "metadata": {},
   "outputs": [],
   "source": [
    "# last row is mid-month so remove it\n",
    "#df = df[:-1]"
   ]
  },
  {
   "cell_type": "code",
   "execution_count": 11,
   "id": "af8b1c33",
   "metadata": {},
   "outputs": [],
   "source": [
    "df.sort_values('date', inplace=True)"
   ]
  },
  {
   "cell_type": "markdown",
   "id": "5764e762",
   "metadata": {},
   "source": [
    "##### Check that the monthly dates are correct"
   ]
  },
  {
   "cell_type": "code",
   "execution_count": 48,
   "id": "912a4534",
   "metadata": {},
   "outputs": [
    {
     "name": "stdout",
     "output_type": "stream",
     "text": [
      "dates run from 2020-12-31 to 2024-03-31\n",
      "\n",
      "Missing:\n",
      "\n",
      "Wrong date:\n"
     ]
    }
   ],
   "source": [
    "start = df['date'].min()\n",
    "end = df['date'].max()\n",
    "print(\"dates run from {} to {}\".format(str(start.date()), str(end.date())))\n",
    "\n",
    "# generate all the end-of-month dates between the two\n",
    "dates = pd.date_range(start=start, end=end, freq='m')\n",
    "\n",
    "common = set(dates).intersection(set(df.date))\n",
    "missing = set(dates) - set(df.date)\n",
    "print(\"\\nMissing:\")\n",
    "for x in missing:\n",
    "    print(\" - \", x.date())\n",
    "\n",
    "wrongDate = set(df.date) - set(dates) \n",
    "print(\"\\nWrong date:\")\n",
    "for x in wrongDate: print(\" - \", x.date())"
   ]
  },
  {
   "cell_type": "code",
   "execution_count": 49,
   "id": "5440bd48",
   "metadata": {},
   "outputs": [],
   "source": [
    "# In case you need to dix a date\n",
    "#df.loc[23, 'date'] = pd.to_datetime('2022-11-30')"
   ]
  },
  {
   "cell_type": "code",
   "execution_count": 50,
   "id": "1b27eb18",
   "metadata": {},
   "outputs": [],
   "source": [
    "df.to_csv(cfg['ETrade']['dataLoc']+'accountValues.csv', index=False)"
   ]
  }
 ],
 "metadata": {
  "kernelspec": {
   "display_name": "Python 3 (ipykernel)",
   "language": "python",
   "name": "python3"
  },
  "language_info": {
   "codemirror_mode": {
    "name": "ipython",
    "version": 3
   },
   "file_extension": ".py",
   "mimetype": "text/x-python",
   "name": "python",
   "nbconvert_exporter": "python",
   "pygments_lexer": "ipython3",
   "version": "3.9.15"
  }
 },
 "nbformat": 4,
 "nbformat_minor": 5
}
