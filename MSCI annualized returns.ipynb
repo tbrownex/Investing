{
 "cells": [
  {
   "cell_type": "markdown",
   "id": "72d80cbf",
   "metadata": {},
   "source": [
    "#### See the annualized returns vary by choosing different start dates"
   ]
  },
  {
   "cell_type": "code",
   "execution_count": 1,
   "id": "787aed56",
   "metadata": {},
   "outputs": [],
   "source": [
    "import pandas as pd\n",
    "import numpy as np\n",
    "import numpy_financial as npf\n",
    "import matplotlib.pyplot as plt"
   ]
  },
  {
   "cell_type": "code",
   "execution_count": 2,
   "id": "a608233d",
   "metadata": {},
   "outputs": [],
   "source": [
    "def getData():\n",
    "    # Get the historical monthly returns from MSCI World\n",
    "    df = pd.read_csv('~/data/retirement/benchmark/MSCI_world-v1.csv')\n",
    "    df['Date'] = df['Date'].apply(lambda x: pd.to_datetime(x))\n",
    "    df.rename(columns={'Date': 'date', 'MSCI World': 'value'}, inplace=True)\n",
    "    return df"
   ]
  },
  {
   "cell_type": "code",
   "execution_count": 3,
   "id": "3e0dd6ac",
   "metadata": {},
   "outputs": [],
   "source": [
    "def filterDate(startDT):\n",
    "    # Filter by date, format yyyy-mm-01. Earliest is 1978-12-01\n",
    "    return df[df['date'] >= startDt]"
   ]
  },
  {
   "cell_type": "code",
   "execution_count": 8,
   "id": "d5c0d170",
   "metadata": {},
   "outputs": [],
   "source": [
    "def getRate(df):\n",
    "    # Return the average monthly growth rate\n",
    "    initVal = df.iloc[0]['value']\n",
    "    finalVal = df.iloc[-1]['value']\n",
    "    numMonths = len(df)-1\n",
    "    return npf.rate(nper=numMonths, pmt=0, pv=-initVal, fv=finalVal)"
   ]
  },
  {
   "cell_type": "code",
   "execution_count": 9,
   "id": "b35aa919",
   "metadata": {},
   "outputs": [],
   "source": [
    "def calcMetrics(df, numYears=None):\n",
    "    # Compute the monthly growth rate of MSCI plus the std dev of monthly returns\n",
    "    if numYears:\n",
    "        tmp = df[:numYears*12]\n",
    "    else:\n",
    "        tmp = df\n",
    "    rate = getRate(tmp)\n",
    "    # Compute the Standard Deviation of monthly returns\n",
    "    df['prev'] = df['value'].shift(1)\n",
    "    df['pctChg'] = (df['value']-df['prev'])/df['prev']\n",
    "    std = df['pctChg'].std()\n",
    "    return rate, std"
   ]
  },
  {
   "cell_type": "markdown",
   "id": "439a4eea",
   "metadata": {},
   "source": [
    "##### Loop through different start dates and compute return"
   ]
  },
  {
   "cell_type": "code",
   "execution_count": 10,
   "id": "383fdf96",
   "metadata": {},
   "outputs": [],
   "source": [
    "years = [str(x) for x in range(1979, 2019)]\n",
    "dates = [x+'-01-01' for x in years]"
   ]
  },
  {
   "cell_type": "code",
   "execution_count": 16,
   "id": "6462d7c2",
   "metadata": {},
   "outputs": [
    {
     "name": "stdout",
     "output_type": "stream",
     "text": [
      "MSCI return annualized, given a start date\n",
      "\n",
      "StartDt    Return     Std Dev\n",
      "1979-01-01  10.9%   0.043\n",
      "1980-01-01  11.0%   0.0432\n",
      "1981-01-01  10.5%   0.0433\n",
      "1982-01-01  10.3%   0.0432\n",
      "1983-01-01  9.9%    0.0431\n",
      "1984-01-01  9.1%    0.0433\n",
      "1985-01-01  8.7%    0.0431\n",
      "1986-01-01  8.7%    0.0433\n",
      "1987-01-01  8.3%    0.0434\n",
      "1988-01-01  8.7%    0.0425\n",
      "1989-01-01  7.9%    0.0426\n",
      "1990-01-01  8.1%    0.0426\n",
      "1991-01-01  9.1%    0.0416\n",
      "1992-01-01  8.8%    0.0415\n",
      "1993-01-01  9.0%    0.0417\n",
      "1994-01-01  8.0%    0.0416\n",
      "1995-01-01  8.8%    0.0419\n",
      "1996-01-01  8.3%    0.0424\n",
      "1997-01-01  7.9%    0.0429\n",
      "1998-01-01  7.0%    0.0428\n",
      "1999-01-01  6.6%    0.0419\n",
      "2000-01-01  5.5%    0.0416\n",
      "2001-01-01  5.8%    0.0412\n",
      "2002-01-01  6.9%    0.0402\n",
      "2003-01-01  9.8%    0.0377\n",
      "2004-01-01  9.1%    0.0376\n",
      "2005-01-01  9.3%    0.0386\n",
      "2006-01-01  8.4%    0.039\n",
      "2007-01-01  8.3%    0.0398\n",
      "2008-01-01  10.0%   0.0399\n",
      "2009-01-01  14.0%   0.0372\n",
      "2010-01-01  13.0%   0.0357\n",
      "2011-01-01  12.2%   0.0362\n",
      "2012-01-01  13.4%   0.036\n",
      "2013-01-01  13.4%   0.0374\n",
      "2014-01-01  12.9%   0.0387\n",
      "2015-01-01  10.9%   0.0407\n",
      "2016-01-01  13.0%   0.0379\n",
      "2017-01-01  11.8%   0.0407\n",
      "2018-01-01  12.4%   0.0445\n"
     ]
    }
   ],
   "source": [
    "print(\"MSCI return annualized, given a start date\")\n",
    "print(\"\\nStartDt    Return     Std Dev\")\n",
    "df = getData()\n",
    "l = []\n",
    "for startDt in dates:\n",
    "    df = filterDate(startDt)\n",
    "    monthlyGrowthRate, std = calcMetrics(df)\n",
    "    fv = npf.fv(monthlyGrowthRate, nper=12, pmt=0, pv=-100)\n",
    "    annualRt = (fv-100)/100\n",
    "    l.append(std)\n",
    "    print(\"{:<12}{:<8.1%}{:.3}\".format(startDt, annualRt, std))"
   ]
  },
  {
   "cell_type": "code",
   "execution_count": 17,
   "id": "64df1bad",
   "metadata": {},
   "outputs": [
    {
     "data": {
      "text/plain": [
       "0.0408871348086045"
      ]
     },
     "execution_count": 17,
     "metadata": {},
     "output_type": "execute_result"
    }
   ],
   "source": [
    "pd.Series(l).mean()"
   ]
  },
  {
   "cell_type": "code",
   "execution_count": 31,
   "id": "ad63ec0c",
   "metadata": {},
   "outputs": [
    {
     "name": "stdout",
     "output_type": "stream",
     "text": [
      "MSCI annualized return, rolling 10 years\n",
      "1979-01-01  21.0%\n",
      "1980-01-01  22.0%\n",
      "1981-01-01  14.7%\n",
      "1982-01-01  15.3%\n",
      "1983-01-01  12.5%\n",
      "1984-01-01  11.7%\n",
      "1985-01-01  8.8%\n",
      "1986-01-01  9.6%\n",
      "1987-01-01  8.8%\n",
      "1988-01-01  12.3%\n",
      "1989-01-01  10.6%\n",
      "1990-01-01  14.7%\n",
      "1991-01-01  16.6%\n",
      "1992-01-01  13.1%\n",
      "1993-01-01  8.3%\n",
      "1994-01-01  5.6%\n",
      "1995-01-01  7.7%\n",
      "1996-01-01  8.1%\n",
      "1997-01-01  7.1%\n",
      "1998-01-01  4.0%\n",
      "1999-01-01  -2.4%\n",
      "2000-01-01  -3.0%\n",
      "2001-01-01  -1.0%\n",
      "2002-01-01  0.3%\n",
      "2003-01-01  6.3%\n",
      "2004-01-01  6.3%\n",
      "2005-01-01  7.7%\n",
      "2006-01-01  6.3%\n",
      "2007-01-01  6.5%\n",
      "2008-01-01  8.9%\n",
      "2009-01-01  12.7%\n",
      "2010-01-01  13.1%\n",
      "2011-01-01  11.5%\n",
      "2012-01-01  14.6%\n",
      "2013-01-01  13.4%\n",
      "2014-01-01  12.9%\n",
      "2015-01-01  10.9%\n",
      "2016-01-01  13.0%\n",
      "2017-01-01  11.8%\n",
      "2018-01-01  12.4%\n"
     ]
    }
   ],
   "source": [
    "print(\"MSCI annualized return, rolling 10 years\")\n",
    "df = getData()\n",
    "l = []\n",
    "numYears=10\n",
    "for startDt in dates:\n",
    "    df = filterDate(startDt)\n",
    "    monthlyGrowthRate, std = calcMetrics(df, numYears)\n",
    "    fv = npf.fv(monthlyGrowthRate-1, nper=12, pmt=0, pv=-100)\n",
    "    annualRt = (fv-100)/100\n",
    "    l.append(annualRt)\n",
    "    print(\"{:<12}{:.1%}\".format(startDt, annualRt))"
   ]
  },
  {
   "cell_type": "code",
   "execution_count": 38,
   "id": "6647a253",
   "metadata": {},
   "outputs": [
    {
     "data": {
      "text/plain": [
       "<AxesSubplot:>"
      ]
     },
     "execution_count": 38,
     "metadata": {},
     "output_type": "execute_result"
    },
    {
     "data": {
      "image/png": "[encoded data removed]",
      "text/plain": [
       "<Figure size 432x288 with 1 Axes>"
      ]
     },
     "metadata": {
      "needs_background": "light"
     },
     "output_type": "display_data"
    }
   ],
   "source": [
    "pd.Series(l).plot()"
   ]
  },
  {
   "cell_type": "code",
   "execution_count": 41,
   "id": "9837eb6b",
   "metadata": {},
   "outputs": [
    {
     "data": {
      "text/plain": [
       "<AxesSubplot:>"
      ]
     },
     "execution_count": 41,
     "metadata": {},
     "output_type": "execute_result"
    },
    {
     "data": {
      "image/png": "[encoded data removed]",
      "text/plain": [
       "<Figure size 432x288 with 1 Axes>"
      ]
     },
     "metadata": {
      "needs_background": "light"
     },
     "output_type": "display_data"
    }
   ],
   "source": [
    "pd.Series(l).hist(bins=20)"
   ]
  },
  {
   "cell_type": "code",
   "execution_count": null,
   "id": "50cfe7a4",
   "metadata": {},
   "outputs": [],
   "source": []
  }
 ],
 "metadata": {
  "kernelspec": {
   "display_name": "tensorflow",
   "language": "python",
   "name": "tensorflow"
  },
  "language_info": {
   "codemirror_mode": {
    "name": "ipython",
    "version": 3
   },
   "file_extension": ".py",
   "mimetype": "text/x-python",
   "name": "python",
   "nbconvert_exporter": "python",
   "pygments_lexer": "ipython3",
   "version": "3.8.10"
  }
 },
 "nbformat": 4,
 "nbformat_minor": 5
}
