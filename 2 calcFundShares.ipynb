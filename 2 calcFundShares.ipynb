{
 "cells": [
  {
   "cell_type": "code",
   "execution_count": 1,
   "id": "5b96d0e3",
   "metadata": {},
   "outputs": [],
   "source": [
    "import pandas as pd\n",
    "\n",
    "from config import getConfig"
   ]
  },
  {
   "cell_type": "code",
   "execution_count": null,
   "id": "1dd5eba0",
   "metadata": {},
   "outputs": [],
   "source": [
    "def getInitFundValue(df):\n",
    "    grp = df.groupby('fund', as_index=False)['date'].min()\n",
    "    df.set_index(['fund', 'date'], inplace=True)\n",
    "    return grp.set_index(['fund', 'date']).join(df)"
   ]
  },
  {
   "cell_type": "code",
   "execution_count": null,
   "id": "ec3e38c4",
   "metadata": {},
   "outputs": [],
   "source": [
    "cfg = getConfig()"
   ]
  },
  {
   "cell_type": "code",
   "execution_count": null,
   "id": "f71312a6",
   "metadata": {},
   "outputs": [],
   "source": [
    "df = pd.read_csv(cfg['dataLoc']+'fundData.csv')\n",
    "initPrice = getInitFundValue(df)"
   ]
  },
  {
   "cell_type": "code",
   "execution_count": null,
   "id": "5b19b118",
   "metadata": {},
   "outputs": [],
   "source": [
    "initPrice['shares'] = round(1000/initPrice['price'],2)\n",
    "initPrice.reset_index(inplace=True)\n",
    "initPrice[['fund', 'shares']].to_csv(cfg['dataLoc']+'numShares.csv', index=False)"
   ]
  }
 ],
 "metadata": {
  "kernelspec": {
   "display_name": "tensorflow",
   "language": "python",
   "name": "tensorflow"
  },
  "language_info": {
   "codemirror_mode": {
    "name": "ipython",
    "version": 3
   },
   "file_extension": ".py",
   "mimetype": "text/x-python",
   "name": "python",
   "nbconvert_exporter": "python",
   "pygments_lexer": "ipython3",
   "version": "3.8.10"
  }
 },
 "nbformat": 4,
 "nbformat_minor": 5
}
