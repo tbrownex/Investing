{
 "cells": [
  {
   "cell_type": "code",
   "execution_count": 1,
   "id": "5b96d0e3",
   "metadata": {},
   "outputs": [],
   "source": [
    "import pandas as pd\n",
    "\n",
    "from config import getConfig\n",
    "from calcInitShares import calcShares"
   ]
  },
  {
   "cell_type": "code",
   "execution_count": 2,
   "id": "ec3e38c4",
   "metadata": {},
   "outputs": [],
   "source": [
    "cfg = getConfig()"
   ]
  },
  {
   "cell_type": "code",
   "execution_count": 5,
   "id": "451904c8",
   "metadata": {},
   "outputs": [
    {
     "name": "stdout",
     "output_type": "stream",
     "text": [
      "which account?ETrade\n"
     ]
    }
   ],
   "source": [
    "acct = input(\"which account?\")"
   ]
  },
  {
   "cell_type": "code",
   "execution_count": 6,
   "id": "a66064dc",
   "metadata": {},
   "outputs": [],
   "source": [
    "assert acct in cfg.keys(), 'invalid account'"
   ]
  },
  {
   "cell_type": "code",
   "execution_count": 7,
   "id": "9f35dfc1",
   "metadata": {},
   "outputs": [],
   "source": [
    "df = pd.read_csv(cfg[acct]['dataLoc']+cfg[acct]['fileName'])"
   ]
  },
  {
   "cell_type": "code",
   "execution_count": 8,
   "id": "d9b3c700",
   "metadata": {},
   "outputs": [],
   "source": [
    "df['value'] = df['value'].replace('[\\$,]', '', regex=True).astype(float).astype(int)\n",
    "numShares = calcShares(df)"
   ]
  },
  {
   "cell_type": "code",
   "execution_count": null,
   "id": "360cfee9",
   "metadata": {},
   "outputs": [],
   "source": []
  }
 ],
 "metadata": {
  "kernelspec": {
   "display_name": "Python 3 (ipykernel)",
   "language": "python",
   "name": "python3"
  },
  "language_info": {
   "codemirror_mode": {
    "name": "ipython",
    "version": 3
   },
   "file_extension": ".py",
   "mimetype": "text/x-python",
   "name": "python",
   "nbconvert_exporter": "python",
   "pygments_lexer": "ipython3",
   "version": "3.9.15"
  }
 },
 "nbformat": 4,
 "nbformat_minor": 5
}
