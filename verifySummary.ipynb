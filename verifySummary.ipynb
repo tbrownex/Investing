{
 "cells": [
  {
   "cell_type": "code",
   "execution_count": 2,
   "id": "e44558d5",
   "metadata": {},
   "outputs": [],
   "source": [
    "import glob\n",
    "import pandas as pd\n",
    "import numpy as np"
   ]
  },
  {
   "cell_type": "code",
   "execution_count": 2,
   "id": "737bbac3",
   "metadata": {},
   "outputs": [],
   "source": [
    "def getFV(raw, calculated_growth):\n",
    "    start = raw.iloc[0]['Close']\n",
    "    numYears = len(raw)/12\n",
    "    return start*np.power(calculated_growth, numYears)"
   ]
  },
  {
   "cell_type": "code",
   "execution_count": 3,
   "id": "f6b12d1a",
   "metadata": {},
   "outputs": [],
   "source": [
    "def formatAcct(acct):\n",
    "    acctName = acct.split(\"/raw/\")[1]\n",
    "    return acctName.split(\".csv\")[0]"
   ]
  },
  {
   "cell_type": "markdown",
   "id": "3d604f83",
   "metadata": {},
   "source": [
    "##### Make sure the summary \"annual growth\" is right by comparing start/end raw Closing price"
   ]
  },
  {
   "cell_type": "code",
   "execution_count": 7,
   "id": "92a05f90",
   "metadata": {},
   "outputs": [],
   "source": [
    "rawLoc = '/home/tbrownex/data/retirement/funds/raw/*'\n",
    "summaryFile = '/home/tbrownex/data/retirement/funds/fundSummary.csv'"
   ]
  },
  {
   "cell_type": "code",
   "execution_count": 8,
   "id": "ce7a838e",
   "metadata": {},
   "outputs": [],
   "source": [
    "summary = pd.read_csv(summaryFile)\n",
    "summary.set_index('fund', inplace=True)"
   ]
  },
  {
   "cell_type": "code",
   "execution_count": 9,
   "id": "0d7911e1",
   "metadata": {},
   "outputs": [
    {
     "name": "stdout",
     "output_type": "stream",
     "text": [
      "ANAYX 0.993\n",
      "PHYTX 1.007\n",
      "NUSI 1.061\n",
      "PCLPX 0.932\n",
      "IJH 0.998\n",
      "RYLD 0.944\n",
      "COIIX 1.017\n",
      "MEIIX 0.985\n",
      "PZTRX 0.991\n",
      "PEP 1.096\n",
      "QYLD 0.998\n",
      "VEA 0.955\n",
      "VFIAX 0.97\n",
      "TRBCX 0.965\n",
      "EFA 0.987\n",
      "VAIPX 0.98\n",
      "IJR 1.037\n",
      "PIREX 0.988\n",
      "NFFFX 1.158\n",
      "TEAFX 1.056\n",
      "PRILX 1.002\n",
      "POSIX 1.077\n",
      "GSDIX 0.995\n",
      "NHMRX 0.995\n",
      "MTIIX 1.053\n",
      "SKIRX 1.065\n",
      "PONPX 1.023\n",
      "COVRX 0.961\n"
     ]
    }
   ],
   "source": [
    "for fund in glob.glob(rawLoc):\n",
    "    fundName = formatAcct(fund)\n",
    "    raw = pd.read_csv(fund)\n",
    "    calculated_growth = summary.loc[fundName]['annualReturn']\n",
    "    fv = getFV(raw, calculated_growth)\n",
    "    print(fundName, round(fv/raw.iloc[-1]['Close'],3))"
   ]
  },
  {
   "cell_type": "code",
   "execution_count": 10,
   "id": "a6c33864",
   "metadata": {},
   "outputs": [],
   "source": [
    "r = pd.read_csv('/home/tbrownex/data/retirement/funds/raw/COVRX.csv')\n",
    "n = pd.read_csv('/home/tbrownex/data/retirement/funds/normalized/COVRX.csv')"
   ]
  },
  {
   "cell_type": "code",
   "execution_count": 11,
   "id": "ae280083",
   "metadata": {},
   "outputs": [
    {
     "data": {
      "text/plain": [
       "(103, 102)"
      ]
     },
     "execution_count": 11,
     "metadata": {},
     "output_type": "execute_result"
    }
   ],
   "source": [
    "len(r), len(n)"
   ]
  },
  {
   "cell_type": "code",
   "execution_count": 42,
   "id": "e8853826",
   "metadata": {},
   "outputs": [],
   "source": [
    "def getRatio(df, col):\n",
    "    start = df.iloc[0][col]\n",
    "    end = df.iloc[-1][col]\n",
    "    return end/start"
   ]
  },
  {
   "cell_type": "code",
   "execution_count": 47,
   "id": "b665460b",
   "metadata": {},
   "outputs": [],
   "source": [
    "a = getRatio(r, 'Close')\n",
    "b = getRatio(n, 'COVRX')"
   ]
  },
  {
   "cell_type": "code",
   "execution_count": 49,
   "id": "fb007148",
   "metadata": {},
   "outputs": [
    {
     "data": {
      "text/plain": [
       "(2.0974155069582503, 2.0019089251796776)"
      ]
     },
     "execution_count": 49,
     "metadata": {},
     "output_type": "execute_result"
    }
   ],
   "source": [
    "a,b"
   ]
  },
  {
   "cell_type": "code",
   "execution_count": 22,
   "id": "5506831f",
   "metadata": {},
   "outputs": [],
   "source": [
    "numYears = len(df)/12"
   ]
  },
  {
   "cell_type": "code",
   "execution_count": 26,
   "id": "7107704d",
   "metadata": {},
   "outputs": [],
   "source": [
    "growthRate = summary.loc['COVRX']['annualReturn']"
   ]
  },
  {
   "cell_type": "code",
   "execution_count": 28,
   "id": "8f932dee",
   "metadata": {},
   "outputs": [
    {
     "data": {
      "text/plain": [
       "31.65"
      ]
     },
     "execution_count": 28,
     "metadata": {},
     "output_type": "execute_result"
    }
   ],
   "source": [
    "end"
   ]
  },
  {
   "cell_type": "code",
   "execution_count": 31,
   "id": "7d2db6f7",
   "metadata": {},
   "outputs": [],
   "source": [
    "def tom(gr):\n",
    "    return start*np.power(gr, numYears)"
   ]
  },
  {
   "cell_type": "code",
   "execution_count": 32,
   "id": "80159f15",
   "metadata": {},
   "outputs": [
    {
     "name": "stdout",
     "output_type": "stream",
     "text": [
      "31.61792370084539\n"
     ]
    }
   ],
   "source": [
    "print(tom(1.09))"
   ]
  },
  {
   "cell_type": "code",
   "execution_count": 9,
   "id": "572489a1",
   "metadata": {},
   "outputs": [],
   "source": [
    "vals = [5]\n",
    "for x in range(8):\n",
    "    vals.append(vals[x]*1.0537)"
   ]
  },
  {
   "cell_type": "code",
   "execution_count": 10,
   "id": "66ea2c71",
   "metadata": {},
   "outputs": [
    {
     "data": {
      "text/plain": [
       "[5,\n",
       " 5.2685,\n",
       " 5.551418450000001,\n",
       " 5.849529620765002,\n",
       " 6.163649361400083,\n",
       " 6.494637332107268,\n",
       " 6.843399356841429,\n",
       " 7.210889902303815,\n",
       " 7.59811469005753]"
      ]
     },
     "execution_count": 10,
     "metadata": {},
     "output_type": "execute_result"
    }
   ],
   "source": [
    "vals"
   ]
  },
  {
   "cell_type": "code",
   "execution_count": 74,
   "id": "c7f35994",
   "metadata": {},
   "outputs": [],
   "source": [
    "numYears = len(vals)-1"
   ]
  },
  {
   "cell_type": "code",
   "execution_count": 86,
   "id": "7a4c980a",
   "metadata": {},
   "outputs": [
    {
     "data": {
      "text/plain": [
       "7.598114690057529"
      ]
     },
     "execution_count": 86,
     "metadata": {},
     "output_type": "execute_result"
    }
   ],
   "source": [
    "testRate = 1.0537\n",
    "5*np.power(testRate, numYears)"
   ]
  },
  {
   "cell_type": "code",
   "execution_count": 88,
   "id": "b90db456",
   "metadata": {},
   "outputs": [
    {
     "data": {
      "text/plain": [
       "40"
      ]
     },
     "execution_count": 88,
     "metadata": {},
     "output_type": "execute_result"
    }
   ],
   "source": [
    "5*np.power(2,3)"
   ]
  },
  {
   "cell_type": "code",
   "execution_count": 7,
   "id": "010a2871",
   "metadata": {},
   "outputs": [
    {
     "name": "stderr",
     "output_type": "stream",
     "text": [
      "<ipython-input-7-7c4e0db009ec>:1: DeprecationWarning: numpy.rate is deprecated and will be removed from NumPy 1.20. Use numpy_financial.rate instead (https://pypi.org/project/numpy-financial/).\n",
      "  np.rate(nper=12,pmt=0,pv=-100,fv=200)\n"
     ]
    },
    {
     "data": {
      "text/plain": [
       "0.0594630943600106"
      ]
     },
     "execution_count": 7,
     "metadata": {},
     "output_type": "execute_result"
    }
   ],
   "source": [
    "np.rate(nper=12,pmt=0,pv=-100,fv=200)"
   ]
  },
  {
   "cell_type": "code",
   "execution_count": 8,
   "id": "8e5eaa77",
   "metadata": {},
   "outputs": [
    {
     "data": {
      "text/plain": [
       "2.0000000000162026"
      ]
     },
     "execution_count": 8,
     "metadata": {},
     "output_type": "execute_result"
    }
   ],
   "source": [
    "np.power(1.0594630943600106,12)"
   ]
  },
  {
   "cell_type": "code",
   "execution_count": null,
   "id": "4a97f934",
   "metadata": {},
   "outputs": [],
   "source": []
  }
 ],
 "metadata": {
  "kernelspec": {
   "display_name": "tensorflow",
   "language": "python",
   "name": "tensorflow"
  },
  "language_info": {
   "codemirror_mode": {
    "name": "ipython",
    "version": 3
   },
   "file_extension": ".py",
   "mimetype": "text/x-python",
   "name": "python",
   "nbconvert_exporter": "python",
   "pygments_lexer": "ipython3",
   "version": "3.8.10"
  }
 },
 "nbformat": 4,
 "nbformat_minor": 5
}
