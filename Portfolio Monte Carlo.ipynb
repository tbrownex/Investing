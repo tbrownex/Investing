{
 "cells": [
  {
   "cell_type": "markdown",
   "id": "72d80cbf",
   "metadata": {},
   "source": [
    "#### Taken initial fund value, expected withdrawals, expected monthly return, inflation and Fisher management fee,\n",
    "#### simulate fund values over time using Monte Carlo"
   ]
  },
  {
   "cell_type": "code",
   "execution_count": 2,
   "id": "787aed56",
   "metadata": {},
   "outputs": [],
   "source": [
    "import pandas as pd\n",
    "import numpy as np\n",
    "import numpy_financial as npf\n",
    "import matplotlib.pyplot as plt\n",
    "\n",
    "from generateRandomSample import generateRandomSample"
   ]
  },
  {
   "cell_type": "code",
   "execution_count": 3,
   "id": "a608233d",
   "metadata": {},
   "outputs": [],
   "source": [
    "def getData():\n",
    "    # Get the historical monthly returns from MSCI World\n",
    "    df = pd.read_csv('~/data/retirement/benchmark/MSCI_world-v1.csv')\n",
    "    df['Date'] = df['Date'].apply(lambda x: pd.to_datetime(x))\n",
    "    df.rename(columns={'Date': 'date', 'MSCI World': 'value'}, inplace=True)\n",
    "    return df"
   ]
  },
  {
   "cell_type": "code",
   "execution_count": 4,
   "id": "3e0dd6ac",
   "metadata": {},
   "outputs": [],
   "source": [
    "def filterDate(startDT):\n",
    "    # Filter by date, format yyyy-mm-01. Earliest is 1978-12-01\n",
    "    return df[df['date'] >= startDt]"
   ]
  },
  {
   "cell_type": "code",
   "execution_count": 5,
   "id": "d5c0d170",
   "metadata": {},
   "outputs": [],
   "source": [
    "def getRate(df):\n",
    "    # Return the average monthly growth rate\n",
    "    initVal = df.iloc[0]['value']\n",
    "    finalVal = df.iloc[-1]['value']\n",
    "    numMonths = len(df)-1\n",
    "    return 1+npf.rate(nper=numMonths, pmt=0, pv=-initVal, fv=finalVal)"
   ]
  },
  {
   "cell_type": "code",
   "execution_count": 6,
   "id": "c6017cb0",
   "metadata": {},
   "outputs": [],
   "source": [
    "def getFundval(fundVal, data, fee):\n",
    "    for wd, ret in data:\n",
    "        if withdrawalFirst:\n",
    "            fundVal -= wd\n",
    "            fundVal *= ret\n",
    "        else:\n",
    "            fundVal *= ret\n",
    "            fundVal -= wd\n",
    "        fundVal *= fee\n",
    "    return int(fundVal)"
   ]
  },
  {
   "cell_type": "code",
   "execution_count": 7,
   "id": "93fdd784",
   "metadata": {},
   "outputs": [],
   "source": [
    "def calcFee():\n",
    "    # This is the fee paid to Fisher: 1.15 %\n",
    "    fee = 1+npf.rate(nper=12, pmt=0, pv=-100, fv=98.85)\n",
    "    print(\"Fisher fee turns $100 into {:.2f} after 12 months\".format(100*np.power(fee, 12)))\n",
    "    return fee"
   ]
  },
  {
   "cell_type": "code",
   "execution_count": 8,
   "id": "a3de04c5",
   "metadata": {},
   "outputs": [],
   "source": [
    "def calcMetrics(df):\n",
    "    # Compute the monthly growth rate of MSCI plus the std dev of monthly returns\n",
    "    rate = getRate(df)\n",
    "    # Compute the Standard Deviation of monthly returns\n",
    "    df['prev'] = df['value'].shift(1)\n",
    "    df['pctChg'] = (df['value']-df['prev'])/df['prev']\n",
    "    std = df['pctChg'].std()\n",
    "    return rate, std"
   ]
  },
  {
   "cell_type": "markdown",
   "id": "439a4eea",
   "metadata": {},
   "source": [
    "##### Set some constants"
   ]
  },
  {
   "cell_type": "code",
   "execution_count": 84,
   "id": "383fdf96",
   "metadata": {},
   "outputs": [],
   "source": [
    "# Initial fund value\n",
    "initFund = 3e6\n",
    "# Initial monthly withdrawal amount\n",
    "initWD = int(11000)\n",
    "# Annual inflation rate\n",
    "annualInflationRate = 0.022\n",
    "# How far out to forecast\n",
    "numYears = 30\n",
    "# Do you withdraw first or apply the return first?\n",
    "withdrawalFirst = False\n",
    "# Filter on the MSCI data\n",
    "startDt = '1978-12-01'"
   ]
  },
  {
   "cell_type": "code",
   "execution_count": 85,
   "id": "6115753e",
   "metadata": {},
   "outputs": [],
   "source": [
    "fcastLength = numYears * 12\n",
    "monthlyInflationRate = 1+npf.rate(nper=12, pmt=0, pv=-100, fv=100*(1+annualInflationRate))\n",
    "withdrawals = [initWD *np.power(monthlyInflationRate, x) for x in range(fcastLength)]"
   ]
  },
  {
   "cell_type": "markdown",
   "id": "5a98ab3f",
   "metadata": {},
   "source": [
    "##### Get the MSCI historical data and compute some metrics"
   ]
  },
  {
   "cell_type": "code",
   "execution_count": 86,
   "id": "052a30c4",
   "metadata": {},
   "outputs": [],
   "source": [
    "df = getData()\n",
    "df = filterDate(startDt)\n",
    "\n",
    "monthlyGrowthRate, std = calcMetrics(df)"
   ]
  },
  {
   "cell_type": "code",
   "execution_count": 125,
   "id": "8fcda2a3",
   "metadata": {},
   "outputs": [],
   "source": [
    "# This is a 9% annualized rate, which is about what we should plan on\n",
    "monthlyGrowthRate = 1.007207323316205"
   ]
  },
  {
   "cell_type": "code",
   "execution_count": 126,
   "id": "c9abc71c",
   "metadata": {},
   "outputs": [
    {
     "name": "stdout",
     "output_type": "stream",
     "text": [
      "MSCI return annualized: 9.00%\n"
     ]
    }
   ],
   "source": [
    "# What is the annualized growth rate, given the monthly rate?\n",
    "fv = npf.fv(monthlyGrowthRate-1, nper=12, pmt=0, pv=-100)\n",
    "print(\"MSCI return annualized: {:.2%}\".format((fv-100)/100))"
   ]
  },
  {
   "cell_type": "code",
   "execution_count": 136,
   "id": "9b8c67a4",
   "metadata": {},
   "outputs": [
    {
     "name": "stdout",
     "output_type": "stream",
     "text": [
      "Fisher fee turns $100 into 98.85 after 12 months\n"
     ]
    }
   ],
   "source": [
    "# Compute the monthly fee paid to Fisher\n",
    "fee = calcFee()\n",
    "\n",
    "# Turn the fee off to see the affect of the 1.2%\n",
    "#fee=1.0"
   ]
  },
  {
   "cell_type": "code",
   "execution_count": 137,
   "id": "065078be",
   "metadata": {},
   "outputs": [
    {
     "name": "stdout",
     "output_type": "stream",
     "text": [
      "26% likelihood of running below 0\n"
     ]
    }
   ],
   "source": [
    "# Run a series of simulations\n",
    "# For each simulation, generate monthly returns drawn from the Normal distribution\n",
    "l = []\n",
    "highVal = []\n",
    "lowVal = []\n",
    "for _ in range(10000):\n",
    "    returns = generateRandomSample(monthlyGrowthRate, std, fcastLength)\n",
    "    data = zip(withdrawals, returns)\n",
    "    endingVal = getFundval(initFund, data, fee)\n",
    "    l.append(endingVal)\n",
    "    if endingVal > 2e7:\n",
    "        highVal.append(returns)\n",
    "    elif endingVal < 0:\n",
    "        lowVal.append(returns)\n",
    "    \n",
    "neg = [x for x in l if x < 0]\n",
    "below0 = len(neg) / len(l)\n",
    "print(\"{:.0%} likelihood of running below 0\".format(below0))"
   ]
  },
  {
   "cell_type": "code",
   "execution_count": 138,
   "id": "d1a8c4ed",
   "metadata": {},
   "outputs": [
    {
     "data": {
      "image/png": "[encoded data removed]",
      "text/plain": [
       "<Figure size 432x288 with 1 Axes>"
      ]
     },
     "metadata": {
      "needs_background": "light"
     },
     "output_type": "display_data"
    }
   ],
   "source": [
    "plt.hist(l, 30, range=[-1e7, 3e7], facecolor='green', align='mid')\n",
    "plt.title(\"{:,}\".format(int(sum(l)/len(l))))\n",
    "plt.show()"
   ]
  },
  {
   "cell_type": "code",
   "execution_count": 117,
   "id": "1360b7da",
   "metadata": {},
   "outputs": [],
   "source": [
    "h = pd.Series([y for x in highVal[:60] for y in x])\n",
    "l = pd.Series([y for x in lowVal[:60] for y in x])"
   ]
  },
  {
   "cell_type": "code",
   "execution_count": 118,
   "id": "735f3491",
   "metadata": {},
   "outputs": [],
   "source": [
    "ratio = h.mean()/l.mean()"
   ]
  },
  {
   "cell_type": "code",
   "execution_count": 121,
   "id": "d1786532",
   "metadata": {},
   "outputs": [
    {
     "data": {
      "text/plain": [
       "51.40490330536845"
      ]
     },
     "execution_count": 121,
     "metadata": {},
     "output_type": "execute_result"
    }
   ],
   "source": [
    "np.power(h.mean(), 360)"
   ]
  },
  {
   "cell_type": "code",
   "execution_count": 122,
   "id": "dd704775",
   "metadata": {},
   "outputs": [
    {
     "data": {
      "text/plain": [
       "23.071829506873392"
      ]
     },
     "execution_count": 122,
     "metadata": {},
     "output_type": "execute_result"
    }
   ],
   "source": [
    "np.power(monthlyGrowthRate, 360)"
   ]
  },
  {
   "cell_type": "code",
   "execution_count": 123,
   "id": "08418e07",
   "metadata": {},
   "outputs": [
    {
     "data": {
      "text/plain": [
       "8.953482971198758"
      ]
     },
     "execution_count": 123,
     "metadata": {},
     "output_type": "execute_result"
    }
   ],
   "source": [
    "np.power(l.mean(), 360)"
   ]
  },
  {
   "cell_type": "code",
   "execution_count": null,
   "id": "70f2cd2a",
   "metadata": {},
   "outputs": [],
   "source": []
  }
 ],
 "metadata": {
  "kernelspec": {
   "display_name": "tensorflow",
   "language": "python",
   "name": "tensorflow"
  },
  "language_info": {
   "codemirror_mode": {
    "name": "ipython",
    "version": 3
   },
   "file_extension": ".py",
   "mimetype": "text/x-python",
   "name": "python",
   "nbconvert_exporter": "python",
   "pygments_lexer": "ipython3",
   "version": "3.8.10"
  }
 },
 "nbformat": 4,
 "nbformat_minor": 5
}
