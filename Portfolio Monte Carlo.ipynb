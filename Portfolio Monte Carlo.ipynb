{
 "cells": [
  {
   "cell_type": "markdown",
   "id": "72d80cbf",
   "metadata": {},
   "source": [
    "#### Taken initial fund value, expected withdrawals, expected monthly return, inflation and Fisher management fee,\n",
    "#### simulate fund values over time using Monte Carlo"
   ]
  },
  {
   "cell_type": "code",
   "execution_count": 1,
   "id": "787aed56",
   "metadata": {},
   "outputs": [],
   "source": [
    "import pandas as pd\n",
    "import numpy as np\n",
    "import numpy_financial as npf\n",
    "import matplotlib.pyplot as plt\n",
    "\n",
    "from generateRandomSample import generateRandomSample"
   ]
  },
  {
   "cell_type": "code",
   "execution_count": 2,
   "id": "c6017cb0",
   "metadata": {},
   "outputs": [],
   "source": [
    "def getFundval(fundVal, data):\n",
    "    # 'data' has monthly withdrawals and growth. Compute the monthly account value\n",
    "    # based on those two\n",
    "    # Return the ending fund value and the account minimum\n",
    "    minFV = 9e9\n",
    "    for wd, ret in data:\n",
    "        if withdrawalFirst:\n",
    "            fundVal -= wd\n",
    "            fundVal *= ret\n",
    "        else:\n",
    "            fundVal *= ret\n",
    "            fundVal -= wd\n",
    "        fee = calcFee(fundVal)\n",
    "        fundVal = int(fundVal - fee)\n",
    "        if fundVal < minFV:\n",
    "            minFV = fundVal\n",
    "    return fundVal, minFV"
   ]
  },
  {
   "cell_type": "code",
   "execution_count": 3,
   "id": "93fdd784",
   "metadata": {},
   "outputs": [],
   "source": [
    "def calcFee(fundVal):\n",
    "    # This is the fee paid to Fisher\n",
    "    tier1 = .0125\n",
    "    tier2 = .01125\n",
    "    tier3 = .01\n",
    "    if fundVal < 1e6:\n",
    "        fee = tier1 * fundVal\n",
    "    elif fundVal < 5e6:\n",
    "        fee = 12500 + tier2*(fundVal-1e6)\n",
    "    else:\n",
    "        fee = 12500 + 45000 + tier3*(fundVal-5e6)\n",
    "    return max(0, fee/12)"
   ]
  },
  {
   "cell_type": "markdown",
   "id": "439a4eea",
   "metadata": {},
   "source": [
    "##### Set some constants"
   ]
  },
  {
   "cell_type": "code",
   "execution_count": 4,
   "id": "8fcda2a3",
   "metadata": {},
   "outputs": [],
   "source": [
    "# Key is annual return; value is monthly equivalent\n",
    "MSCIreturns = {\n",
    "    '5%': 1.004074,\n",
    "    '6%': 1.0048672,\n",
    "    '7%': 1.005654,\n",
    "    '8%': 1.006434,\n",
    "    '9%': 1.007207,\n",
    "    '10%': 1.007974}\n",
    "\n",
    "# Initial fund value\n",
    "currentFund = 3.2e6\n",
    "# Initial monthly withdrawal amount\n",
    "initWD = int(7000)\n",
    "# Annual inflation rate\n",
    "annualInflationRate = 0.022\n",
    "# How far out to forecast\n",
    "numYears = 19\n",
    "# Do you withdraw first or apply the return first?\n",
    "withdrawalFirst = False\n",
    "# MSCI avg return\n",
    "rate = '6%'\n",
    "# MSCI avg Std Dev of monthly returns\n",
    "std = .05\n",
    "# This is how long (years) the fund will accumulate before we start the withdrawals\n",
    "wdDelay = 5\n",
    "assert rate in MSCIreturns.keys(), \"invalid growth rate\""
   ]
  },
  {
   "cell_type": "code",
   "execution_count": 5,
   "id": "6115753e",
   "metadata": {},
   "outputs": [],
   "source": [
    "monthlyInflationRate = 1+npf.rate(nper=12, pmt=0, pv=-100, fv=100*(1+annualInflationRate))\n",
    "withdrawals = [initWD *np.power(monthlyInflationRate, x) for x in range(numYears * 12)]"
   ]
  },
  {
   "cell_type": "markdown",
   "id": "0254abce",
   "metadata": {},
   "source": [
    "##### Confirm monthly growth rate is equivalent to annual"
   ]
  },
  {
   "cell_type": "code",
   "execution_count": 6,
   "id": "052a30c4",
   "metadata": {},
   "outputs": [
    {
     "name": "stdout",
     "output_type": "stream",
     "text": [
      "MSCI return annualized: 6.00%\n"
     ]
    }
   ],
   "source": [
    "monthlyGrowthRate = MSCIreturns[rate]\n",
    "fv = npf.fv(monthlyGrowthRate-1, nper=12, pmt=0, pv=-100)\n",
    "print(\"MSCI return annualized: {:.2%}\".format((fv-100)/100))"
   ]
  },
  {
   "cell_type": "markdown",
   "id": "722c9f56",
   "metadata": {},
   "source": [
    "##### Grow the fund value until withdrawals begin. The future value is not a \"point\" forecast but is stochastic, subject to monthly return variability"
   ]
  },
  {
   "cell_type": "code",
   "execution_count": 7,
   "id": "116f1605",
   "metadata": {},
   "outputs": [],
   "source": [
    "# Number of months of growth until withdrawals begin\n",
    "numMonths = wdDelay * 12\n",
    "\n",
    "fundvals = []\n",
    "for _ in range(1000):\n",
    "    returns = generateRandomSample(monthlyGrowthRate, std, numMonths)\n",
    "    tmp = currentFund\n",
    "    for x in returns:\n",
    "        tmp *= x\n",
    "        fee = calcFee(tmp)\n",
    "        tmp -= fee\n",
    "    fundvals.append(tmp)"
   ]
  },
  {
   "cell_type": "markdown",
   "id": "3b212c56",
   "metadata": {},
   "source": [
    "##### Now start withdrawing; initial withdrawal amount is increased monthly by inflation rate"
   ]
  },
  {
   "cell_type": "code",
   "execution_count": 8,
   "id": "3808b580",
   "metadata": {},
   "outputs": [],
   "source": [
    "# Run a series of simulations\n",
    "# For each simulation, generate monthly returns drawn from the Normal distribution\n",
    "endingVals = []\n",
    "fvMinimums = []\n",
    "fcastLength = numYears * 12\n",
    "returns = generateRandomSample(monthlyGrowthRate, std, fcastLength)\n",
    "for fv in fundvals:\n",
    "    data = zip(withdrawals, returns)\n",
    "    endingVal, minFV = getFundval(fv, data)\n",
    "    fvMinimums.append(minFV)\n",
    "    endingVals.append(endingVal)"
   ]
  },
  {
   "cell_type": "code",
   "execution_count": 9,
   "id": "065078be",
   "metadata": {},
   "outputs": [
    {
     "name": "stdout",
     "output_type": "stream",
     "text": [
      "0% likelihood of running below 0\n"
     ]
    }
   ],
   "source": [
    "neg = [x for x in fvMinimums if x < 0]\n",
    "below0 = len(neg) / len(fvMinimums)\n",
    "print(\"{:.0%} likelihood of running below 0\".format(below0))"
   ]
  },
  {
   "cell_type": "code",
   "execution_count": 11,
   "id": "6e54de18",
   "metadata": {},
   "outputs": [
    {
     "data": {
      "image/png": "[encoded data removed]",
      "text/plain": [
       "<Figure size 640x480 with 1 Axes>"
      ]
     },
     "metadata": {},
     "output_type": "display_data"
    }
   ],
   "source": [
    "plt.hist(fvMinimums, 10, range=[-1e5, 1e7], facecolor='green', align='mid')\n",
    "plt.title(\"These are account minimums\")\n",
    "plt.show()"
   ]
  },
  {
   "cell_type": "code",
   "execution_count": 12,
   "id": "d1a8c4ed",
   "metadata": {},
   "outputs": [
    {
     "data": {
      "image/png": "[encoded data removed]",
      "text/plain": [
       "<Figure size 640x480 with 1 Axes>"
      ]
     },
     "metadata": {},
     "output_type": "display_data"
    }
   ],
   "source": [
    "plt.hist(endingVals, 30, range=[-1e6, 3e7], facecolor='green', align='mid')\n",
    "plt.title(\"These are ending values\")\n",
    "plt.show()"
   ]
  },
  {
   "cell_type": "code",
   "execution_count": null,
   "id": "229c6e5f",
   "metadata": {},
   "outputs": [],
   "source": []
  }
 ],
 "metadata": {
  "kernelspec": {
   "display_name": "Python 3 (ipykernel)",
   "language": "python",
   "name": "python3"
  },
  "language_info": {
   "codemirror_mode": {
    "name": "ipython",
    "version": 3
   },
   "file_extension": ".py",
   "mimetype": "text/x-python",
   "name": "python",
   "nbconvert_exporter": "python",
   "pygments_lexer": "ipython3",
   "version": "3.11.5"
  }
 },
 "nbformat": 4,
 "nbformat_minor": 5
}
