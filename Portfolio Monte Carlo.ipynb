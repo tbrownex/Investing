{
 "cells": [
  {
   "cell_type": "markdown",
   "id": "72d80cbf",
   "metadata": {},
   "source": [
    "#### Taken initial fund value, expected withdrawals, expected monthly return, inflation and Fisher management fee,\n",
    "#### simulate fund values over time using Monte Carlo"
   ]
  },
  {
   "cell_type": "code",
   "execution_count": 1,
   "id": "787aed56",
   "metadata": {},
   "outputs": [],
   "source": [
    "import pandas as pd\n",
    "import numpy as np\n",
    "import numpy_financial as npf\n",
    "import matplotlib.pyplot as plt\n",
    "\n",
    "from generateRandomSample import generateRandomSample"
   ]
  },
  {
   "cell_type": "code",
   "execution_count": 2,
   "id": "8fcda2a3",
   "metadata": {},
   "outputs": [],
   "source": [
    "# Annualized returns\n",
    "MSCIreturns = {\n",
    "    '5%': 1.004074,\n",
    "    '6%': 1.0048672,\n",
    "    '7%': 1.005654,\n",
    "    '8%': 1.006434,\n",
    "    '9%': 1.007207,\n",
    "    '10%': 1.007974\n",
    "}"
   ]
  },
  {
   "cell_type": "code",
   "execution_count": 3,
   "id": "a608233d",
   "metadata": {},
   "outputs": [],
   "source": [
    "def getData():\n",
    "    # Get the historical monthly returns from MSCI World\n",
    "    df = pd.read_csv('~/data/retirement/benchmark/MSCI_world-v1.csv')\n",
    "    df['Date'] = df['Date'].apply(lambda x: pd.to_datetime(x))\n",
    "    df.rename(columns={'Date': 'date', 'MSCI World': 'value'}, inplace=True)\n",
    "    return df"
   ]
  },
  {
   "cell_type": "code",
   "execution_count": 4,
   "id": "3e0dd6ac",
   "metadata": {},
   "outputs": [],
   "source": [
    "def filterDate(startDT):\n",
    "    # Filter by date, format yyyy-mm-01. Earliest is 1978-12-01\n",
    "    return df[df['date'] >= startDt]"
   ]
  },
  {
   "cell_type": "code",
   "execution_count": 5,
   "id": "c6017cb0",
   "metadata": {},
   "outputs": [],
   "source": [
    "def getFundval(fundVal, data):\n",
    "    eoyVals = []\n",
    "    count=0\n",
    "    for wd, ret in data:\n",
    "        if withdrawalFirst:\n",
    "            fundVal -= wd\n",
    "            fundVal *= ret\n",
    "        else:\n",
    "            fundVal *= ret\n",
    "            fundVal -= wd\n",
    "        fee = calcFee(fundVal)\n",
    "        fundVal = int(fundVal - fee)\n",
    "        if count%12 == 0: eoyVals.append(fundVal)\n",
    "        count+=1\n",
    "    return eoyVals"
   ]
  },
  {
   "cell_type": "code",
   "execution_count": 6,
   "id": "93fdd784",
   "metadata": {},
   "outputs": [],
   "source": [
    "def calcFee(fundVal):\n",
    "    # This is the fee paid to Fisher\n",
    "    tier1 = .0125\n",
    "    tier2 = .01125\n",
    "    tier3 = .01\n",
    "    if fundVal < 1e6:\n",
    "        fee = tier1 * fundVal\n",
    "    elif fundVal < 5e6:\n",
    "        fee = 12500 + tier2*(fundVal-1e6)\n",
    "    else:\n",
    "        fee = 12500 + 45000 + tier3*(fundVal-5e6)\n",
    "    return max(0, fee/12)"
   ]
  },
  {
   "cell_type": "markdown",
   "id": "439a4eea",
   "metadata": {},
   "source": [
    "##### Set some constants"
   ]
  },
  {
   "cell_type": "code",
   "execution_count": 7,
   "id": "383fdf96",
   "metadata": {},
   "outputs": [],
   "source": [
    "# Initial fund value\n",
    "initFund = 2.6e6\n",
    "# Initial monthly withdrawal amount\n",
    "initWD = int(7000)\n",
    "# Annual inflation rate\n",
    "annualInflationRate = 0.022\n",
    "# How far out to forecast\n",
    "numYears = 19\n",
    "# Do you withdraw first or apply the return first?\n",
    "withdrawalFirst = False\n",
    "# MSCI avg return\n",
    "rate = '6%'\n",
    "# MSCI avg Std Dev of monthly returns\n",
    "std = .04\n",
    "# This is how long (years) the fund will accumulate before we start the withdrawals\n",
    "wdDelay = 5\n",
    "startDt = '2000-12-01'\n",
    "assert rate in MSCIreturns.keys(), \"invalid growth rate\""
   ]
  },
  {
   "cell_type": "code",
   "execution_count": 8,
   "id": "6115753e",
   "metadata": {},
   "outputs": [],
   "source": [
    "fcastLength = (numYears + wdDelay) * 12\n",
    "monthlyInflationRate = 1+npf.rate(nper=12, pmt=0, pv=-100, fv=100*(1+annualInflationRate))\n",
    "wdDelay = [0 for x in range(wdDelay * 12)]\n",
    "withdrawals = [initWD *np.power(monthlyInflationRate, x) for x in range(numYears * 12)]\n",
    "# Append the years of no withdrawals to when the withdrawals start\n",
    "withdrawals = wdDelay+withdrawals"
   ]
  },
  {
   "cell_type": "markdown",
   "id": "5a98ab3f",
   "metadata": {},
   "source": [
    "##### Get the MSCI historical data and compute some metrics"
   ]
  },
  {
   "cell_type": "code",
   "execution_count": 9,
   "id": "5c67ac87",
   "metadata": {},
   "outputs": [],
   "source": [
    "df = getData()\n",
    "df = filterDate(startDt)"
   ]
  },
  {
   "cell_type": "code",
   "execution_count": 12,
   "id": "052a30c4",
   "metadata": {},
   "outputs": [
    {
     "name": "stdout",
     "output_type": "stream",
     "text": [
      "MSCI return annualized: 6.00%\n"
     ]
    }
   ],
   "source": [
    "monthlyGrowthRate = MSCIreturns[rate]\n",
    "\n",
    "# Confirm monthly growth rate\n",
    "fv = npf.fv(monthlyGrowthRate-1, nper=12, pmt=0, pv=-100)\n",
    "print(\"MSCI return annualized: {:.2%}\".format((fv-100)/100))"
   ]
  },
  {
   "cell_type": "code",
   "execution_count": 13,
   "id": "065078be",
   "metadata": {},
   "outputs": [
    {
     "name": "stdout",
     "output_type": "stream",
     "text": [
      "3% likelihood of running below 0\n"
     ]
    }
   ],
   "source": [
    "# Run a series of simulations\n",
    "# For each simulation, generate monthly returns drawn from the Normal distribution\n",
    "l = []\n",
    "highVal = []\n",
    "lowVal = []\n",
    "for _ in range(1000):\n",
    "    returns = generateRandomSample(monthlyGrowthRate, std, fcastLength)\n",
    "    data = zip(withdrawals, returns)\n",
    "    eoyVals = getFundval(initFund, data)\n",
    "    endingVal = eoyVals[-1]\n",
    "    l.append(endingVal)\n",
    "    if endingVal > 7e7:\n",
    "        highVal.append(returns)\n",
    "    elif endingVal < 0:\n",
    "        lowVal.append(returns)\n",
    "\n",
    "neg = [x for x in l if x < 0]\n",
    "below0 = len(neg) / len(l)\n",
    "print(\"{:.0%} likelihood of running below 0\".format(below0))"
   ]
  },
  {
   "cell_type": "code",
   "execution_count": 14,
   "id": "d1a8c4ed",
   "metadata": {},
   "outputs": [
    {
     "data": {
      "image/png": "[encoded data removed]",
      "text/plain": [
       "<Figure size 432x288 with 1 Axes>"
      ]
     },
     "metadata": {
      "needs_background": "light"
     },
     "output_type": "display_data"
    }
   ],
   "source": [
    "plt.hist(l, 30, range=[-1e7, 3e7], facecolor='green', align='mid')\n",
    "plt.title(\"{:,}\".format(int(sum(l)/len(l))))\n",
    "plt.show()"
   ]
  },
  {
   "cell_type": "code",
   "execution_count": null,
   "id": "60d5d68e",
   "metadata": {},
   "outputs": [],
   "source": []
  }
 ],
 "metadata": {
  "kernelspec": {
   "display_name": "tensorflow",
   "language": "python",
   "name": "tensorflow"
  },
  "language_info": {
   "codemirror_mode": {
    "name": "ipython",
    "version": 3
   },
   "file_extension": ".py",
   "mimetype": "text/x-python",
   "name": "python",
   "nbconvert_exporter": "python",
   "pygments_lexer": "ipython3",
   "version": "3.8.10"
  }
 },
 "nbformat": 4,
 "nbformat_minor": 5
}
