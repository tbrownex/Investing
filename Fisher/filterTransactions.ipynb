{
 "cells": [
  {
   "cell_type": "code",
   "execution_count": 1,
   "id": "52a9a571",
   "metadata": {},
   "outputs": [],
   "source": [
    "import pandas as pd\n",
    "#from decimal import Decimal\n",
    "from re import sub"
   ]
  },
  {
   "cell_type": "code",
   "execution_count": 2,
   "id": "62645cf7",
   "metadata": {},
   "outputs": [],
   "source": [
    "loc = '/home/tbrownex/data/investing/Fisher/transactions/'"
   ]
  },
  {
   "cell_type": "code",
   "execution_count": 14,
   "id": "d332eaa9",
   "metadata": {},
   "outputs": [],
   "source": [
    "def fixDate(df):\n",
    "    '''\n",
    "    Input date column has some that look like \"02/16/2024 as of 02/15/2024\"\n",
    "    In those cases, strip off the beginning stuff and return 02/15/2024 so\n",
    "    the column can be formatted as a Date\n",
    "    '''\n",
    "    def findAsOf(x):\n",
    "        pos = x.find('as of')\n",
    "        pos += 5\n",
    "        return x[pos:]\n",
    "    ok = df[~df['Date'].str.contains('as')]\n",
    "    notOK = df[df['Date'].str.contains('as')]\n",
    "    assert len(ok)+len(notOK)==len(df), 'invalid lengths'\n",
    "    notOK['Date'] = notOK['Date'].apply(lambda x: findAsOf(x))\n",
    "    both = pd.concat([ok, notOK])\n",
    "    # Now make it a proper date field\n",
    "    both['date'] = both['Date'].apply(lambda x: pd.to_datetime(x))\n",
    "    return both"
   ]
  },
  {
   "cell_type": "code",
   "execution_count": 120,
   "id": "ae21a099",
   "metadata": {},
   "outputs": [],
   "source": [
    "#beneficiary = pd.read_csv(loc+'beneficiary_2023.csv')\n",
    "#pension = pd.read_csv(loc+'pension_2023.csv')\n",
    "#rollover = pd.read_csv(loc+'rollover_2023.csv')\n",
    "roth = pd.read_csv(loc+'roth_transactions.csv')"
   ]
  },
  {
   "cell_type": "code",
   "execution_count": 122,
   "id": "6da8d087",
   "metadata": {},
   "outputs": [],
   "source": [
    "js = roth[roth['Action'] == 'Journaled Shares']"
   ]
  },
  {
   "cell_type": "code",
   "execution_count": 126,
   "id": "a0c9ba6a",
   "metadata": {},
   "outputs": [
    {
     "data": {
      "text/plain": [
       "'TDA TRAN - CASH ALTERNATIVES REDEMPTION (MMDA13) BANK SWEEP WITHDRAWAL'"
      ]
     },
     "execution_count": 126,
     "metadata": {},
     "output_type": "execute_result"
    }
   ],
   "source": [
    "js.loc[71]['Description']"
   ]
  },
  {
   "cell_type": "code",
   "execution_count": 117,
   "id": "d2231709",
   "metadata": {},
   "outputs": [],
   "source": [
    "'''beneficiary['fund'] = 'beneficiary'\n",
    "pension['fund'] = 'pension'\n",
    "rollover['fund'] = 'rollover'''\n",
    "roth['fund'] = 'roth'"
   ]
  },
  {
   "cell_type": "code",
   "execution_count": 118,
   "id": "ad731216",
   "metadata": {},
   "outputs": [
    {
     "name": "stderr",
     "output_type": "stream",
     "text": [
      "/tmp/ipykernel_1482/3637582337.py:14: SettingWithCopyWarning: \n",
      "A value is trying to be set on a copy of a slice from a DataFrame.\n",
      "Try using .loc[row_indexer,col_indexer] = value instead\n",
      "\n",
      "See the caveats in the documentation: https://pandas.pydata.org/pandas-docs/stable/user_guide/indexing.html#returning-a-view-versus-a-copy\n",
      "  notOK['Date'] = notOK['Date'].apply(lambda x: findAsOf(x))\n"
     ]
    }
   ],
   "source": [
    "roth['amount'] = roth['Amount'].replace('[\\$,]', '', regex=True).astype(float)\n",
    "roth = fixDate(roth)\n",
    "roth = roth[['fund', 'date', 'Action', 'amount']]\n",
    "roth.columns =['fund', 'date', 'action', 'amount']\n",
    "roth = roth[roth['action'].isin(['MoneyLink Transfer', 'Advisor Fee'])]"
   ]
  },
  {
   "cell_type": "code",
   "execution_count": 119,
   "id": "8ba05210",
   "metadata": {},
   "outputs": [
    {
     "data": {
      "text/html": [
       "<div>\n",
       "<style scoped>\n",
       "    .dataframe tbody tr th:only-of-type {\n",
       "        vertical-align: middle;\n",
       "    }\n",
       "\n",
       "    .dataframe tbody tr th {\n",
       "        vertical-align: top;\n",
       "    }\n",
       "\n",
       "    .dataframe thead th {\n",
       "        text-align: right;\n",
       "    }\n",
       "</style>\n",
       "<table border=\"1\" class=\"dataframe\">\n",
       "  <thead>\n",
       "    <tr style=\"text-align: right;\">\n",
       "      <th></th>\n",
       "      <th>fund</th>\n",
       "      <th>date</th>\n",
       "      <th>action</th>\n",
       "      <th>amount</th>\n",
       "    </tr>\n",
       "  </thead>\n",
       "  <tbody>\n",
       "    <tr>\n",
       "      <th>3</th>\n",
       "      <td>roth</td>\n",
       "      <td>2024-04-18</td>\n",
       "      <td>Advisor Fee</td>\n",
       "      <td>-110.54</td>\n",
       "    </tr>\n",
       "    <tr>\n",
       "      <th>9</th>\n",
       "      <td>roth</td>\n",
       "      <td>2024-01-19</td>\n",
       "      <td>Advisor Fee</td>\n",
       "      <td>-102.23</td>\n",
       "    </tr>\n",
       "    <tr>\n",
       "      <th>16</th>\n",
       "      <td>roth</td>\n",
       "      <td>2023-11-10</td>\n",
       "      <td>Advisor Fee</td>\n",
       "      <td>-92.59</td>\n",
       "    </tr>\n",
       "  </tbody>\n",
       "</table>\n",
       "</div>"
      ],
      "text/plain": [
       "    fund       date       action  amount\n",
       "3   roth 2024-04-18  Advisor Fee -110.54\n",
       "9   roth 2024-01-19  Advisor Fee -102.23\n",
       "16  roth 2023-11-10  Advisor Fee  -92.59"
      ]
     },
     "execution_count": 119,
     "metadata": {},
     "output_type": "execute_result"
    }
   ],
   "source": [
    "roth"
   ]
  },
  {
   "cell_type": "code",
   "execution_count": 6,
   "id": "a0f754e6",
   "metadata": {},
   "outputs": [
    {
     "name": "stderr",
     "output_type": "stream",
     "text": [
      "/tmp/ipykernel_1444/3637582337.py:14: SettingWithCopyWarning: \n",
      "A value is trying to be set on a copy of a slice from a DataFrame.\n",
      "Try using .loc[row_indexer,col_indexer] = value instead\n",
      "\n",
      "See the caveats in the documentation: https://pandas.pydata.org/pandas-docs/stable/user_guide/indexing.html#returning-a-view-versus-a-copy\n",
      "  notOK['Date'] = notOK['Date'].apply(lambda x: findAsOf(x))\n"
     ]
    }
   ],
   "source": [
    "df = pd.concat([beneficiary, pension, rollover, roth])\n",
    "# Remove $ sign from account values\n",
    "df['amount'] = df['Amount'].replace('[\\$,]', '', regex=True).astype(float)\n",
    "# Some of these records have an \"as of\" date instead of a normal date\n",
    "df = fixDate(df)\n",
    "df = df[['fund', 'date', 'Action', 'amount']]\n",
    "df.columns =['fund', 'date', 'action', 'amount']"
   ]
  },
  {
   "cell_type": "code",
   "execution_count": 7,
   "id": "8120057b",
   "metadata": {},
   "outputs": [],
   "source": [
    "# Only interested in deposits, withdrawals and advisor fees\n",
    "df = df[df['action'].isin(['MoneyLink Transfer', 'Advisor Fee'])]\n",
    "df.reset_index(drop=True, inplace=True)"
   ]
  },
  {
   "cell_type": "code",
   "execution_count": 8,
   "id": "45f2cdde",
   "metadata": {},
   "outputs": [
    {
     "data": {
      "text/html": [
       "<div>\n",
       "<style scoped>\n",
       "    .dataframe tbody tr th:only-of-type {\n",
       "        vertical-align: middle;\n",
       "    }\n",
       "\n",
       "    .dataframe tbody tr th {\n",
       "        vertical-align: top;\n",
       "    }\n",
       "\n",
       "    .dataframe thead th {\n",
       "        text-align: right;\n",
       "    }\n",
       "</style>\n",
       "<table border=\"1\" class=\"dataframe\">\n",
       "  <thead>\n",
       "    <tr style=\"text-align: right;\">\n",
       "      <th></th>\n",
       "      <th>fund</th>\n",
       "      <th>date</th>\n",
       "      <th>action</th>\n",
       "      <th>amount</th>\n",
       "    </tr>\n",
       "  </thead>\n",
       "  <tbody>\n",
       "    <tr>\n",
       "      <th>2</th>\n",
       "      <td>beneficiary</td>\n",
       "      <td>2023-08-31</td>\n",
       "      <td>MoneyLink Transfer</td>\n",
       "      <td>-40000.0</td>\n",
       "    </tr>\n",
       "    <tr>\n",
       "      <th>3</th>\n",
       "      <td>beneficiary</td>\n",
       "      <td>2023-06-20</td>\n",
       "      <td>MoneyLink Transfer</td>\n",
       "      <td>-15000.0</td>\n",
       "    </tr>\n",
       "    <tr>\n",
       "      <th>4</th>\n",
       "      <td>beneficiary</td>\n",
       "      <td>2023-03-13</td>\n",
       "      <td>MoneyLink Transfer</td>\n",
       "      <td>-15000.0</td>\n",
       "    </tr>\n",
       "    <tr>\n",
       "      <th>5</th>\n",
       "      <td>beneficiary</td>\n",
       "      <td>2023-02-24</td>\n",
       "      <td>MoneyLink Transfer</td>\n",
       "      <td>-15000.0</td>\n",
       "    </tr>\n",
       "    <tr>\n",
       "      <th>6</th>\n",
       "      <td>beneficiary</td>\n",
       "      <td>2022-11-30</td>\n",
       "      <td>MoneyLink Transfer</td>\n",
       "      <td>-30000.0</td>\n",
       "    </tr>\n",
       "    <tr>\n",
       "      <th>7</th>\n",
       "      <td>beneficiary</td>\n",
       "      <td>2022-06-29</td>\n",
       "      <td>MoneyLink Transfer</td>\n",
       "      <td>-70000.0</td>\n",
       "    </tr>\n",
       "    <tr>\n",
       "      <th>14</th>\n",
       "      <td>pension</td>\n",
       "      <td>2023-09-14</td>\n",
       "      <td>MoneyLink Transfer</td>\n",
       "      <td>60000.0</td>\n",
       "    </tr>\n",
       "  </tbody>\n",
       "</table>\n",
       "</div>"
      ],
      "text/plain": [
       "           fund       date              action   amount\n",
       "2   beneficiary 2023-08-31  MoneyLink Transfer -40000.0\n",
       "3   beneficiary 2023-06-20  MoneyLink Transfer -15000.0\n",
       "4   beneficiary 2023-03-13  MoneyLink Transfer -15000.0\n",
       "5   beneficiary 2023-02-24  MoneyLink Transfer -15000.0\n",
       "6   beneficiary 2022-11-30  MoneyLink Transfer -30000.0\n",
       "7   beneficiary 2022-06-29  MoneyLink Transfer -70000.0\n",
       "14      pension 2023-09-14  MoneyLink Transfer  60000.0"
      ]
     },
     "execution_count": 8,
     "metadata": {},
     "output_type": "execute_result"
    }
   ],
   "source": [
    "df[df['action']=='MoneyLink Transfer']"
   ]
  },
  {
   "cell_type": "code",
   "execution_count": null,
   "id": "b5d67fbe",
   "metadata": {},
   "outputs": [],
   "source": []
  },
  {
   "cell_type": "code",
   "execution_count": 9,
   "id": "128e9c30",
   "metadata": {},
   "outputs": [
    {
     "data": {
      "text/html": [
       "<div>\n",
       "<style scoped>\n",
       "    .dataframe tbody tr th:only-of-type {\n",
       "        vertical-align: middle;\n",
       "    }\n",
       "\n",
       "    .dataframe tbody tr th {\n",
       "        vertical-align: top;\n",
       "    }\n",
       "\n",
       "    .dataframe thead th {\n",
       "        text-align: right;\n",
       "    }\n",
       "</style>\n",
       "<table border=\"1\" class=\"dataframe\">\n",
       "  <thead>\n",
       "    <tr style=\"text-align: right;\">\n",
       "      <th></th>\n",
       "      <th>fund</th>\n",
       "      <th>date</th>\n",
       "      <th>action</th>\n",
       "      <th>amount</th>\n",
       "    </tr>\n",
       "  </thead>\n",
       "  <tbody>\n",
       "    <tr>\n",
       "      <th>7</th>\n",
       "      <td>beneficiary</td>\n",
       "      <td>2022-06-29</td>\n",
       "      <td>MoneyLink Transfer</td>\n",
       "      <td>-70000.00</td>\n",
       "    </tr>\n",
       "    <tr>\n",
       "      <th>6</th>\n",
       "      <td>beneficiary</td>\n",
       "      <td>2022-11-30</td>\n",
       "      <td>MoneyLink Transfer</td>\n",
       "      <td>-30000.00</td>\n",
       "    </tr>\n",
       "    <tr>\n",
       "      <th>5</th>\n",
       "      <td>beneficiary</td>\n",
       "      <td>2023-02-24</td>\n",
       "      <td>MoneyLink Transfer</td>\n",
       "      <td>-15000.00</td>\n",
       "    </tr>\n",
       "    <tr>\n",
       "      <th>4</th>\n",
       "      <td>beneficiary</td>\n",
       "      <td>2023-03-13</td>\n",
       "      <td>MoneyLink Transfer</td>\n",
       "      <td>-15000.00</td>\n",
       "    </tr>\n",
       "    <tr>\n",
       "      <th>3</th>\n",
       "      <td>beneficiary</td>\n",
       "      <td>2023-06-20</td>\n",
       "      <td>MoneyLink Transfer</td>\n",
       "      <td>-15000.00</td>\n",
       "    </tr>\n",
       "    <tr>\n",
       "      <th>2</th>\n",
       "      <td>beneficiary</td>\n",
       "      <td>2023-08-31</td>\n",
       "      <td>MoneyLink Transfer</td>\n",
       "      <td>-40000.00</td>\n",
       "    </tr>\n",
       "    <tr>\n",
       "      <th>14</th>\n",
       "      <td>pension</td>\n",
       "      <td>2023-09-14</td>\n",
       "      <td>MoneyLink Transfer</td>\n",
       "      <td>60000.00</td>\n",
       "    </tr>\n",
       "    <tr>\n",
       "      <th>1</th>\n",
       "      <td>beneficiary</td>\n",
       "      <td>2023-11-10</td>\n",
       "      <td>Advisor Fee</td>\n",
       "      <td>-620.80</td>\n",
       "    </tr>\n",
       "    <tr>\n",
       "      <th>9</th>\n",
       "      <td>pension</td>\n",
       "      <td>2023-11-10</td>\n",
       "      <td>Advisor Fee</td>\n",
       "      <td>-381.92</td>\n",
       "    </tr>\n",
       "    <tr>\n",
       "      <th>11</th>\n",
       "      <td>rollover</td>\n",
       "      <td>2023-11-10</td>\n",
       "      <td>Advisor Fee</td>\n",
       "      <td>-5914.99</td>\n",
       "    </tr>\n",
       "    <tr>\n",
       "      <th>13</th>\n",
       "      <td>roth</td>\n",
       "      <td>2023-11-10</td>\n",
       "      <td>Advisor Fee</td>\n",
       "      <td>-92.59</td>\n",
       "    </tr>\n",
       "    <tr>\n",
       "      <th>0</th>\n",
       "      <td>beneficiary</td>\n",
       "      <td>2024-01-19</td>\n",
       "      <td>Advisor Fee</td>\n",
       "      <td>-706.70</td>\n",
       "    </tr>\n",
       "    <tr>\n",
       "      <th>8</th>\n",
       "      <td>pension</td>\n",
       "      <td>2024-01-19</td>\n",
       "      <td>Advisor Fee</td>\n",
       "      <td>-592.87</td>\n",
       "    </tr>\n",
       "    <tr>\n",
       "      <th>10</th>\n",
       "      <td>rollover</td>\n",
       "      <td>2024-01-19</td>\n",
       "      <td>Advisor Fee</td>\n",
       "      <td>-6717.48</td>\n",
       "    </tr>\n",
       "    <tr>\n",
       "      <th>12</th>\n",
       "      <td>roth</td>\n",
       "      <td>2024-01-19</td>\n",
       "      <td>Advisor Fee</td>\n",
       "      <td>-102.23</td>\n",
       "    </tr>\n",
       "  </tbody>\n",
       "</table>\n",
       "</div>"
      ],
      "text/plain": [
       "           fund       date              action    amount\n",
       "7   beneficiary 2022-06-29  MoneyLink Transfer -70000.00\n",
       "6   beneficiary 2022-11-30  MoneyLink Transfer -30000.00\n",
       "5   beneficiary 2023-02-24  MoneyLink Transfer -15000.00\n",
       "4   beneficiary 2023-03-13  MoneyLink Transfer -15000.00\n",
       "3   beneficiary 2023-06-20  MoneyLink Transfer -15000.00\n",
       "2   beneficiary 2023-08-31  MoneyLink Transfer -40000.00\n",
       "14      pension 2023-09-14  MoneyLink Transfer  60000.00\n",
       "1   beneficiary 2023-11-10         Advisor Fee   -620.80\n",
       "9       pension 2023-11-10         Advisor Fee   -381.92\n",
       "11     rollover 2023-11-10         Advisor Fee  -5914.99\n",
       "13         roth 2023-11-10         Advisor Fee    -92.59\n",
       "0   beneficiary 2024-01-19         Advisor Fee   -706.70\n",
       "8       pension 2024-01-19         Advisor Fee   -592.87\n",
       "10     rollover 2024-01-19         Advisor Fee  -6717.48\n",
       "12         roth 2024-01-19         Advisor Fee   -102.23"
      ]
     },
     "execution_count": 9,
     "metadata": {},
     "output_type": "execute_result"
    }
   ],
   "source": [
    "df.sort_values('date')[:]"
   ]
  }
 ],
 "metadata": {
  "kernelspec": {
   "display_name": "Python 3 (ipykernel)",
   "language": "python",
   "name": "python3"
  },
  "language_info": {
   "codemirror_mode": {
    "name": "ipython",
    "version": 3
   },
   "file_extension": ".py",
   "mimetype": "text/x-python",
   "name": "python",
   "nbconvert_exporter": "python",
   "pygments_lexer": "ipython3",
   "version": "3.11.5"
  }
 },
 "nbformat": 4,
 "nbformat_minor": 5
}
