{
 "cells": [
  {
   "cell_type": "code",
   "execution_count": 2,
   "id": "5b96d0e3",
   "metadata": {},
   "outputs": [],
   "source": [
    "import pandas as pd\n",
    "\n",
    "from config import getConfig"
   ]
  },
  {
   "cell_type": "code",
   "execution_count": 3,
   "id": "ec3e38c4",
   "metadata": {},
   "outputs": [],
   "source": [
    "cfg = getConfig()"
   ]
  },
  {
   "cell_type": "code",
   "execution_count": 4,
   "id": "f71312a6",
   "metadata": {},
   "outputs": [],
   "source": [
    "df = pd.read_csv(cfg['dataLoc']+'fundData.csv')\n",
    "shares = pd.read_csv(cfg['dataLoc']+'numShares.csv')"
   ]
  },
  {
   "cell_type": "code",
   "execution_count": 5,
   "id": "131ddb2f",
   "metadata": {},
   "outputs": [],
   "source": [
    "df = df.set_index('fund')\n",
    "shares = shares.set_index('fund')\n",
    "\n",
    "df = df.join(shares)"
   ]
  },
  {
   "cell_type": "code",
   "execution_count": 6,
   "id": "41a0d8f8",
   "metadata": {},
   "outputs": [],
   "source": [
    "df['monthlyDiv'] = round(df['dividend']*df['shares'], 2)"
   ]
  },
  {
   "cell_type": "code",
   "execution_count": 7,
   "id": "651e0cd3",
   "metadata": {},
   "outputs": [],
   "source": [
    "df=df.reset_index()"
   ]
  },
  {
   "cell_type": "code",
   "execution_count": 8,
   "id": "112cfc94",
   "metadata": {},
   "outputs": [],
   "source": [
    "runningTotal = df.groupby('fund')['monthlyDiv'].cumsum()\n",
    "runningTotal.name = 'runningDiv'\n",
    "\n",
    "final = df.join(runningTotal)\n",
    "\n",
    "final['fundVal'] = round(final['price']*final['shares']+final['runningDiv'])"
   ]
  },
  {
   "cell_type": "code",
   "execution_count": 9,
   "id": "6417891e",
   "metadata": {},
   "outputs": [],
   "source": [
    "#final[(final['fund']=='RYLD')&(final['date']>'2021-08-20')][20:50]"
   ]
  },
  {
   "cell_type": "code",
   "execution_count": 10,
   "id": "87eaf696",
   "metadata": {},
   "outputs": [
    {
     "data": {
      "text/html": [
       "<div>\n",
       "<style scoped>\n",
       "    .dataframe tbody tr th:only-of-type {\n",
       "        vertical-align: middle;\n",
       "    }\n",
       "\n",
       "    .dataframe tbody tr th {\n",
       "        vertical-align: top;\n",
       "    }\n",
       "\n",
       "    .dataframe thead th {\n",
       "        text-align: right;\n",
       "    }\n",
       "</style>\n",
       "<table border=\"1\" class=\"dataframe\">\n",
       "  <thead>\n",
       "    <tr style=\"text-align: right;\">\n",
       "      <th></th>\n",
       "      <th>fund</th>\n",
       "      <th>date</th>\n",
       "      <th>price</th>\n",
       "      <th>dividend</th>\n",
       "      <th>shares</th>\n",
       "      <th>monthlyDiv</th>\n",
       "      <th>runningDiv</th>\n",
       "      <th>fundVal</th>\n",
       "    </tr>\n",
       "  </thead>\n",
       "  <tbody>\n",
       "    <tr>\n",
       "      <th>8812</th>\n",
       "      <td>RYLD</td>\n",
       "      <td>2022-06-03</td>\n",
       "      <td>21.3700</td>\n",
       "      <td>0.0</td>\n",
       "      <td>40.01</td>\n",
       "      <td>0.0</td>\n",
       "      <td>89.06</td>\n",
       "      <td>944.0</td>\n",
       "    </tr>\n",
       "    <tr>\n",
       "      <th>8069</th>\n",
       "      <td>RYLD</td>\n",
       "      <td>2019-06-21</td>\n",
       "      <td>25.5150</td>\n",
       "      <td>0.0</td>\n",
       "      <td>40.01</td>\n",
       "      <td>0.0</td>\n",
       "      <td>0.00</td>\n",
       "      <td>1021.0</td>\n",
       "    </tr>\n",
       "    <tr>\n",
       "      <th>5188</th>\n",
       "      <td>COMB</td>\n",
       "      <td>2020-02-05</td>\n",
       "      <td>22.4400</td>\n",
       "      <td>0.0</td>\n",
       "      <td>40.03</td>\n",
       "      <td>0.0</td>\n",
       "      <td>0.00</td>\n",
       "      <td>898.0</td>\n",
       "    </tr>\n",
       "    <tr>\n",
       "      <th>8307</th>\n",
       "      <td>RYLD</td>\n",
       "      <td>2020-06-03</td>\n",
       "      <td>19.5450</td>\n",
       "      <td>0.0</td>\n",
       "      <td>40.01</td>\n",
       "      <td>0.0</td>\n",
       "      <td>0.00</td>\n",
       "      <td>782.0</td>\n",
       "    </tr>\n",
       "    <tr>\n",
       "      <th>7332</th>\n",
       "      <td>QYLD</td>\n",
       "      <td>2019-11-08</td>\n",
       "      <td>23.2500</td>\n",
       "      <td>0.0</td>\n",
       "      <td>39.94</td>\n",
       "      <td>0.0</td>\n",
       "      <td>0.00</td>\n",
       "      <td>929.0</td>\n",
       "    </tr>\n",
       "    <tr>\n",
       "      <th>8767</th>\n",
       "      <td>RYLD</td>\n",
       "      <td>2022-03-30</td>\n",
       "      <td>23.8800</td>\n",
       "      <td>0.0</td>\n",
       "      <td>40.01</td>\n",
       "      <td>0.0</td>\n",
       "      <td>89.06</td>\n",
       "      <td>1044.0</td>\n",
       "    </tr>\n",
       "    <tr>\n",
       "      <th>3984</th>\n",
       "      <td>CCJ</td>\n",
       "      <td>2020-07-14</td>\n",
       "      <td>10.8800</td>\n",
       "      <td>0.0</td>\n",
       "      <td>46.95</td>\n",
       "      <td>0.0</td>\n",
       "      <td>0.00</td>\n",
       "      <td>511.0</td>\n",
       "    </tr>\n",
       "    <tr>\n",
       "      <th>219</th>\n",
       "      <td>ARKK</td>\n",
       "      <td>2015-09-16</td>\n",
       "      <td>20.5700</td>\n",
       "      <td>0.0</td>\n",
       "      <td>49.07</td>\n",
       "      <td>0.0</td>\n",
       "      <td>0.00</td>\n",
       "      <td>1009.0</td>\n",
       "    </tr>\n",
       "    <tr>\n",
       "      <th>1356</th>\n",
       "      <td>ARKK</td>\n",
       "      <td>2020-03-24</td>\n",
       "      <td>42.1500</td>\n",
       "      <td>0.0</td>\n",
       "      <td>49.07</td>\n",
       "      <td>0.0</td>\n",
       "      <td>0.00</td>\n",
       "      <td>2068.0</td>\n",
       "    </tr>\n",
       "    <tr>\n",
       "      <th>5337</th>\n",
       "      <td>COMB</td>\n",
       "      <td>2020-09-08</td>\n",
       "      <td>21.3704</td>\n",
       "      <td>0.0</td>\n",
       "      <td>40.03</td>\n",
       "      <td>0.0</td>\n",
       "      <td>0.00</td>\n",
       "      <td>855.0</td>\n",
       "    </tr>\n",
       "  </tbody>\n",
       "</table>\n",
       "</div>"
      ],
      "text/plain": [
       "      fund        date    price  dividend  shares  monthlyDiv  runningDiv  \\\n",
       "8812  RYLD  2022-06-03  21.3700       0.0   40.01         0.0       89.06   \n",
       "8069  RYLD  2019-06-21  25.5150       0.0   40.01         0.0        0.00   \n",
       "5188  COMB  2020-02-05  22.4400       0.0   40.03         0.0        0.00   \n",
       "8307  RYLD  2020-06-03  19.5450       0.0   40.01         0.0        0.00   \n",
       "7332  QYLD  2019-11-08  23.2500       0.0   39.94         0.0        0.00   \n",
       "8767  RYLD  2022-03-30  23.8800       0.0   40.01         0.0       89.06   \n",
       "3984   CCJ  2020-07-14  10.8800       0.0   46.95         0.0        0.00   \n",
       "219   ARKK  2015-09-16  20.5700       0.0   49.07         0.0        0.00   \n",
       "1356  ARKK  2020-03-24  42.1500       0.0   49.07         0.0        0.00   \n",
       "5337  COMB  2020-09-08  21.3704       0.0   40.03         0.0        0.00   \n",
       "\n",
       "      fundVal  \n",
       "8812    944.0  \n",
       "8069   1021.0  \n",
       "5188    898.0  \n",
       "8307    782.0  \n",
       "7332    929.0  \n",
       "8767   1044.0  \n",
       "3984    511.0  \n",
       "219    1009.0  \n",
       "1356   2068.0  \n",
       "5337    855.0  "
      ]
     },
     "execution_count": 10,
     "metadata": {},
     "output_type": "execute_result"
    }
   ],
   "source": [
    "final.sample(10)"
   ]
  },
  {
   "cell_type": "code",
   "execution_count": 11,
   "id": "5b19b118",
   "metadata": {},
   "outputs": [],
   "source": [
    "final.to_csv(cfg['dataLoc']+'fundValues.csv', index=False)"
   ]
  }
 ],
 "metadata": {
  "kernelspec": {
   "display_name": "tensorflow",
   "language": "python",
   "name": "tensorflow"
  },
  "language_info": {
   "codemirror_mode": {
    "name": "ipython",
    "version": 3
   },
   "file_extension": ".py",
   "mimetype": "text/x-python",
   "name": "python",
   "nbconvert_exporter": "python",
   "pygments_lexer": "ipython3",
   "version": "3.8.10"
  }
 },
 "nbformat": 4,
 "nbformat_minor": 5
}
