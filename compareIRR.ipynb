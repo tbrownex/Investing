{
 "cells": [
  {
   "cell_type": "code",
   "execution_count": 19,
   "id": "e3290cf9",
   "metadata": {},
   "outputs": [],
   "source": [
    "import pandas as pd\n",
    "import numpy_financial as npf\n",
    "import numpy as np\n",
    "import datetime\n",
    "from re import sub\n",
    "from decimal import Decimal\n",
    "\n",
    "from config import getConfig\n",
    "from calcIRR import calcIRR\n",
    "from calcAnnualReturn import calcAnnualReturn"
   ]
  },
  {
   "cell_type": "code",
   "execution_count": 20,
   "id": "8f261026",
   "metadata": {},
   "outputs": [],
   "source": [
    "def formatValue(x):\n",
    "    return Decimal(sub(r'[^\\d.]', '', x))"
   ]
  },
  {
   "cell_type": "code",
   "execution_count": 21,
   "id": "3da66fe5",
   "metadata": {},
   "outputs": [],
   "source": [
    "def getDays(df):\n",
    "    startDate = acctValues.iloc[-1]['date']\n",
    "    startDate = pd.to_datetime(startDate).date()\n",
    "    endDate = acctValues.iloc[0]['date']\n",
    "    endDate = pd.to_datetime(endDate).date()\n",
    "\n",
    "    diff = datetime.date.today()-startDate\n",
    "    print(\"{:,} days between {} and {}\".format(diff.days, startDate, endDate))\n",
    "    return diff.days"
   ]
  },
  {
   "cell_type": "code",
   "execution_count": 22,
   "id": "a9da7d06",
   "metadata": {},
   "outputs": [],
   "source": [
    "def filterDates(df):\n",
    "    df = df[df['date'] >= startDt]\n",
    "    df = df[df['date']  <= endDt]\n",
    "    return df"
   ]
  },
  {
   "cell_type": "code",
   "execution_count": 23,
   "id": "70902052",
   "metadata": {},
   "outputs": [],
   "source": [
    "def getDeposits(account):\n",
    "    loc = cfg[account]['dataLoc']\n",
    "    return pd.read_csv(loc+'deposits.csv')"
   ]
  },
  {
   "cell_type": "code",
   "execution_count": 24,
   "id": "5232cc11",
   "metadata": {},
   "outputs": [],
   "source": [
    "def getValues(account):\n",
    "    loc = cfg[account]['dataLoc']\n",
    "    fileName = cfg[account]['fileName']\n",
    "    return pd.read_csv(loc+fileName,\n",
    "                       usecols=['date', 'value'])"
   ]
  },
  {
   "cell_type": "code",
   "execution_count": 25,
   "id": "3b6907f7",
   "metadata": {},
   "outputs": [],
   "source": [
    "def calcAnnualizedGrowth(irr):\n",
    "    # Growth of 10k over a year at the computed rate\n",
    "    PV = 1e4\n",
    "    FV = npf.fv(irr, nper=365, pmt=0, pv=-PV)\n",
    "    print(\"Annualized rate: {:.2%}\".format(FV/PV -1))"
   ]
  },
  {
   "cell_type": "code",
   "execution_count": 26,
   "id": "39931601",
   "metadata": {},
   "outputs": [],
   "source": [
    "cfg = getConfig()"
   ]
  },
  {
   "cell_type": "code",
   "execution_count": 27,
   "id": "58a304a1",
   "metadata": {},
   "outputs": [],
   "source": [
    "etValues = getValues('ETrade')\n",
    "etDeposits = getDeposits('ETrade')\n",
    "spx = getValues('SPX')\n",
    "msci = getValues('MSCI')\n",
    "\n",
    "# Remove $ sign from account values\n",
    "etValues['value'] = etValues['value'].apply(lambda x: formatValue(x))"
   ]
  },
  {
   "cell_type": "code",
   "execution_count": 28,
   "id": "775f1941",
   "metadata": {},
   "outputs": [],
   "source": [
    "# Make sure the starting dates are matched between accounts, deposits, benchmarks\n",
    "startDt = etValues['date'].min()\n",
    "endDt = etValues['date'].max()\n",
    "\n",
    "etDeposits = filterDates(etDeposits)\n",
    "spx = filterDates(spx)\n",
    "msci = filterDates(msci)\n",
    "msci.reset_index(drop=True, inplace=True)"
   ]
  },
  {
   "cell_type": "code",
   "execution_count": 30,
   "id": "371b9bcb",
   "metadata": {},
   "outputs": [],
   "source": [
    "# The 'initial account value' is basically the first deposit so add a row for it\n",
    "d = {}\n",
    "etValues.sort_values('date', ignore_index=True, inplace=True)\n",
    "d['value'] = etValues.iloc[0]['value']\n",
    "d['date'] = etValues.iloc[0]['date']\n",
    "\n",
    "etDeposits.loc[len(etDeposits)] = d\n",
    "etDeposits.sort_values('date', ignore_index=True, inplace=True)"
   ]
  },
  {
   "cell_type": "code",
   "execution_count": 31,
   "id": "ff4410b7",
   "metadata": {},
   "outputs": [],
   "source": [
    "# Ending value and date\n",
    "endValue = float(etValues.iloc[-1]['value'])\n",
    "endDate = etValues.iloc[-1]['date']\n",
    "endDate = pd.to_datetime(endDate).date()"
   ]
  },
  {
   "cell_type": "code",
   "execution_count": 32,
   "id": "70c1dc82",
   "metadata": {},
   "outputs": [
    {
     "name": "stdout",
     "output_type": "stream",
     "text": [
      "Total: 242,797\n",
      "\n",
      "Annualized rate: 9.76%\n"
     ]
    }
   ],
   "source": [
    "irr = calcIRR(etDeposits, endDate, endValue, 100)\n",
    "calcAnnualizedGrowth(irr)"
   ]
  },
  {
   "cell_type": "markdown",
   "id": "a63fd3b5",
   "metadata": {},
   "source": [
    "##### Now the Benchmarks"
   ]
  },
  {
   "cell_type": "code",
   "execution_count": 33,
   "id": "e8992d68",
   "metadata": {},
   "outputs": [
    {
     "name": "stdout",
     "output_type": "stream",
     "text": [
      "Total: 4,765\n",
      "\n",
      "Annualized rate: 8.26%\n"
     ]
    }
   ],
   "source": [
    "# SPX\n",
    "endValue = spx.iloc[-1]['value']\n",
    "# 'calcIRR' requires a DF as input\n",
    "initVal = pd.DataFrame([spx.iloc[0]])\n",
    "\n",
    "irr = calcIRR(initVal, endDate, endValue, 5)\n",
    "calcAnnualizedGrowth(irr)"
   ]
  },
  {
   "cell_type": "code",
   "execution_count": 35,
   "id": "dda7b9bc",
   "metadata": {},
   "outputs": [
    {
     "name": "stdout",
     "output_type": "stream",
     "text": [
      "Total: 133\n",
      "\n",
      "Annualized rate: 5.65%\n"
     ]
    }
   ],
   "source": [
    "# MSCI\n",
    "endValue = msci.iloc[-1]['value']\n",
    "# 'calcIRR' requires a DF as input\n",
    "initVal = pd.DataFrame([msci.iloc[0]])\n",
    "\n",
    "irr = calcIRR(initVal, endDate, endValue, 2)\n",
    "calcAnnualizedGrowth(irr)"
   ]
  },
  {
   "cell_type": "code",
   "execution_count": 40,
   "id": "0f7f75b6",
   "metadata": {},
   "outputs": [
    {
     "name": "stdout",
     "output_type": "stream",
     "text": [
      "Year     Return\n",
      "2021     26.9%\n",
      "2022     -19.4%\n",
      "2023     24.2%\n"
     ]
    }
   ],
   "source": [
    "calcAnnualReturn(spx)"
   ]
  },
  {
   "cell_type": "code",
   "execution_count": null,
   "id": "11e52454",
   "metadata": {},
   "outputs": [],
   "source": []
  }
 ],
 "metadata": {
  "kernelspec": {
   "display_name": "Python 3 (ipykernel)",
   "language": "python",
   "name": "python3"
  },
  "language_info": {
   "codemirror_mode": {
    "name": "ipython",
    "version": 3
   },
   "file_extension": ".py",
   "mimetype": "text/x-python",
   "name": "python",
   "nbconvert_exporter": "python",
   "pygments_lexer": "ipython3",
   "version": "3.9.15"
  }
 },
 "nbformat": 4,
 "nbformat_minor": 5
}
