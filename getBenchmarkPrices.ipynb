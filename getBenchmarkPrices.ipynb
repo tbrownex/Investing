{
 "cells": [
  {
   "cell_type": "code",
   "execution_count": 1,
   "id": "5b96d0e3",
   "metadata": {},
   "outputs": [],
   "source": [
    "import requests\n",
    "import json\n",
    "import pandas as pd\n",
    "import datetime\n",
    "\n",
    "from utils import formatURL\n",
    "from config import getConfig"
   ]
  },
  {
   "cell_type": "code",
   "execution_count": 2,
   "id": "f577d17c",
   "metadata": {},
   "outputs": [],
   "source": [
    "def getData(symbol, fromDt, toDt):\n",
    "    url = baseURL + '&symbols=' + symbol + '&date_from='+ fromDt + '&date_to='+ toDt\n",
    "    return requests.get(url).json()"
   ]
  },
  {
   "cell_type": "code",
   "execution_count": 3,
   "id": "9f83356d",
   "metadata": {},
   "outputs": [],
   "source": [
    "def createDF(resp):\n",
    "    # Input is the \"get\" response for a Symbol\n",
    "    # Return a formatted df with the dates and prices\n",
    "    dtList = []\n",
    "    valList = []\n",
    "    divList = []\n",
    "    for row in resp['data']:\n",
    "        dtList.append(row['date'][:10])\n",
    "        valList.append(row['close'])\n",
    "        divList.append(row['dividend'])\n",
    "    d = {}\n",
    "    d['date'] = dtList\n",
    "    d['value'] = valList\n",
    "    d['dividend'] = divList\n",
    "    return pd.DataFrame(d).sort_values('date')"
   ]
  },
  {
   "cell_type": "code",
   "execution_count": 4,
   "id": "71742c49",
   "metadata": {},
   "outputs": [
    {
     "data": {
      "text/plain": [
       "\"def getStartDt(maxDates, symbol):\\n    startDt = maxDates.get(symbol, None)\\n    if startDt:\\n        startDt =  startDt + datetime.timedelta(days=1)\\n    else:\\n        startDt = pd.to_datetime('2012-01-01').date()\\n    endDt = startDt + datetime.timedelta(days=365)\\n    return startDt, endDt\""
      ]
     },
     "execution_count": 4,
     "metadata": {},
     "output_type": "execute_result"
    }
   ],
   "source": [
    "'''def getStartDt(maxDates, symbol):\n",
    "    startDt = maxDates.get(symbol, None)\n",
    "    if startDt:\n",
    "        startDt =  startDt + datetime.timedelta(days=1)\n",
    "    else:\n",
    "        startDt = pd.to_datetime('2012-01-01').date()\n",
    "    endDt = startDt + datetime.timedelta(days=365)\n",
    "    return startDt, endDt'''"
   ]
  },
  {
   "cell_type": "code",
   "execution_count": 4,
   "id": "0f97c6f5",
   "metadata": {},
   "outputs": [],
   "source": [
    "cfg = getConfig()\n",
    "baseURL = formatURL('eod')"
   ]
  },
  {
   "cell_type": "code",
   "execution_count": 6,
   "id": "fdf46f31",
   "metadata": {},
   "outputs": [
    {
     "data": {
      "text/plain": [
       "\"currentSymbols = set(df.fund)\\nmaxDates = {}\\nfor s in currentSymbols:\\n    maxDates[s] = df[df['fund']==s]['date'].max()\""
      ]
     },
     "execution_count": 6,
     "metadata": {},
     "output_type": "execute_result"
    }
   ],
   "source": [
    "# The dictionary will hold the most recent date where we have data for each fund\n",
    "'''currentSymbols = set(df.fund)\n",
    "maxDates = {}\n",
    "for s in currentSymbols:\n",
    "    maxDates[s] = df[df['fund']==s]['date'].max()'''"
   ]
  },
  {
   "cell_type": "code",
   "execution_count": 5,
   "id": "9e90f6df",
   "metadata": {},
   "outputs": [],
   "source": [
    "symbol = 'GSPC.INDX'    # S&P 500\n",
    "symbol = 'URTH'         # MSCI World\n",
    "\n",
    "today = str(datetime.datetime.today().date())\n",
    "apiResp = getData(symbol, '2020-01-01', '2024-01-01', )\n",
    "df = createDF(apiResp)"
   ]
  },
  {
   "cell_type": "code",
   "execution_count": 6,
   "id": "0d417685",
   "metadata": {},
   "outputs": [],
   "source": [
    "df['date'] = df['date'].apply(lambda x: pd.to_datetime(x).date())\n",
    "df['year'] = df['date'].apply(lambda x: x.year)\n",
    "df['month'] = df['date'].apply(lambda x: x.month)"
   ]
  },
  {
   "cell_type": "code",
   "execution_count": 7,
   "id": "9c0633ce",
   "metadata": {},
   "outputs": [],
   "source": [
    "# Data is daily: keep only the last day of the month\n",
    "grp = df.groupby(['year', 'month'])['date'].max().values\n",
    "df = df[df['date'].isin(grp)]\n",
    "df = df[['date', 'value', 'dividend']]"
   ]
  },
  {
   "cell_type": "code",
   "execution_count": 8,
   "id": "c7a0fa5e",
   "metadata": {},
   "outputs": [],
   "source": [
    "#fileName = cfg['SPX']['dataLoc']+ cfg['SPX']['fileName']\n",
    "fileName = cfg['MSCI']['dataLoc']+ cfg['MSCI']['fileName']\n",
    "df.to_csv(fileName, index=False)"
   ]
  },
  {
   "cell_type": "code",
   "execution_count": 62,
   "id": "5737f130",
   "metadata": {},
   "outputs": [],
   "source": [
    "msciB = tmp"
   ]
  },
  {
   "cell_type": "code",
   "execution_count": 60,
   "id": "d9cc83e4",
   "metadata": {},
   "outputs": [
    {
     "data": {
      "text/plain": [
       "('2020-01-02', '2021-12-31')"
      ]
     },
     "execution_count": 60,
     "metadata": {},
     "output_type": "execute_result"
    }
   ],
   "source": [
    "msciA['date'].min(), msciA['date'].max()"
   ]
  },
  {
   "cell_type": "code",
   "execution_count": 63,
   "id": "7577a63e",
   "metadata": {},
   "outputs": [
    {
     "data": {
      "text/plain": [
       "('2022-01-03', '2023-12-29')"
      ]
     },
     "execution_count": 63,
     "metadata": {},
     "output_type": "execute_result"
    }
   ],
   "source": [
    "msciB['date'].min(), msciB['date'].max()"
   ]
  },
  {
   "cell_type": "code",
   "execution_count": 64,
   "id": "126bff51",
   "metadata": {},
   "outputs": [],
   "source": [
    "df = pd.concat([msciA, msciB])"
   ]
  },
  {
   "cell_type": "code",
   "execution_count": 70,
   "id": "ffe9fec8",
   "metadata": {},
   "outputs": [],
   "source": [
    "fromDt, toDt = getStartDt(maxDates, symbol)\n",
    "apiResp = getData(symbol, fromDt, toDt)\n",
    "\n",
    "tmp = createDF(apiResp)\n",
    "tmp['fund'] = symbol\n",
    "\n",
    "dfList = []\n",
    "dfList.append(tmp)\n",
    "while toDt < datetime.date.today():\n",
    "    fromDt = toDt + datetime.timedelta(days=1)\n",
    "    toDt = toDt + datetime.timedelta(days=365)\n",
    "    apiResp = getData(symbol, fromDt, toDt)\n",
    "    tmp = createDF(apiResp)\n",
    "    tmp['fund'] = symbol\n",
    "    dfList.append(tmp)\n",
    "\n",
    "upd = pd.concat(dfList).drop_duplicates().dropna()\n",
    "upd = upd.sort_values(['fund', 'date']).reset_index(drop=True)\n",
    "upd['date'] = upd['date'].apply(lambda x: pd.to_datetime(x).date())\n",
    "\n",
    "df = pd.concat([df, upd])"
   ]
  },
  {
   "cell_type": "code",
   "execution_count": 71,
   "id": "6ea50038",
   "metadata": {},
   "outputs": [
    {
     "data": {
      "text/plain": [
       "fund\n",
       "990100.INDX       2022-07-15\n",
       "ARKK              2022-08-11\n",
       "CCJ               2022-08-11\n",
       "COMB              2022-08-11\n",
       "MSCIALL.INDX      2022-07-15\n",
       "MSCIEAFE.INDX     2022-07-15\n",
       "MSCIWORLD.INDX    2022-07-15\n",
       "QYLD              2022-08-11\n",
       "RYLD              2022-08-11\n",
       "SP500TR.INDX      2022-08-12\n",
       "Name: date, dtype: object"
      ]
     },
     "execution_count": 71,
     "metadata": {},
     "output_type": "execute_result"
    }
   ],
   "source": [
    "# Check that all funds were updated\n",
    "df.groupby('fund')['date'].max()"
   ]
  },
  {
   "cell_type": "code",
   "execution_count": 58,
   "id": "0e299d2c",
   "metadata": {},
   "outputs": [],
   "source": [
    "# Just in case I ran the same symbol twice\n",
    "df = df.drop_duplicates()\n",
    "# Fill NaN dividend with 0\n",
    "df.fillna(0, inplace=True)"
   ]
  },
  {
   "cell_type": "code",
   "execution_count": 59,
   "id": "1e0bcb2f",
   "metadata": {},
   "outputs": [],
   "source": [
    "df.to_csv(cfg['dataLoc']+'fundData.csv', index=False)"
   ]
  },
  {
   "cell_type": "code",
   "execution_count": null,
   "id": "a70a89ba",
   "metadata": {},
   "outputs": [],
   "source": []
  }
 ],
 "metadata": {
  "kernelspec": {
   "display_name": "Python 3 (ipykernel)",
   "language": "python",
   "name": "python3"
  },
  "language_info": {
   "codemirror_mode": {
    "name": "ipython",
    "version": 3
   },
   "file_extension": ".py",
   "mimetype": "text/x-python",
   "name": "python",
   "nbconvert_exporter": "python",
   "pygments_lexer": "ipython3",
   "version": "3.9.15"
  }
 },
 "nbformat": 4,
 "nbformat_minor": 5
}
