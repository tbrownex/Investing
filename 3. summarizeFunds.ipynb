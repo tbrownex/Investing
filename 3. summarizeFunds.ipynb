{
 "cells": [
  {
   "cell_type": "code",
   "execution_count": 17,
   "id": "132ec31c",
   "metadata": {},
   "outputs": [],
   "source": [
    "import glob\n",
    "import pandas as pd\n",
    "import numpy as np"
   ]
  },
  {
   "cell_type": "code",
   "execution_count": 18,
   "id": "8a373255",
   "metadata": {},
   "outputs": [],
   "source": [
    "inputLoc = '/home/tbrownex/data/retirement/funds/normalized/*'\n",
    "outputLoc = '/home/tbrownex/data/retirement/funds/'"
   ]
  },
  {
   "cell_type": "code",
   "execution_count": 70,
   "id": "c7e1f36e",
   "metadata": {},
   "outputs": [],
   "source": [
    "def calcMonthlyGrowthRate(df, fundName):\n",
    "    # computes the compounded monthly return for a fund\n",
    "    initVal = df.iloc[0][fundName]\n",
    "    finalVal = df.iloc[-1][fundName]\n",
    "    numMonths = len(df)\n",
    "    return 1+np.rate(nper=numMonths, pmt=0, pv=-initVal, fv=finalVal)"
   ]
  },
  {
   "cell_type": "code",
   "execution_count": 71,
   "id": "39d5fc4b",
   "metadata": {},
   "outputs": [],
   "source": [
    "def calcOverallAcct(df):\n",
    "    # For each year compute the average pctChg across all funds\n",
    "    cols = [col for col in df.columns if 'pctChg' in col]\n",
    "    tmp = df[cols]\n",
    "    total_pctChg = tmp.mean(axis=1)\n",
    "    # Now the variance of those returns\n",
    "    std = round(total_pctChg.std(), 3)\n",
    "    # Given the average return for each year, compute the annualized \n",
    "    # return across all years\n",
    "    cumRet = total_pctChg.cumprod().dropna()\n",
    "    numYears = len(cumRet)/12\n",
    "    rate = round(np.power(cumRet[-1], 1/numYears), 4)\n",
    "    \n",
    "    d={}\n",
    "    d['total']= {'var': std, 'annualGrowth': rate}\n",
    "    return pd.DataFrame.from_dict(d).T"
   ]
  },
  {
   "cell_type": "code",
   "execution_count": 72,
   "id": "bb5e9d65",
   "metadata": {},
   "outputs": [],
   "source": [
    "def processFund(df, fundName):\n",
    "    '''  For each fund get the:\n",
    "    - volatility of monthly returns\n",
    "    - annualized growth rate '''\n",
    "    df.set_index('date', inplace=True)\n",
    "    df.sort_index(inplace=True)\n",
    "    df[\"pctChg\"] = df[fundName].pct_change()\n",
    "    d = {'volatilty': df['pctChg'].std(),\n",
    "         'annualReturn': calcMonthlyGrowthRate(df, fundName)}\n",
    "    return pd.DataFrame(d, index=[fundName])"
   ]
  },
  {
   "cell_type": "code",
   "execution_count": 73,
   "id": "d0212dfd",
   "metadata": {},
   "outputs": [],
   "source": [
    "def formatFund(fund):\n",
    "    fundName = fund.split(\"/normalized/\")[1]\n",
    "    return fundName.split(\".csv\")[0]"
   ]
  },
  {
   "cell_type": "code",
   "execution_count": 76,
   "id": "76cfaaa1",
   "metadata": {},
   "outputs": [
    {
     "name": "stdout",
     "output_type": "stream",
     "text": [
      "ANAYX\n",
      "PHYTX\n",
      "NUSI\n",
      "PCLPX\n",
      "IJH\n",
      "RYLD\n",
      "COIIX\n",
      "MEIIX\n",
      "PZTRX\n",
      "PEP\n",
      "QYLD\n",
      "VEA\n",
      "VFIAX\n",
      "TRBCX\n",
      "EFA\n",
      "VAIPX\n",
      "IJR\n",
      "PIREX\n",
      "NFFFX\n",
      "TEAFX\n",
      "PRILX\n",
      "POSIX\n",
      "GSDIX\n",
      "NHMRX\n",
      "MTIIX\n",
      "SKIRX\n",
      "PONPX\n",
      "COVRX\n"
     ]
    },
    {
     "name": "stderr",
     "output_type": "stream",
     "text": [
      "<ipython-input-70-45c5a9fcbb97>:6: DeprecationWarning: numpy.rate is deprecated and will be removed from NumPy 1.20. Use numpy_financial.rate instead (https://pypi.org/project/numpy-financial/).\n",
      "  return 1+np.rate(nper=numMonths, pmt=0, pv=-initVal, fv=finalVal)\n"
     ]
    }
   ],
   "source": [
    "dfList = []\n",
    "\n",
    "for fund in glob.glob(inputLoc):\n",
    "    fundName = formatFund(fund)\n",
    "    print(fundName)\n",
    "    df = pd.read_csv(fund)\n",
    "    summary = processFund(df, fundName)\n",
    "    dfList.append(summary)"
   ]
  },
  {
   "cell_type": "code",
   "execution_count": 78,
   "id": "0d40faef",
   "metadata": {},
   "outputs": [],
   "source": [
    "summary = pd.concat(dfList)\n",
    "summary = summary.round(3)\n",
    "summary.reset_index(inplace=True)\n",
    "summary.rename(columns={'index': 'fund'}, inplace=True)\n",
    "summary.to_csv(outputLoc+'fundSummary.csv', index=False)"
   ]
  }
 ],
 "metadata": {
  "kernelspec": {
   "display_name": "tensorflow",
   "language": "python",
   "name": "tensorflow"
  },
  "language_info": {
   "codemirror_mode": {
    "name": "ipython",
    "version": 3
   },
   "file_extension": ".py",
   "mimetype": "text/x-python",
   "name": "python",
   "nbconvert_exporter": "python",
   "pygments_lexer": "ipython3",
   "version": "3.8.10"
  }
 },
 "nbformat": 4,
 "nbformat_minor": 5
}
