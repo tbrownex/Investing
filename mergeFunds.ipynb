{
 "cells": [
  {
   "cell_type": "code",
   "execution_count": 1,
   "id": "ae49cd07",
   "metadata": {},
   "outputs": [],
   "source": [
    "import os\n",
    "import pandas as pd"
   ]
  },
  {
   "cell_type": "code",
   "execution_count": 15,
   "id": "d379346c",
   "metadata": {},
   "outputs": [],
   "source": [
    "'''There are 2 accounts: \"IRA\" and \"Advisory Brokerage\"\n",
    "Treat the 2 accounts individually...no mixing of statistics '''\n",
    "d={}\n",
    "\n",
    "# IRA has a cash fund NMFD which can be ignored\n",
    "d['IRA'] = ['ANAYX', 'COIIX', 'COVRX', 'EFA', 'GSDIX', 'HLGAX','IJH', 'IJR', 'MEIIX',\n",
    "           'MTIIX', 'NFFFX', 'PCLPX', 'PHYTX', 'PIREX', 'PONPX', 'POSIX',\n",
    "           'PRILX', 'PZTRX', 'SKIRX', 'TRBCX', 'VAIPX', 'VBILX', 'VEA', 'VFIAX']\n",
    "\n",
    "# Advisory has a cash fund NMFX which can be ignored\n",
    "d['AdvisoryBrokerage'] = ['COIIX', 'EFA', 'HLGAX','IJH', 'IJR', 'MEIIX',\n",
    "           'MTIIX', 'NFFFX', 'NHMRX', 'PCLPX', 'PIREX', 'PONPX', 'PRILX', \n",
    "                           'SKIRX', 'TEAFX', 'TRBCX', 'VEA', 'VFIAX']\n",
    "\n",
    "# Brokerage has a cash fund NMFX which can be ignored\n",
    "d['Brokerage'] = ['PEP', 'KBH']\n",
    "\n",
    "# Create the full name of the csv file for each fund\n",
    "d['IRA'] = [x+'.csv' for x in d['IRA']]\n",
    "d['AdvisoryBrokerage'] = [x+'.csv' for x in d['AdvisoryBrokerage']]\n",
    "d['Brokerage'] = [x+'.csv' for x in d['Brokerage']]"
   ]
  },
  {
   "cell_type": "code",
   "execution_count": 22,
   "id": "d8d4d7ae",
   "metadata": {},
   "outputs": [],
   "source": [
    "key = 'IRA'\n",
    "#key = 'IRA'\n",
    "assert key in d.keys(), 'invalid key'"
   ]
  },
  {
   "cell_type": "code",
   "execution_count": 23,
   "id": "a86ace47",
   "metadata": {},
   "outputs": [],
   "source": [
    "dataLoc = '/home/tbrownex/data/retirement/accounts/'\n",
    "cols = ['Date', 'Close']"
   ]
  },
  {
   "cell_type": "code",
   "execution_count": 24,
   "id": "e0251afb",
   "metadata": {},
   "outputs": [],
   "source": [
    "def processFund(csv):\n",
    "    df = pd.read_csv(dataLoc+csv)\n",
    "    df = df[cols]\n",
    "    fundName = csv.split('.')[0]\n",
    "    df.rename(columns={\"Date\": 'date', \"Close\": fundName}, inplace=True)\n",
    "    df.set_index('date', inplace=True)\n",
    "    return df"
   ]
  },
  {
   "cell_type": "code",
   "execution_count": 25,
   "id": "1f2936b5",
   "metadata": {},
   "outputs": [],
   "source": [
    "dfList = []\n",
    "for a, b, f in os.walk(dataLoc):\n",
    "    for csv in f:\n",
    "        if csv in d[key]:\n",
    "            df = processFund(csv)\n",
    "            dfList.append(df)\n",
    "df = pd.concat(dfList, axis=1)"
   ]
  },
  {
   "cell_type": "code",
   "execution_count": 26,
   "id": "8cbe6939",
   "metadata": {},
   "outputs": [],
   "source": [
    "df.sort_index(inplace=True)"
   ]
  },
  {
   "cell_type": "code",
   "execution_count": 27,
   "id": "6f4105ed",
   "metadata": {},
   "outputs": [],
   "source": [
    "fileName = 'merged_'+key+'.csv'\n",
    "output = dataLoc+fileName\n",
    "df.to_csv(output)"
   ]
  }
 ],
 "metadata": {
  "kernelspec": {
   "display_name": "tensorflow",
   "language": "python",
   "name": "tensorflow"
  },
  "language_info": {
   "codemirror_mode": {
    "name": "ipython",
    "version": 3
   },
   "file_extension": ".py",
   "mimetype": "text/x-python",
   "name": "python",
   "nbconvert_exporter": "python",
   "pygments_lexer": "ipython3",
   "version": "3.8.10"
  }
 },
 "nbformat": 4,
 "nbformat_minor": 5
}
