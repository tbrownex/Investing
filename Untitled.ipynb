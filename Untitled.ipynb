{
 "cells": [
  {
   "cell_type": "code",
   "execution_count": 4,
   "id": "18736a4e",
   "metadata": {},
   "outputs": [],
   "source": [
    "import pandas as pd"
   ]
  },
  {
   "cell_type": "code",
   "execution_count": 10,
   "id": "5794ccd7",
   "metadata": {},
   "outputs": [],
   "source": [
    "%store -r"
   ]
  },
  {
   "cell_type": "code",
   "execution_count": 16,
   "id": "80571c0a",
   "metadata": {},
   "outputs": [],
   "source": [
    "df = pd.read_csv('/home/tbrownex/data/investing/'+'SPY_yahoo.csv')"
   ]
  },
  {
   "cell_type": "code",
   "execution_count": 20,
   "id": "9832aa33",
   "metadata": {},
   "outputs": [],
   "source": [
    "df = df[['Date', 'Close']]\n",
    "df.columns=['date', 'close']"
   ]
  },
  {
   "cell_type": "code",
   "execution_count": 23,
   "id": "0ae5a6b0",
   "metadata": {},
   "outputs": [],
   "source": [
    "df.to_csv('/home/tbrownex/data/investing/'+'spx.csv', index=False)"
   ]
  }
 ],
 "metadata": {
  "kernelspec": {
   "display_name": "Python 3 (ipykernel)",
   "language": "python",
   "name": "python3"
  },
  "language_info": {
   "codemirror_mode": {
    "name": "ipython",
    "version": 3
   },
   "file_extension": ".py",
   "mimetype": "text/x-python",
   "name": "python",
   "nbconvert_exporter": "python",
   "pygments_lexer": "ipython3",
   "version": "3.9.15"
  }
 },
 "nbformat": 4,
 "nbformat_minor": 5
}
