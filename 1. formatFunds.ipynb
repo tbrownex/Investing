{
 "cells": [
  {
   "cell_type": "code",
   "execution_count": 1,
   "id": "cbb3e70d",
   "metadata": {},
   "outputs": [],
   "source": [
    "import glob\n",
    "import pandas as pd"
   ]
  },
  {
   "cell_type": "code",
   "execution_count": 2,
   "id": "1387a7ac",
   "metadata": {},
   "outputs": [],
   "source": [
    "raw = '/home/tbrownex/data/retirement/funds/raw/*'\n",
    "clean = '/home/tbrownex/data/retirement/funds/formatted/'"
   ]
  },
  {
   "cell_type": "code",
   "execution_count": 15,
   "id": "ee3df9c3",
   "metadata": {},
   "outputs": [],
   "source": [
    "def formatFund(fund):\n",
    "    df = pd.read_csv(fund)\n",
    "    \n",
    "    # Get the fund name\n",
    "    fundName = fund.split(\"/raw/\")[1].split(\".csv\")[0]\n",
    "    df = df[['Date', 'Close']]\n",
    "    \n",
    "    df.columns=['date', fundName]\n",
    "    df[fundName] = df[fundName].apply(lambda x: round(x, 2))\n",
    "    \n",
    "    df.to_csv(clean+fundName+'.csv', index=False)"
   ]
  },
  {
   "cell_type": "code",
   "execution_count": 16,
   "id": "29f060c3",
   "metadata": {},
   "outputs": [
    {
     "name": "stdout",
     "output_type": "stream",
     "text": [
      "/home/tbrownex/data/retirement/funds/raw/ANAYX.csv\n",
      "/home/tbrownex/data/retirement/funds/raw/PHYTX.csv\n",
      "/home/tbrownex/data/retirement/funds/raw/NUSI.csv\n",
      "/home/tbrownex/data/retirement/funds/raw/PCLPX.csv\n",
      "/home/tbrownex/data/retirement/funds/raw/IJH.csv\n",
      "/home/tbrownex/data/retirement/funds/raw/RYLD.csv\n",
      "/home/tbrownex/data/retirement/funds/raw/COIIX.csv\n",
      "/home/tbrownex/data/retirement/funds/raw/MEIIX.csv\n",
      "/home/tbrownex/data/retirement/funds/raw/PZTRX.csv\n",
      "/home/tbrownex/data/retirement/funds/raw/PEP.csv\n",
      "/home/tbrownex/data/retirement/funds/raw/QYLD.csv\n",
      "/home/tbrownex/data/retirement/funds/raw/VEA.csv\n",
      "/home/tbrownex/data/retirement/funds/raw/VFIAX.csv\n",
      "/home/tbrownex/data/retirement/funds/raw/TRBCX.csv\n",
      "/home/tbrownex/data/retirement/funds/raw/EFA.csv\n",
      "/home/tbrownex/data/retirement/funds/raw/VAIPX.csv\n",
      "/home/tbrownex/data/retirement/funds/raw/IJR.csv\n",
      "/home/tbrownex/data/retirement/funds/raw/PIREX.csv\n",
      "/home/tbrownex/data/retirement/funds/raw/NFFFX.csv\n",
      "/home/tbrownex/data/retirement/funds/raw/TEAFX.csv\n",
      "/home/tbrownex/data/retirement/funds/raw/PRILX.csv\n",
      "/home/tbrownex/data/retirement/funds/raw/POSIX.csv\n",
      "/home/tbrownex/data/retirement/funds/raw/GSDIX.csv\n",
      "/home/tbrownex/data/retirement/funds/raw/NHMRX.csv\n",
      "/home/tbrownex/data/retirement/funds/raw/MTIIX.csv\n",
      "/home/tbrownex/data/retirement/funds/raw/SKIRX.csv\n",
      "/home/tbrownex/data/retirement/funds/raw/PONPX.csv\n",
      "/home/tbrownex/data/retirement/funds/raw/COVRX.csv\n"
     ]
    }
   ],
   "source": [
    "for fund in glob.glob(raw):\n",
    "    print(fund)\n",
    "    formatFund(fund)"
   ]
  }
 ],
 "metadata": {
  "kernelspec": {
   "display_name": "tensorflow",
   "language": "python",
   "name": "tensorflow"
  },
  "language_info": {
   "codemirror_mode": {
    "name": "ipython",
    "version": 3
   },
   "file_extension": ".py",
   "mimetype": "text/x-python",
   "name": "python",
   "nbconvert_exporter": "python",
   "pygments_lexer": "ipython3",
   "version": "3.8.10"
  }
 },
 "nbformat": 4,
 "nbformat_minor": 5
}
