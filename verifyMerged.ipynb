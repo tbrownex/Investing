{
 "cells": [
  {
   "cell_type": "code",
   "execution_count": 7,
   "id": "e44558d5",
   "metadata": {},
   "outputs": [],
   "source": [
    "import pandas as pd\n",
    "import random"
   ]
  },
  {
   "cell_type": "markdown",
   "id": "3d604f83",
   "metadata": {},
   "source": [
    "##### Make sure the merged values match the raw data"
   ]
  },
  {
   "cell_type": "code",
   "execution_count": 8,
   "id": "0d7911e1",
   "metadata": {},
   "outputs": [],
   "source": [
    "dataLoc = '/home/tbrownex/data/retirement/accounts/'\n",
    "account = 'AdvisoryBrokerage'\n",
    "#account = 'IRA'\n",
    "df = pd.read_csv(dataLoc+'merged_'+account+'.csv')\n",
    "df.set_index('date', inplace=True)"
   ]
  },
  {
   "cell_type": "code",
   "execution_count": 9,
   "id": "04faa5d9",
   "metadata": {},
   "outputs": [],
   "source": [
    "def getRawFundData(fund):\n",
    "    raw = pd.read_csv(dataLoc+fund+'.csv')\n",
    "    raw.rename(columns={'Date': 'date'}, inplace=True)\n",
    "    raw = raw[['date', 'Close']]\n",
    "    raw = raw.set_index('date')\n",
    "    return raw"
   ]
  },
  {
   "cell_type": "code",
   "execution_count": 10,
   "id": "cbebc07a",
   "metadata": {},
   "outputs": [],
   "source": [
    "funds = df.columns.tolist()\n",
    "\n",
    "for fund in funds:\n",
    "    raw = getRawFundData(fund)\n",
    "    tmp = df[[fund]]\n",
    "    tmp.columns=['mergedVal']\n",
    "    tmp = tmp.join(raw)\n",
    "    tmp['diff'] = abs(tmp['mergedVal']-tmp['Close'])\n",
    "    if tmp['diff'].max() > 1.0:\n",
    "        print('error in fund: ', fund)"
   ]
  }
 ],
 "metadata": {
  "kernelspec": {
   "display_name": "tensorflow",
   "language": "python",
   "name": "tensorflow"
  },
  "language_info": {
   "codemirror_mode": {
    "name": "ipython",
    "version": 3
   },
   "file_extension": ".py",
   "mimetype": "text/x-python",
   "name": "python",
   "nbconvert_exporter": "python",
   "pygments_lexer": "ipython3",
   "version": "3.8.5"
  }
 },
 "nbformat": 4,
 "nbformat_minor": 5
}
