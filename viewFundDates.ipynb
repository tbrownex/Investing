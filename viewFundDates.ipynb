{
 "cells": [
  {
   "cell_type": "code",
   "execution_count": null,
   "id": "7231c172",
   "metadata": {},
   "outputs": [],
   "source": [
    "import pandas as pd\n",
    "\n",
    "from config import getConfig"
   ]
  },
  {
   "cell_type": "code",
   "execution_count": null,
   "id": "e0dae24f",
   "metadata": {},
   "outputs": [],
   "source": [
    "def viewDates(df):\n",
    "    startDts = df.groupby('fund')['date'].min()\n",
    "    endDts = df.groupby('fund')['date'].max()\n",
    "    startDts.name='Start'\n",
    "    endDts.name='End'\n",
    "\n",
    "    print(pd.merge(startDts, endDts, left_index=True, right_index=True))"
   ]
  },
  {
   "cell_type": "code",
   "execution_count": null,
   "id": "2a839da2",
   "metadata": {},
   "outputs": [],
   "source": [
    "cfg = getConfig()\n",
    "df = pd.read_csv(cfg['dataLoc']+'fundData.csv')\n",
    "\n",
    "df['date'] = df['date'].apply(lambda x: pd.to_datetime(x).date())"
   ]
  },
  {
   "cell_type": "code",
   "execution_count": null,
   "id": "7d0eb46f",
   "metadata": {},
   "outputs": [],
   "source": [
    "viewDates(df)"
   ]
  }
 ],
 "metadata": {
  "kernelspec": {
   "display_name": "tensorflow",
   "language": "python",
   "name": "tensorflow"
  },
  "language_info": {
   "codemirror_mode": {
    "name": "ipython",
    "version": 3
   },
   "file_extension": ".py",
   "mimetype": "text/x-python",
   "name": "python",
   "nbconvert_exporter": "python",
   "pygments_lexer": "ipython3",
   "version": "3.8.10"
  }
 },
 "nbformat": 4,
 "nbformat_minor": 5
}
