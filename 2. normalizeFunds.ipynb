{
 "cells": [
  {
   "cell_type": "code",
   "execution_count": 1,
   "id": "132ec31c",
   "metadata": {},
   "outputs": [],
   "source": [
    "import glob\n",
    "import pandas as pd\n",
    "import numpy as np"
   ]
  },
  {
   "cell_type": "code",
   "execution_count": 2,
   "id": "8a373255",
   "metadata": {},
   "outputs": [],
   "source": [
    "inputLoc = '/home/tbrownex/data/retirement/funds/formatted/*'\n",
    "outputLoc = '/home/tbrownex/data/retirement/funds/normalized/'"
   ]
  },
  {
   "cell_type": "code",
   "execution_count": 67,
   "id": "39d5fc4b",
   "metadata": {},
   "outputs": [],
   "source": [
    "def calcOverallAcct(df):\n",
    "    # For each year compute the average pctChg across all funds\n",
    "    cols = [col for col in df.columns if 'pctChg' in col]\n",
    "    tmp = df[cols]\n",
    "    total_pctChg = tmp.mean(axis=1)\n",
    "    # Now the variance of those returns\n",
    "    std = round(total_pctChg.std(), 3)\n",
    "    # Given the average return for each year, compute the annualized \n",
    "    # return across all years\n",
    "    cumRet = total_pctChg.cumprod().dropna()\n",
    "    numYears = len(cumRet)/12\n",
    "    rate = round(np.power(cumRet[-1], 1/numYears), 4)\n",
    "    \n",
    "    d={}\n",
    "    d['total']= {'var': std, 'annualGrowth': rate}\n",
    "    return pd.DataFrame.from_dict(d).T"
   ]
  },
  {
   "cell_type": "code",
   "execution_count": 27,
   "id": "bb5e9d65",
   "metadata": {},
   "outputs": [],
   "source": [
    "def processFund(df, fundName):\n",
    "    '''  For each fund get the:\n",
    "    - month-by-month % change\n",
    "    - monthly fund value for initial $100 investment'''\n",
    "    df.set_index('date', inplace=True)\n",
    "    df.sort_index(inplace=True)\n",
    "    df[\"pctChg\"] = df.pct_change()+1\n",
    "    df = df.fillna(value=1.0)\n",
    "    df[fundName] = round(df['pctChg'].cumprod()*100,1)\n",
    "    return df[[fundName]]\n",
    "    '''    d[col] = round(df[col+\"_pctChg\"].std(),3)\n",
    "        ret.append(round(calcMonthlyGrowth(df), 4))\n",
    "    summary = pd.DataFrame.from_dict(d, orient='index', columns=['var'])\n",
    "    summary['annualGrowth'] = ret\n",
    "    total = calcOverallAcct(df)\n",
    "    summary = pd.concat([summary, total])\n",
    "    return df, summary'''"
   ]
  },
  {
   "cell_type": "code",
   "execution_count": 28,
   "id": "d0212dfd",
   "metadata": {},
   "outputs": [],
   "source": [
    "def formatFund(fund):\n",
    "    fundName = fund.split(\"/formatted/\")[1]\n",
    "    return fundName.split(\".csv\")[0]"
   ]
  },
  {
   "cell_type": "code",
   "execution_count": 29,
   "id": "488c9200",
   "metadata": {},
   "outputs": [
    {
     "name": "stdout",
     "output_type": "stream",
     "text": [
      "ANAYX\n",
      "PHYTX\n",
      "NUSI\n",
      "PCLPX\n",
      "IJH\n",
      "RYLD\n",
      "COIIX\n",
      "MEIIX\n",
      "PZTRX\n",
      "PEP\n",
      "QYLD\n",
      "VEA\n",
      "VFIAX\n",
      "TRBCX\n",
      "EFA\n",
      "VAIPX\n",
      "IJR\n",
      "PIREX\n",
      "NFFFX\n",
      "TEAFX\n",
      "PRILX\n",
      "POSIX\n",
      "GSDIX\n",
      "NHMRX\n",
      "MTIIX\n",
      "SKIRX\n",
      "PONPX\n",
      "COVRX\n"
     ]
    }
   ],
   "source": [
    "for fund in glob.glob(inputLoc):\n",
    "    fundName = formatFund(fund)\n",
    "    print(fundName)\n",
    "    df = pd.read_csv(fund)\n",
    "    df = processFund(df, fundName)\n",
    "    df.to_csv(outputLoc+fundName+'.csv')\n",
    "    #df, summary = processAccount(df)'''\n",
    "    # First row can be removed because it's all NaN due to pct_chg\n",
    "    '''df = df.iloc[1:]\n",
    "    df = df.round(2)\n",
    "    df = remCols(df)\n",
    "    #summary.reset_index(inplace=True)\n",
    "    #summary.rename(columns={'index': 'fund'}, inplace=True)\n",
    "    #summary.to_csv(dataLoc+'summary_'+acctName+'.csv', index=False)'''"
   ]
  }
 ],
 "metadata": {
  "kernelspec": {
   "display_name": "tensorflow",
   "language": "python",
   "name": "tensorflow"
  },
  "language_info": {
   "codemirror_mode": {
    "name": "ipython",
    "version": 3
   },
   "file_extension": ".py",
   "mimetype": "text/x-python",
   "name": "python",
   "nbconvert_exporter": "python",
   "pygments_lexer": "ipython3",
   "version": "3.8.10"
  }
 },
 "nbformat": 4,
 "nbformat_minor": 5
}
