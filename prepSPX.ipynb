{
 "cells": [
  {
   "cell_type": "code",
   "execution_count": 1,
   "id": "132ec31c",
   "metadata": {},
   "outputs": [],
   "source": [
    "import pandas as pd\n",
    "import numpy as np"
   ]
  },
  {
   "cell_type": "code",
   "execution_count": 22,
   "id": "c7e1f36e",
   "metadata": {},
   "outputs": [],
   "source": [
    "def calcAnnualGrowth(df, col):\n",
    "    # computes the compounded annual return for a fund\n",
    "    tmp = df[col].dropna()\n",
    "    initVal = tmp.iloc[0]\n",
    "    finalVal = tmp.iloc[-1]\n",
    "    numYears = len(tmp)/12\n",
    "    return (finalVal/initVal)**(1/numYears)"
   ]
  },
  {
   "cell_type": "code",
   "execution_count": 32,
   "id": "969c06cf",
   "metadata": {},
   "outputs": [],
   "source": [
    "dataLoc = '/home/tbrownex/data/retirement/benchmark/'\n",
    "df = pd.read_csv(dataLoc+'SPX.csv')"
   ]
  },
  {
   "cell_type": "code",
   "execution_count": 33,
   "id": "925f0282",
   "metadata": {},
   "outputs": [],
   "source": [
    "# Start from 1993-08-01 which is the first date we have Fund data for\n",
    "df = df[df['date']>='1993-08-01']"
   ]
  },
  {
   "cell_type": "code",
   "execution_count": 34,
   "id": "7b28b7dc",
   "metadata": {},
   "outputs": [
    {
     "data": {
      "text/plain": [
       "True"
      ]
     },
     "execution_count": 34,
     "metadata": {},
     "output_type": "execute_result"
    }
   ],
   "source": [
    "# Check if there are any missing dates\n",
    "start = df['date'].min()\n",
    "end = df['date'].max()\n",
    "dates = pd.date_range(start, end, freq='MS')\n",
    "len(dates)==len(df)"
   ]
  },
  {
   "cell_type": "code",
   "execution_count": 35,
   "id": "a0dbce9b",
   "metadata": {},
   "outputs": [],
   "source": [
    "'''  Similar to the Fund prep, get the:\n",
    "    - month-by-month % change\n",
    "    - monthly fund value for initial $100 investment\n",
    "    - volatility of monthly returns\n",
    "    - annualized growth rate '''\n",
    "df.set_index('date', inplace=True)\n",
    "svCols = df.columns\n",
    "d={}\n",
    "ret = []\n",
    "df[\"spx_pctChg\"] = df['close'].pct_change()+1\n",
    "df['spx_val'] = df['spx_pctChg'].cumprod()*100\n",
    "d['SPX'] = round(df[\"spx_pctChg\"].std(), 3)\n",
    "\n",
    "ret.append(round(calcAnnualGrowth(df, 'spx_val'), 4))"
   ]
  },
  {
   "cell_type": "code",
   "execution_count": 36,
   "id": "b8a15ca9",
   "metadata": {},
   "outputs": [],
   "source": [
    "summary = pd.DataFrame.from_dict(d, orient='index', columns=['var'])\n",
    "summary['annualGrowth'] = ret"
   ]
  },
  {
   "cell_type": "code",
   "execution_count": 37,
   "id": "56cb29e9",
   "metadata": {},
   "outputs": [],
   "source": [
    "summary.reset_index(inplace=True)\n",
    "summary.rename(columns={'index': 'fund'}, inplace=True)\n",
    "summary.to_csv('~/data/retirement/benchmark/summary_SPX.csv', index=False)"
   ]
  },
  {
   "cell_type": "code",
   "execution_count": 38,
   "id": "06a0f789",
   "metadata": {},
   "outputs": [],
   "source": [
    "df=df[['spx_val']]\n",
    "df.columns=['SPX']"
   ]
  },
  {
   "cell_type": "code",
   "execution_count": 39,
   "id": "c729098f",
   "metadata": {},
   "outputs": [],
   "source": [
    "df['SPX'] = df['SPX'].apply(lambda x: round(x,2))"
   ]
  },
  {
   "cell_type": "code",
   "execution_count": 40,
   "id": "05231263",
   "metadata": {},
   "outputs": [],
   "source": [
    "df.to_csv(\"~/data/retirement/benchmark/spxTotals.csv\")"
   ]
  }
 ],
 "metadata": {
  "kernelspec": {
   "display_name": "tensorflow",
   "language": "python",
   "name": "tensorflow"
  },
  "language_info": {
   "codemirror_mode": {
    "name": "ipython",
    "version": 3
   },
   "file_extension": ".py",
   "mimetype": "text/x-python",
   "name": "python",
   "nbconvert_exporter": "python",
   "pygments_lexer": "ipython3",
   "version": "3.8.10"
  }
 },
 "nbformat": 4,
 "nbformat_minor": 5
}
