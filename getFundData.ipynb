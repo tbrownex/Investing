{
 "cells": [
  {
   "cell_type": "code",
   "execution_count": 1,
   "id": "5b96d0e3",
   "metadata": {},
   "outputs": [],
   "source": [
    "import requests\n",
    "import json\n",
    "import pandas as pd"
   ]
  },
  {
   "cell_type": "code",
   "execution_count": 2,
   "id": "9f83356d",
   "metadata": {},
   "outputs": [],
   "source": [
    "def createDF(resp):\n",
    "    # Input is the \"get\" response for a Fund; return a formatted df with the dates and prices\n",
    "    dtList = []\n",
    "    valList = []\n",
    "    for row in resp['data']:\n",
    "        dtList.append(row['date'][:10])\n",
    "        valList.append(row['close'])\n",
    "    d = {}\n",
    "    d['fund'] = [fund for x in range(len(dtList))]\n",
    "    d['date'] = dtList\n",
    "    d['price'] = valList\n",
    "    return pd.DataFrame(d)"
   ]
  },
  {
   "cell_type": "code",
   "execution_count": 3,
   "id": "e56fbf1b",
   "metadata": {},
   "outputs": [],
   "source": [
    "def getShares(df, fund):\n",
    "    tmp = df.loc[fund]\n",
    "    tmp.sort_values('date', inplace=True)\n",
    "    return round(1000/tmp.iloc[0]['price'], 2)"
   ]
  },
  {
   "cell_type": "code",
   "execution_count": 4,
   "id": "d50efba5",
   "metadata": {},
   "outputs": [],
   "source": [
    "# TODO\n",
    "# Where is the data for DIISX?\n",
    "# from_date only goes back 100 days"
   ]
  },
  {
   "cell_type": "code",
   "execution_count": 5,
   "id": "3afd72f8",
   "metadata": {},
   "outputs": [],
   "source": [
    "marketStack = 'http://api.marketstack.com/v1/'\n",
    "access_key = 'ffa68edbfb08de7589a43751795e0e07'"
   ]
  },
  {
   "cell_type": "code",
   "execution_count": 6,
   "id": "194ad0c4",
   "metadata": {},
   "outputs": [],
   "source": [
    "# End of day\n",
    "baseURL = marketStack + 'eod' + '?access_key='+access_key"
   ]
  },
  {
   "cell_type": "code",
   "execution_count": 12,
   "id": "6be39f1f",
   "metadata": {},
   "outputs": [],
   "source": [
    "date_from='2016-01-01'\n",
    "baseURL = baseURL + '&date_from='+date_from"
   ]
  },
  {
   "cell_type": "code",
   "execution_count": 13,
   "id": "eb5fa590",
   "metadata": {},
   "outputs": [
    {
     "data": {
      "text/plain": [
       "'http://api.marketstack.com/v1/eod?access_key=ffa68edbfb08de7589a43751795e0e07&date_from=2016-01-01'"
      ]
     },
     "execution_count": 13,
     "metadata": {},
     "output_type": "execute_result"
    }
   ],
   "source": [
    "baseURL"
   ]
  },
  {
   "cell_type": "code",
   "execution_count": 15,
   "id": "c813ab6a",
   "metadata": {},
   "outputs": [],
   "source": [
    "funds = ['RYLD', 'ARKK', 'QYLD', 'NUSI', 'CCJ', 'COMB', 'JEPI', 'SPY']\n",
    "#funds = ['RYLD', 'ARKK', 'QYLD', 'NUSI', 'CCJ', 'COMB', 'JEPI', 'DIISX.INDX', 'SPY']"
   ]
  },
  {
   "cell_type": "code",
   "execution_count": 16,
   "id": "275b01bb",
   "metadata": {},
   "outputs": [],
   "source": [
    "dfList = []\n",
    "for fund in funds:\n",
    "    url = baseURL + '&symbols=' + fund\n",
    "    resp = requests.get(url).json()\n",
    "    tmp = createDF(resp)\n",
    "    dfList.append(tmp)"
   ]
  },
  {
   "cell_type": "code",
   "execution_count": 17,
   "id": "8a9d4141",
   "metadata": {},
   "outputs": [],
   "source": [
    "df = pd.concat(dfList)"
   ]
  },
  {
   "cell_type": "code",
   "execution_count": 18,
   "id": "4e40adc8",
   "metadata": {},
   "outputs": [
    {
     "data": {
      "text/html": [
       "<div>\n",
       "<style scoped>\n",
       "    .dataframe tbody tr th:only-of-type {\n",
       "        vertical-align: middle;\n",
       "    }\n",
       "\n",
       "    .dataframe tbody tr th {\n",
       "        vertical-align: top;\n",
       "    }\n",
       "\n",
       "    .dataframe thead th {\n",
       "        text-align: right;\n",
       "    }\n",
       "</style>\n",
       "<table border=\"1\" class=\"dataframe\">\n",
       "  <thead>\n",
       "    <tr style=\"text-align: right;\">\n",
       "      <th></th>\n",
       "      <th>fund</th>\n",
       "      <th>date</th>\n",
       "      <th>price</th>\n",
       "    </tr>\n",
       "  </thead>\n",
       "  <tbody>\n",
       "    <tr>\n",
       "      <th>0</th>\n",
       "      <td>RYLD</td>\n",
       "      <td>2022-06-07</td>\n",
       "      <td>21.460</td>\n",
       "    </tr>\n",
       "    <tr>\n",
       "      <th>1</th>\n",
       "      <td>RYLD</td>\n",
       "      <td>2022-06-06</td>\n",
       "      <td>21.430</td>\n",
       "    </tr>\n",
       "    <tr>\n",
       "      <th>2</th>\n",
       "      <td>RYLD</td>\n",
       "      <td>2022-06-03</td>\n",
       "      <td>21.370</td>\n",
       "    </tr>\n",
       "    <tr>\n",
       "      <th>3</th>\n",
       "      <td>RYLD</td>\n",
       "      <td>2022-06-02</td>\n",
       "      <td>21.405</td>\n",
       "    </tr>\n",
       "    <tr>\n",
       "      <th>4</th>\n",
       "      <td>RYLD</td>\n",
       "      <td>2022-06-01</td>\n",
       "      <td>21.290</td>\n",
       "    </tr>\n",
       "    <tr>\n",
       "      <th>...</th>\n",
       "      <td>...</td>\n",
       "      <td>...</td>\n",
       "      <td>...</td>\n",
       "    </tr>\n",
       "    <tr>\n",
       "      <th>95</th>\n",
       "      <td>SPY</td>\n",
       "      <td>2022-01-20</td>\n",
       "      <td>446.750</td>\n",
       "    </tr>\n",
       "    <tr>\n",
       "      <th>96</th>\n",
       "      <td>SPY</td>\n",
       "      <td>2022-01-19</td>\n",
       "      <td>451.750</td>\n",
       "    </tr>\n",
       "    <tr>\n",
       "      <th>97</th>\n",
       "      <td>SPY</td>\n",
       "      <td>2022-01-18</td>\n",
       "      <td>456.490</td>\n",
       "    </tr>\n",
       "    <tr>\n",
       "      <th>98</th>\n",
       "      <td>SPY</td>\n",
       "      <td>2022-01-14</td>\n",
       "      <td>464.720</td>\n",
       "    </tr>\n",
       "    <tr>\n",
       "      <th>99</th>\n",
       "      <td>SPY</td>\n",
       "      <td>2022-01-13</td>\n",
       "      <td>464.530</td>\n",
       "    </tr>\n",
       "  </tbody>\n",
       "</table>\n",
       "<p>800 rows × 3 columns</p>\n",
       "</div>"
      ],
      "text/plain": [
       "    fund        date    price\n",
       "0   RYLD  2022-06-07   21.460\n",
       "1   RYLD  2022-06-06   21.430\n",
       "2   RYLD  2022-06-03   21.370\n",
       "3   RYLD  2022-06-02   21.405\n",
       "4   RYLD  2022-06-01   21.290\n",
       "..   ...         ...      ...\n",
       "95   SPY  2022-01-20  446.750\n",
       "96   SPY  2022-01-19  451.750\n",
       "97   SPY  2022-01-18  456.490\n",
       "98   SPY  2022-01-14  464.720\n",
       "99   SPY  2022-01-13  464.530\n",
       "\n",
       "[800 rows x 3 columns]"
      ]
     },
     "execution_count": 18,
     "metadata": {},
     "output_type": "execute_result"
    }
   ],
   "source": [
    "df"
   ]
  },
  {
   "cell_type": "code",
   "execution_count": 12,
   "id": "b5833d94",
   "metadata": {},
   "outputs": [
    {
     "name": "stderr",
     "output_type": "stream",
     "text": [
      "<ipython-input-3-189b8613ca6e>:3: SettingWithCopyWarning: \n",
      "A value is trying to be set on a copy of a slice from a DataFrame\n",
      "\n",
      "See the caveats in the documentation: https://pandas.pydata.org/pandas-docs/stable/user_guide/indexing.html#returning-a-view-versus-a-copy\n",
      "  tmp.sort_values('date', inplace=True)\n"
     ]
    }
   ],
   "source": [
    "# Now you have all the fund prices and dates\n",
    "# Compute the number of shares $1000 would buy initially\n",
    "df.set_index('fund', inplace=True)\n",
    "shareList = []\n",
    "for fund in funds:\n",
    "    numShares = getShares(df, fund)\n",
    "    shareList.append(numShares)\n",
    "d = {}\n",
    "d['fund']=funds\n",
    "d['numShares'] = shareList\n",
    "\n",
    "shares = pd.DataFrame(d)"
   ]
  },
  {
   "cell_type": "code",
   "execution_count": 15,
   "id": "b9235de8",
   "metadata": {},
   "outputs": [],
   "source": [
    "df = shares.join(df, on='fund', how='inner')"
   ]
  },
  {
   "cell_type": "markdown",
   "id": "ff252e86",
   "metadata": {},
   "source": [
    "##### Compute fund values based on initial number of shares"
   ]
  },
  {
   "cell_type": "code",
   "execution_count": 21,
   "id": "138582f2",
   "metadata": {},
   "outputs": [],
   "source": [
    "df.loc[:, 'value'] = df['price']*df['numShares']\n",
    "df['value'] = df['value'].astype('int')"
   ]
  },
  {
   "cell_type": "code",
   "execution_count": 27,
   "id": "da7bed69",
   "metadata": {},
   "outputs": [],
   "source": [
    "df.to_csv('/home/tbrownex/data/retirement/funds/fundData.csv', index=False)"
   ]
  }
 ],
 "metadata": {
  "kernelspec": {
   "display_name": "tensorflow",
   "language": "python",
   "name": "tensorflow"
  },
  "language_info": {
   "codemirror_mode": {
    "name": "ipython",
    "version": 3
   },
   "file_extension": ".py",
   "mimetype": "text/x-python",
   "name": "python",
   "nbconvert_exporter": "python",
   "pygments_lexer": "ipython3",
   "version": "3.8.10"
  }
 },
 "nbformat": 4,
 "nbformat_minor": 5
}
